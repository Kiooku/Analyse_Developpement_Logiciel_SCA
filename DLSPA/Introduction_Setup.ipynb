{
 "cells": [
  {
   "cell_type": "markdown",
   "id": "777ad7df-1391-4c69-b7ca-04084d0229c8",
   "metadata": {},
   "source": [
    "# 1. Introduction aux attaques par canaux auxiliaires pour AES\n",
    "\n",
    "## 1.1 - Définition\n",
    "\n",
    "Les **attaques par canaux auxiliaires** ou *(Side-Channel Attacks ou **SCA**)* sont des **attaques passives** et **non-invasives** où l’attaquant va **observer** et **mesurer** les caractéristiques **analogiques de l’implémentation logicielle ou matérielle d’un algorithme de chiffrement**, afin d’extraire la clé de chiffrement. Les principales caractéristiques analogiques utilisées en SCA sont le **temps d’exécution**, la **consommation électrique** et les **émissions électromagnétiques**.\n",
    "\n",
    "## 1.2 - AES\n",
    "\n",
    "Advanced Encryption Standard *(**AES**)* est un algorithme de **chiffrement symétrique par blocs**, dérivé de la famille d'algorithmes de *Rijndael*, qui utilise différentes tailles de clés et de blocs. AES est utilisé en $3$ versions différentes, **AES-128** *($10$ rondes)*, **AES-192** *($12$ rondes)* et **AES-256** *($14$ rondes)* qui utilisent respectivement une **taille de clé de $128$, $192$ et $256$** bits ainsi qu'une **taille de blocs de $128$ bits**.\n",
    "\n",
    "\n",
    "### 1.2.1 - Rappel fonctionnement AES\n",
    "\n",
    "À chaque ronde, une clé distincte, nommée **Round Key** *($K_i$)*, est utilisée, et toutes ces clés sont dérivées\n",
    "de la clé secrète $K$.\n",
    "\n",
    "> **_NOTE:_**  La première et dernière ronde diffèrent des autres.\n",
    "\n",
    "<center>\n",
    "<img src=\"images/AESRounds.png\"\n",
    "     alt=\"Rondes AES-128\"\n",
    "     style=\"\" \n",
    "     width=\"200\"\n",
    "     height=\"auto\"/>\n",
    "</center>\n",
    "\n",
    "#### 1.2.1.1 - AddRoundKey\n",
    "\n",
    "Chaque bits du bloc de données en cours de chiffrement est $XOR$ avec la clé de la ronde $(Ki)$.\n",
    "\n",
    "<br>\n",
    "<center>\n",
    "<img src=\"images/aes_addroundkey.svg.png\"\n",
    "     alt=\"Operation AddRoundKey\"\n",
    "     style=\"\" \n",
    "     width=\"300\"\n",
    "     height=\"auto\"/>\n",
    "</center>\n",
    "\n",
    "#### 1.2.1.2 - SubBytes\n",
    "\n",
    "**Substitution non linéaire** où chaque octet de l’état est remplacé par un autre octet selon une table de correspondance *(table de substitution ou **S-box**)*. Cette substitution renforce la **diffusion** des données.\n",
    "\n",
    "<br>\n",
    "<center>\n",
    "<img src=\"images/aes_subbytes.png\"\n",
    "     alt=\"Operation AddRoundKey\"\n",
    "     style=\"\" \n",
    "     width=\"300\"\n",
    "     height=\"auto\"/>\n",
    "</center>\n",
    "\n",
    "#### 1.2.1.3 - ShiftRows\n",
    "\n",
    "Effectue une **transposition cyclique** des lignes de l’état. La première ligne reste inchangée, la deuxième est décalée d’un octet vers la gauche, la troisième de deux octets, et la quatrième de trois octets. Cela contribue à la **confusion** en modifiant l’ordre des données.\n",
    "\n",
    "<br>\n",
    "<center>\n",
    "<img src=\"images/aes_shiftrowssvg.png\"\n",
    "     alt=\"Operation AddRoundKey\"\n",
    "     style=\"\" \n",
    "     width=\"350\"\n",
    "     height=\"auto\"/>\n",
    "</center>\n",
    "\n",
    "\n",
    "#### 1.2.1.4 - MixColumns\n",
    "\n",
    "Opération de mélange linéaire sur les colonnes du bloc. Chaque colonne est multipliée par la matrice hexadécimal $4 \\times 4$ fixe suivante:\n",
    "\n",
    "$$\n",
    "C = \\begin{bmatrix}\n",
    "    02 & 03 & 01 & 01\\\\\n",
    "    01 & 02 & 03 & 01\\\\\n",
    "    01 & 01 & 02 & 03\\\\\n",
    "    03 & 01 & 01 & 02\n",
    "    \\end{bmatrix}\n",
    "$$\n",
    "\n",
    "<br>\n",
    "<center>\n",
    "<img src=\"images/aes_mixcolumns.png\"\n",
    "     alt=\"Operation AddRoundKey\"\n",
    "     style=\"\" \n",
    "     width=\"300\"\n",
    "     height=\"auto\"/>\n",
    "</center>\n",
    "\n",
    "#### 1.2.1.5 - Vecteur d'Initialisation\n",
    "\n",
    "Un **vecteur d’initialisation** *($IV$)* est utilisé dans AES comme pour la majorité des systèmes de chiffrement par blocs. Son utilisation permet d’obtenir deux chiffrés *($C$)* différents à partir du même texte clair *($P$)* à condition de ne jamais réutiliser le même $IV$ avec une clé identique. À noter que l’utilisation d’un $IV$ sur un $P > 128$, nécessitera un seul vecteur d’initialisation pour l’ensemble des blocs.\n",
    "\n",
    "#### 1.2.1.5 - S-box\n",
    "\n",
    "La **Rijndael S-box** *(**S-box**)* est une méthode permettant d’ajouter de la non-linéarité dans le processus de chiffrement de AES utilisée lors de l’opération $SubBytes()$. **S-box est une table de substitution** de taille $16 \\times 16$ permettant de transformer n’importe quelle valeur codée sur $8$ bits en une autre valeur."
   ]
  },
  {
   "cell_type": "code",
   "execution_count": 2,
   "id": "f2d7de90-7ad2-4399-a34c-30809b501ecd",
   "metadata": {},
   "outputs": [],
   "source": [
    "import numpy as np\n",
    "\n",
    "AES_Sbox = np.array([\n",
    "    0x63, 0x7C, 0x77, 0x7B, 0xF2, 0x6B, 0x6F, 0xC5, 0x30, 0x01, 0x67, 0x2B, 0xFE, 0xD7, 0xAB, 0x76,\n",
    "    0xCA, 0x82, 0xC9, 0x7D, 0xFA, 0x59, 0x47, 0xF0, 0xAD, 0xD4, 0xA2, 0xAF, 0x9C, 0xA4, 0x72, 0xC0,\n",
    "    0xB7, 0xFD, 0x93, 0x26, 0x36, 0x3F, 0xF7, 0xCC, 0x34, 0xA5, 0xE5, 0xF1, 0x71, 0xD8, 0x31, 0x15,\n",
    "    0x04, 0xC7, 0x23, 0xC3, 0x18, 0x96, 0x05, 0x9A, 0x07, 0x12, 0x80, 0xE2, 0xEB, 0x27, 0xB2, 0x75,\n",
    "    0x09, 0x83, 0x2C, 0x1A, 0x1B, 0x6E, 0x5A, 0xA0, 0x52, 0x3B, 0xD6, 0xB3, 0x29, 0xE3, 0x2F, 0x84,\n",
    "    0x53, 0xD1, 0x00, 0xED, 0x20, 0xFC, 0xB1, 0x5B, 0x6A, 0xCB, 0xBE, 0x39, 0x4A, 0x4C, 0x58, 0xCF,\n",
    "    0xD0, 0xEF, 0xAA, 0xFB, 0x43, 0x4D, 0x33, 0x85, 0x45, 0xF9, 0x02, 0x7F, 0x50, 0x3C, 0x9F, 0xA8,\n",
    "    0x51, 0xA3, 0x40, 0x8F, 0x92, 0x9D, 0x38, 0xF5, 0xBC, 0xB6, 0xDA, 0x21, 0x10, 0xFF, 0xF3, 0xD2,\n",
    "    0xCD, 0x0C, 0x13, 0xEC, 0x5F, 0x97, 0x44, 0x17, 0xC4, 0xA7, 0x7E, 0x3D, 0x64, 0x5D, 0x19, 0x73,\n",
    "    0x60, 0x81, 0x4F, 0xDC, 0x22, 0x2A, 0x90, 0x88, 0x46, 0xEE, 0xB8, 0x14, 0xDE, 0x5E, 0x0B, 0xDB,\n",
    "    0xE0, 0x32, 0x3A, 0x0A, 0x49, 0x06, 0x24, 0x5C, 0xC2, 0xD3, 0xAC, 0x62, 0x91, 0x95, 0xE4, 0x79,\n",
    "    0xE7, 0xC8, 0x37, 0x6D, 0x8D, 0xD5, 0x4E, 0xA9, 0x6C, 0x56, 0xF4, 0xEA, 0x65, 0x7A, 0xAE, 0x08,\n",
    "    0xBA, 0x78, 0x25, 0x2E, 0x1C, 0xA6, 0xB4, 0xC6, 0xE8, 0xDD, 0x74, 0x1F, 0x4B, 0xBD, 0x8B, 0x8A,\n",
    "    0x70, 0x3E, 0xB5, 0x66, 0x48, 0x03, 0xF6, 0x0E, 0x61, 0x35, 0x57, 0xB9, 0x86, 0xC1, 0x1D, 0x9E,\n",
    "    0xE1, 0xF8, 0x98, 0x11, 0x69, 0xD9, 0x8E, 0x94, 0x9B, 0x1E, 0x87, 0xE9, 0xCE, 0x55, 0x28, 0xDF,\n",
    "    0x8C, 0xA1, 0x89, 0x0D, 0xBF, 0xE6, 0x42, 0x68, 0x41, 0x99, 0x2D, 0x0F, 0xB0, 0x54, 0xBB, 0x16\n",
    "])"
   ]
  },
  {
   "cell_type": "markdown",
   "id": "0c17aed2-f921-49cf-b245-a5ccda212a25",
   "metadata": {
    "jp-MarkdownHeadingCollapsed": true
   },
   "source": [
    "#### 1.2.1.6 - Modes d’opérations\n",
    "\n",
    "AES découpe le message en blocs de taille 128 bits, il est donc nécessaire de chaîner les blocs entre eux afin de garantir l’**intégrité** du message. Il existe plusieurs modes de chaînage *(**CBC**, **CFB**, **OFB**)*. Dans ce lab, nous allons nous concentrer sur **CBC**.\n",
    "\n",
    "<ins>Chiffrement avec le mode à CBC:\n",
    "<br>\n",
    "<center>\n",
    "<img src=\"images/CBCChiffrement.png\"\n",
    "     alt=\"Chiffrement CBC\"\n",
    "     style=\"\" \n",
    "     width=\"500\"\n",
    "     height=\"auto\"/>\n",
    "</center>\n",
    "\n",
    "\n",
    "<ins>Déchiffrement avec le mode CBC:\n",
    "<br>\n",
    "<center>\n",
    "<img src=\"images/CBCDechiffrement.png\"\n",
    "     alt=\"Dechiffrement CBC\"\n",
    "     style=\"\" \n",
    "     width=\"500\"\n",
    "     height=\"auto\"/>\n",
    "</center>\n",
    "\n",
    "### 1.2.2 - Attaques par canaux auxiliaires pour AES\n",
    "\n",
    "Les attaques par canaux auxiliaires pour AES, cible souvent la fonction `SubByte`. Dans la suite de cette section, nous allons vous expliquer pourquoi.\n",
    "\n",
    "Les valeurs ciblées par les attaques **Correlation Power Analysis *(CPA)*** sont du type $S(p\\oplus k)$, où $p$ est un texte en clair et $k$ un octet de clé, et où $S$ établit une correspondance bijective entre les octets. Pour trouver la bonne clé $k_0$, nous faisons une corrélation de la consommation d'énergie avec le **poids de Hamming** *(Nombre de bits qui sont à $1$)* de $S(p\\oplus k)$. La valeur absolue de cette corrélation doit être plus élevée pour la bonne clé $k_0$ à l'instant $t_0$ lorsque la sortie de la $SBox$: $S$ est traitée par le CPU.\n",
    "\n",
    "Soit $k_1$ une deuxième clé. Si $S$ est **linéaire**, alors $S(p\\oplus k_0)\\oplus S(p\\oplus k_1)=S(k_0\\oplus k_1)$ est **indépendante de $p$**. Ainsi, si $S(k_0\\oplus k_1)$ a un poids de Hamming de $1$, cela signifie qu'un seul bit pour tous les octets du texte clair $p$ diffère. C'est une mauvaise situation pour l'attaquant, car il est difficile de distinguer les octets de la clé qui diffèrent.\n",
    "\n",
    "Comme la $SBox$ doit protéger AES contre les **attaques linéaires et différentielles**, elle est choisie de telle sorte que $S(x)$ et $S(x\\oplus\\Delta)$ soient \"linéairement aussi **indépendantes** que possible\". En particulier, le poid de Hamming est aussi peu corrélés que possible. Ainsi, si vous avez une forte corrélation avec $S(x)$ (pensez à $x=p\\oplus k_0$), vous n'aurez pas beaucoup de corrélation avec $S(x\\oplus\\Delta)$ (pensez à $\\Delta=k_0\\oplus k_1$), ce qui permet de distinguer facilement les différents octets de la clé.\n",
    "\n",
    "En d'autres termes, la $SBox$ réel répond à l'hypothèse de base de la **Differential Power Analysis *(DPA)*** selon laquelle les clés erronées donnent des prédictions aléatoires pour la consommation actuelle, alors que la $SBox$ linéaire ne la respecte pas. [(Source)](https://crypto.stackexchange.com/questions/42571/why-are-side-channel-attacks-such-as-spa-dpa-cpa-based-on-the-aes-subbytes-rout)\n",
    "\n",
    "Ainsi, lorsque la corrélation est forte, nous pouvons être presque sûrs d'avoir la bonne clé.\n",
    "\n",
    "---\n",
    "\n",
    "Pour la base de données ASCAD, utilisant AES-128, nous allons cibler la sortie de la première ronde de la fonction `SubBytes` *(S-Box)*. Nous choisissons cette cible, car la valeur de sortie de cette opération dépend uniquement d'un **octet de la clé**, et permet d'effectuer une attaque différentiel *(DPA)* efficace pendant la phase d'attaque [(Source)](https://link.springer.com/book/10.1007/978-0-387-38162-6).\n",
    "\n",
    "La valeur intermédiaire pour l'octet $j$ de la trace $X_i$ est représenté par:\n",
    "$$\n",
    "IV_i = SBox[p_i^j\\oplus k_i^j]\n",
    "$$"
   ]
  },
  {
   "cell_type": "markdown",
   "id": "b0295258-e05d-4cea-9e01-9f9ba428eedc",
   "metadata": {},
   "source": [
    "# 2 - Introduction au Deep Learning\n",
    "\n",
    "**Définition \\[Deep Learning]:** L’apprentissage profond est un procédé d’**apprentissage automatique** utilisant des **réseaux de neurones** possédant **plusieurs couches de neurones cachées**. Ces algorithmes possédant de très nombreux paramètres, ils **demandent un nombre très important de données afin d’être entraînés**. *[(Source)](https://www.cnil.fr/fr/definition/apprentissage-profond-deep-learning)*\n",
    "\n",
    "## 2.2 - Convolutional Neural Network (CNN)\n",
    "\n",
    "**Définition \\[Réseaux de Neurones Convolutifs (CNN)]:** Ils utilisent des données tridimensionnelles pour les tâches de **classification d’images et de reconnaissance d’objets**. Ils se distinguent des autres réseaux neuronaux par leurs **performances supérieures avec des entrées de signaux d’image, de\n",
    "parole ou audio** [(Source)](https://www.ibm.com/fr-fr/think/topics/convolutional-neural-networks).\n",
    "\n",
    "Les réseaux de neurones convolutifs se révèlent extrêmement utiles pour examiner les profils de consommation énergétique, car ils excellent dans la classification d’images, ce qui leur permet de détecter des différences subtiles entre les traces et d’en extraire des éléments essentiels.\n",
    "\n",
    "Un CNN est composé de trois couches différentes:\n",
    "- Couche de **convolution**;\n",
    "- Couche de **pooling**;\n",
    "- Couche **entièrement connectée *(FC)***.\n",
    "\n",
    "<div style=\"text-align: center;\">\n",
    "    <img src=\"images/convolution-pooling.png\" alt=\"ConvolutionPooling\" style=\"width: 700px;\"><br>\n",
    "    Exemple de fonctionnement d’un CNN  <a href=\"https://www.ibm.com/fr-fr/topics/convolutional-neural-networks\">(Source)</a>\n",
    "  </div>\n",
    "\n",
    "### 2.2.1 - Couche de Convolution\n",
    "\n",
    "Cette couche nécessite des **données d’entrée**, un **filtre** et une **carte de caractéristiques** *(feature map)* pour son bon fonctionnement.\n",
    "Le filtre va se déplacer sur l’image pour vérifier si la caractéristique recherchée est présente. C’est ce qu’on appelle la **convolution**.\n",
    "\n",
    "<div style=\"display: flex; justify-content: space-around; align-items: flex-start;\">\n",
    "\n",
    "  <div style=\"text-align: center;\">\n",
    "    <img src=\"images/fenetreFiltre.png\" alt=\"FenetreFiltre\" style=\"width: 400px;\"><br>\n",
    "    Parcours de la fenêtre de filtre <a href=\"https://www.ibm.com/fr-fr/topics/convolutional-neural-networks\">(Source)</a>\n",
    "  </div>\n",
    "\n",
    "  <div style=\"text-align: center;\">\n",
    "    <img src=\"images/iclh-diagram-convolutional-neural-networks.png\" alt=\"DiagramConvolutionalNeuralNetwork\" style=\"width: 440px;\"><br>\n",
    "    Application d’un filtre sur une image <a href=\"https://datascientest.com/en/convolutional-neural-network-everything-you-need-to-know\">(Source)</a>\n",
    "  </div>\n",
    "\n",
    "</div>\n",
    "</br>\n",
    "\n",
    "La taille du filtre peut varier, cependant, dans la majorité des cas, c’est une matrice $3 \\times 3$. La taille de la matrice utilisée pour filtrer définit également la taille du champ réceptif *(output array)*. La matrice de sortie est calculée en réalisant le produit scalaire entre les pixels d’entrée et le filtre. Suite à ça, le filtre se décale d’un cran et répète le processus jusqu’à la fin.\n",
    "Le résultat final est appelé carte de caractéristiques ou feature map.\n",
    "\n",
    "Cette couche possède trois hyperparamètres à définir avant le début de l’entraînement du réseau de neurones qui affectent la taille du volume de sortie:\n",
    "- **Nombre de filtres**: Affecte la profondeur de la sortie. On dira que notre réseau a une profondeur\n",
    "de $n$, avec $n$ le nombre de filtres.\n",
    "- **Pas**: Nombre de pixels, que le filtre parcourt sur la matrice d’entrée. Un pas plus grand produit une sortie plus faible.\n",
    "- **Marge** *(zero-padding)*: Utilisée lorsque les filtres ne correspondent pas à l’image d’entrée. On\n",
    "distingue trois types de marge:\n",
    "    - **Marge valide:** Abscence de marge, la dernière convolution est supprimée si les dimensions ne s’alignent pas.\n",
    "    - **Marge identique:** Garantit que la couche de sortie a la même taille que la couche d’entrée.\n",
    "    - **Marge pleine:** Augmente la taille de la sortie en ajoutant des zéros à la bordure de l’entrée\n",
    "\n",
    "***Exemple de code Python pour générer une couche de convolution:***"
   ]
  },
  {
   "cell_type": "code",
   "execution_count": 16,
   "id": "d7b9ebad-9032-4392-a5e5-0c87c833766e",
   "metadata": {},
   "outputs": [],
   "source": [
    "from tensorflow.keras import layers, models\n",
    "\n",
    "model_cnn = models.Sequential()\n",
    "model_cnn.add(layers.Conv2D(32, (3, 3), activation='relu', input_shape=(32, 32, 3)))"
   ]
  },
  {
   "cell_type": "markdown",
   "id": "8fb64c09-ce37-4d3f-9889-f1016e9c04b3",
   "metadata": {},
   "source": [
    "### 2.2.2 Couche de pooling\n",
    "\n",
    "Cette couche permet de **réduire la dimensionnalité**, ce qui réduit le nombre de paramètres d’entrée.\n",
    "Encore une fois, un filtre parcourt toute l’entrée. Cependant, cette fois, le filtre n’a aucun poids. Une fonction d’agrégation va être appliquée aux valeurs de la matrice d’entrée pour créer la matrice de sortie.\n",
    "\n",
    "Les deux principaux types de pooling sont:\n",
    "- **Max-Pooling**: Sélectionne le pixe ayant la valeur maximale;\n",
    "- **Average-Pooling**: Calcule la valeur moyenne dans le champ réceptif.\n",
    "\n",
    "<div style=\"display: flex; justify-content: center; align-items: flex-start;\">\n",
    "\n",
    "  <div style=\"text-align: center;\">\n",
    "    <img src=\"images/maxPooling.jpg\" alt=\"MaxPooling\" style=\"width: 375px;\"><br>\n",
    "    Max-Pooling <a href=\"https://www.ibm.com/fr-fr/topics/convolutional-neural-networks\">(Source)</a>\n",
    "  </div>\n",
    "\n",
    "  <div style=\"text-align: center; margin-left: 40px;\">\n",
    "    <img src=\"images/AveragePooling.jpg\" alt=\"AveragePooling\" style=\"width: 375px;\"><br>\n",
    "    Average-Pooling <a href=\"https://www.ibm.com/fr-fr/topics/convolutional-neural-networks\">(Source)</a>\n",
    "  </div>\n",
    "\n",
    "</div>\n",
    "<br>\n",
    "\n",
    "Comme vous pouvez le deviner, de nombreuses informations sont perdues dans la couche de pooling. Cependant, cette couche permet de **réduire la complexité**, d’**améliorer l’efficacité** et de **limiter le risque de surajustement** *(overfitting)*.\n",
    "\n",
    "<div style=\"text-align: center;\">\n",
    "    <img src=\"images/downsampling.png\" alt=\"Downsampling\" style=\"width: 300px;\"><br>\n",
    "    Exemple de l’effet du Max-Pooling  <a href=\"https://www.ibm.com/fr-fr/topics/convolutional-neural-networks\">(Source)</a>\n",
    "  </div>\n",
    "\n",
    "***Exemple de code Python pour générer une couche de pooling:***"
   ]
  },
  {
   "cell_type": "code",
   "execution_count": 17,
   "id": "ba4f2a24-d0f8-49a3-b99c-5b9df8d1dce2",
   "metadata": {},
   "outputs": [],
   "source": [
    "model_cnn.add(layers.MaxPooling2D((2, 2)))"
   ]
  },
  {
   "cell_type": "markdown",
   "id": "c43b1d78-3682-4b28-896e-498e3166cc5d",
   "metadata": {},
   "source": [
    "### 2.2.3 Couche entièrement connectée (FC)\n",
    "\n",
    "Les autres couches sont partiellement connectées. C’est-à-dire que les valeurs de pixel de l’image\n",
    "d’entrée ne sont pas directement connectées à la couche de sortie.\n",
    "Pour résoudre cela, il faut une couche entièrement connectée, où chaque nœud de la couche de\n",
    "sortie se connecte directement à un nœud de la couche de sortie.\n",
    "\n",
    "Ainsi, cette couche est **placée à la fin du réseau** pour effectuer la classification en fonction des\n",
    "caractéristiques extraites à partir des couches précédentes et de leurs différents filtres.\n",
    "Alors que les couches de convolution et de pooling ont tendance à utiliser les fonctions **ReLu**,\n",
    "les couches FC exploitent généralement une fonction d’activation **softmax** pour classer les entrées de manière appropriée, produisant une probabilité de $0$ à $1$.\n",
    "\n",
    "***Exemple de code Python pour générer une couche entièrement connectée:***"
   ]
  },
  {
   "cell_type": "code",
   "execution_count": 18,
   "id": "f163263a-18a3-45a3-b9ac-3e851627bb65",
   "metadata": {},
   "outputs": [],
   "source": [
    "# En aplatissant les données (Flatten), nous supprimons toute structure spatiale ou temporelle présente dans \n",
    "# le tenseur et la convertissons en une forme qui peut être traitée par des couches entièrement \n",
    "# connectées.\n",
    "model_cnn.add(layers.Flatten()) # Utile avec un CNN pour convertir une image dans le format voulu\n",
    "model_cnn.add(layers.Dense(64, activation='relu'))\n",
    "model_cnn.add(layers.Dense(10)) # Nombre de classes possible en sortie"
   ]
  },
  {
   "cell_type": "markdown",
   "id": "8547565d-44cb-48d1-9aba-58e08b84e52e",
   "metadata": {},
   "source": [
    "## 2.3 - Multilayer Perceptron (MLP)\n",
    "\n",
    "MLP est un algorithme d'apprentissage supervisé, qui apprend une fonction $f:R^m\\xrightarrow{} R^o$ en s'entraînant sur un dataset, où $m$ est le nombre de dimensions des données en entrée et $o$ le nombre de dimensions pour les sorties *(e.g. nombres de classes)*.\n",
    "\n",
    "Soit $X = x_1, x_2, \\dots, x_m$ les caractéristiques *(features)* et $y$ l'objectif *(target)*. \n",
    "\n",
    "Une fois $X$ et $y$ données, le modèle peut apprendre à réaliser une **classification** ou une **régression** grâce à une **fonction non-linéaire**.\n",
    "\n",
    "Entre l'entré et la sortie, il peut y avoir **une ou plusieurs couches non-linéaires** *(hidden layers)*.\n",
    "\n",
    "<div style=\"display: flex; justify-content: center; align-items: flex-start;\">\n",
    "\n",
    "  <div style=\"text-align: center;\">\n",
    "    <img src=\"images/multilayerperceptron_network.png\" alt=\"OneHiddenLayerMLP\" style=\"width: 375px;\"><br>\n",
    "    Une couche cachée MLP <a href=\"https://scikit-learn.org/stable/modules/neural_networks_supervised.html\">(Source)</a>\n",
    "  </div>\n",
    "\n",
    "  <div style=\"text-align: center; margin-left: 40px;\">\n",
    "    <img src=\"images/MLP.png\" alt=\"MLP\" style=\"width: 375px;\"><br>\n",
    "    MLP <a href=\"https://becominghuman.ai/multi-layer-perceptron-mlp-models-on-real-world-banking-data-f6dd3d7e998f\">(Source)</a>\n",
    "  </div>\n",
    "\n",
    "</div>\n",
    "</br>\n",
    "\n",
    "Dans l'image de gauche, la couche d'entrée (couche gauche), est un ensemble de neurones $\\{x_i\\mid x_1,x_2,\\dots,x_m\\}$ représentant les classes en entrée. Chaque neurone dans la couche cachée *(hidden layer)* transforme la valeur de la couche précédente grâce à une **somme linéaire pondérée** $w_1x_1+w_2x_2+\\dots+w_mx_m$ et une fonction d'activation non-linéaire $g(.):R\\xrightarrow{} R$ comme la fonction hyperbolic tan. La couche de sortie reçoit les valeurs de la dernière couche cachée et les transforme en valeur de sortie *(prédiction)*."
   ]
  },
  {
   "cell_type": "code",
   "execution_count": 41,
   "id": "54954144-ae91-481a-a2a2-578c34f78230",
   "metadata": {},
   "outputs": [],
   "source": [
    "# https://eprint.iacr.org/2025/471.pdf\n",
    "input_dim = 100\n",
    "model_mld = models.Sequential([\n",
    "    # Couches cachées\n",
    "    layers.Dense(64, activation='relu', input_shape=(input_dim,)),\n",
    "    layers.Dense(32, activation='relu'),\n",
    "    # Couche de sortie\n",
    "    layers.Dense(3, activation='softmax')\n",
    "])"
   ]
  },
  {
   "cell_type": "markdown",
   "id": "318d5d7e-a7a0-4910-84d4-afb59b6bbaa5",
   "metadata": {},
   "source": [
    "## 2.3 - Visualisation, Entraînement, Test et Évaluation d'un modèle avec tensorflow\n",
    "\n",
    "Dans cette section, nous allons juste faire un rapide rappel des fonctions utilisés par tensorflow pour **visualiser**, **entraîner**, **tester** et **évaluer** un modèle.\n",
    "\n",
    "### 2.3.1 - Visualisation du modèle\n",
    "\n",
    "***Visualisation du CNN:***"
   ]
  },
  {
   "cell_type": "code",
   "execution_count": 19,
   "id": "7ca9a7f2-4307-4065-967a-08cd74cd39ea",
   "metadata": {},
   "outputs": [
    {
     "data": {
      "text/html": [
       "<pre style=\"white-space:pre;overflow-x:auto;line-height:normal;font-family:Menlo,'DejaVu Sans Mono',consolas,'Courier New',monospace\"><span style=\"font-weight: bold\">Model: \"sequential_2\"</span>\n",
       "</pre>\n"
      ],
      "text/plain": [
       "\u001b[1mModel: \"sequential_2\"\u001b[0m\n"
      ]
     },
     "metadata": {},
     "output_type": "display_data"
    },
    {
     "data": {
      "text/html": [
       "<pre style=\"white-space:pre;overflow-x:auto;line-height:normal;font-family:Menlo,'DejaVu Sans Mono',consolas,'Courier New',monospace\">┏━━━━━━━━━━━━━━━━━━━━━━━━━━━━━━━━━┳━━━━━━━━━━━━━━━━━━━━━━━━┳━━━━━━━━━━━━━━━┓\n",
       "┃<span style=\"font-weight: bold\"> Layer (type)                    </span>┃<span style=\"font-weight: bold\"> Output Shape           </span>┃<span style=\"font-weight: bold\">       Param # </span>┃\n",
       "┡━━━━━━━━━━━━━━━━━━━━━━━━━━━━━━━━━╇━━━━━━━━━━━━━━━━━━━━━━━━╇━━━━━━━━━━━━━━━┩\n",
       "│ conv2d_2 (<span style=\"color: #0087ff; text-decoration-color: #0087ff\">Conv2D</span>)               │ (<span style=\"color: #00d7ff; text-decoration-color: #00d7ff\">None</span>, <span style=\"color: #00af00; text-decoration-color: #00af00\">30</span>, <span style=\"color: #00af00; text-decoration-color: #00af00\">30</span>, <span style=\"color: #00af00; text-decoration-color: #00af00\">32</span>)     │           <span style=\"color: #00af00; text-decoration-color: #00af00\">896</span> │\n",
       "├─────────────────────────────────┼────────────────────────┼───────────────┤\n",
       "│ max_pooling2d_1 (<span style=\"color: #0087ff; text-decoration-color: #0087ff\">MaxPooling2D</span>)  │ (<span style=\"color: #00d7ff; text-decoration-color: #00d7ff\">None</span>, <span style=\"color: #00af00; text-decoration-color: #00af00\">15</span>, <span style=\"color: #00af00; text-decoration-color: #00af00\">15</span>, <span style=\"color: #00af00; text-decoration-color: #00af00\">32</span>)     │             <span style=\"color: #00af00; text-decoration-color: #00af00\">0</span> │\n",
       "├─────────────────────────────────┼────────────────────────┼───────────────┤\n",
       "│ flatten_1 (<span style=\"color: #0087ff; text-decoration-color: #0087ff\">Flatten</span>)             │ (<span style=\"color: #00d7ff; text-decoration-color: #00d7ff\">None</span>, <span style=\"color: #00af00; text-decoration-color: #00af00\">7200</span>)           │             <span style=\"color: #00af00; text-decoration-color: #00af00\">0</span> │\n",
       "├─────────────────────────────────┼────────────────────────┼───────────────┤\n",
       "│ dense_2 (<span style=\"color: #0087ff; text-decoration-color: #0087ff\">Dense</span>)                 │ (<span style=\"color: #00d7ff; text-decoration-color: #00d7ff\">None</span>, <span style=\"color: #00af00; text-decoration-color: #00af00\">64</span>)             │       <span style=\"color: #00af00; text-decoration-color: #00af00\">460,864</span> │\n",
       "├─────────────────────────────────┼────────────────────────┼───────────────┤\n",
       "│ dense_3 (<span style=\"color: #0087ff; text-decoration-color: #0087ff\">Dense</span>)                 │ (<span style=\"color: #00d7ff; text-decoration-color: #00d7ff\">None</span>, <span style=\"color: #00af00; text-decoration-color: #00af00\">10</span>)             │           <span style=\"color: #00af00; text-decoration-color: #00af00\">650</span> │\n",
       "└─────────────────────────────────┴────────────────────────┴───────────────┘\n",
       "</pre>\n"
      ],
      "text/plain": [
       "┏━━━━━━━━━━━━━━━━━━━━━━━━━━━━━━━━━┳━━━━━━━━━━━━━━━━━━━━━━━━┳━━━━━━━━━━━━━━━┓\n",
       "┃\u001b[1m \u001b[0m\u001b[1mLayer (type)                   \u001b[0m\u001b[1m \u001b[0m┃\u001b[1m \u001b[0m\u001b[1mOutput Shape          \u001b[0m\u001b[1m \u001b[0m┃\u001b[1m \u001b[0m\u001b[1m      Param #\u001b[0m\u001b[1m \u001b[0m┃\n",
       "┡━━━━━━━━━━━━━━━━━━━━━━━━━━━━━━━━━╇━━━━━━━━━━━━━━━━━━━━━━━━╇━━━━━━━━━━━━━━━┩\n",
       "│ conv2d_2 (\u001b[38;5;33mConv2D\u001b[0m)               │ (\u001b[38;5;45mNone\u001b[0m, \u001b[38;5;34m30\u001b[0m, \u001b[38;5;34m30\u001b[0m, \u001b[38;5;34m32\u001b[0m)     │           \u001b[38;5;34m896\u001b[0m │\n",
       "├─────────────────────────────────┼────────────────────────┼───────────────┤\n",
       "│ max_pooling2d_1 (\u001b[38;5;33mMaxPooling2D\u001b[0m)  │ (\u001b[38;5;45mNone\u001b[0m, \u001b[38;5;34m15\u001b[0m, \u001b[38;5;34m15\u001b[0m, \u001b[38;5;34m32\u001b[0m)     │             \u001b[38;5;34m0\u001b[0m │\n",
       "├─────────────────────────────────┼────────────────────────┼───────────────┤\n",
       "│ flatten_1 (\u001b[38;5;33mFlatten\u001b[0m)             │ (\u001b[38;5;45mNone\u001b[0m, \u001b[38;5;34m7200\u001b[0m)           │             \u001b[38;5;34m0\u001b[0m │\n",
       "├─────────────────────────────────┼────────────────────────┼───────────────┤\n",
       "│ dense_2 (\u001b[38;5;33mDense\u001b[0m)                 │ (\u001b[38;5;45mNone\u001b[0m, \u001b[38;5;34m64\u001b[0m)             │       \u001b[38;5;34m460,864\u001b[0m │\n",
       "├─────────────────────────────────┼────────────────────────┼───────────────┤\n",
       "│ dense_3 (\u001b[38;5;33mDense\u001b[0m)                 │ (\u001b[38;5;45mNone\u001b[0m, \u001b[38;5;34m10\u001b[0m)             │           \u001b[38;5;34m650\u001b[0m │\n",
       "└─────────────────────────────────┴────────────────────────┴───────────────┘\n"
      ]
     },
     "metadata": {},
     "output_type": "display_data"
    },
    {
     "data": {
      "text/html": [
       "<pre style=\"white-space:pre;overflow-x:auto;line-height:normal;font-family:Menlo,'DejaVu Sans Mono',consolas,'Courier New',monospace\"><span style=\"font-weight: bold\"> Total params: </span><span style=\"color: #00af00; text-decoration-color: #00af00\">462,410</span> (1.76 MB)\n",
       "</pre>\n"
      ],
      "text/plain": [
       "\u001b[1m Total params: \u001b[0m\u001b[38;5;34m462,410\u001b[0m (1.76 MB)\n"
      ]
     },
     "metadata": {},
     "output_type": "display_data"
    },
    {
     "data": {
      "text/html": [
       "<pre style=\"white-space:pre;overflow-x:auto;line-height:normal;font-family:Menlo,'DejaVu Sans Mono',consolas,'Courier New',monospace\"><span style=\"font-weight: bold\"> Trainable params: </span><span style=\"color: #00af00; text-decoration-color: #00af00\">462,410</span> (1.76 MB)\n",
       "</pre>\n"
      ],
      "text/plain": [
       "\u001b[1m Trainable params: \u001b[0m\u001b[38;5;34m462,410\u001b[0m (1.76 MB)\n"
      ]
     },
     "metadata": {},
     "output_type": "display_data"
    },
    {
     "data": {
      "text/html": [
       "<pre style=\"white-space:pre;overflow-x:auto;line-height:normal;font-family:Menlo,'DejaVu Sans Mono',consolas,'Courier New',monospace\"><span style=\"font-weight: bold\"> Non-trainable params: </span><span style=\"color: #00af00; text-decoration-color: #00af00\">0</span> (0.00 B)\n",
       "</pre>\n"
      ],
      "text/plain": [
       "\u001b[1m Non-trainable params: \u001b[0m\u001b[38;5;34m0\u001b[0m (0.00 B)\n"
      ]
     },
     "metadata": {},
     "output_type": "display_data"
    }
   ],
   "source": [
    "model_cnn.summary()"
   ]
  },
  {
   "cell_type": "markdown",
   "id": "9daeba58-d803-425d-8d1f-dd5093c968e0",
   "metadata": {},
   "source": [
    "***Visualisation du MLD:***"
   ]
  },
  {
   "cell_type": "code",
   "execution_count": 23,
   "id": "5f61ef85-2f0e-4807-a055-d6b8848560ef",
   "metadata": {},
   "outputs": [
    {
     "data": {
      "text/html": [
       "<pre style=\"white-space:pre;overflow-x:auto;line-height:normal;font-family:Menlo,'DejaVu Sans Mono',consolas,'Courier New',monospace\"><span style=\"font-weight: bold\">Model: \"sequential_3\"</span>\n",
       "</pre>\n"
      ],
      "text/plain": [
       "\u001b[1mModel: \"sequential_3\"\u001b[0m\n"
      ]
     },
     "metadata": {},
     "output_type": "display_data"
    },
    {
     "data": {
      "text/html": [
       "<pre style=\"white-space:pre;overflow-x:auto;line-height:normal;font-family:Menlo,'DejaVu Sans Mono',consolas,'Courier New',monospace\">┏━━━━━━━━━━━━━━━━━━━━━━━━━━━━━━━━━┳━━━━━━━━━━━━━━━━━━━━━━━━┳━━━━━━━━━━━━━━━┓\n",
       "┃<span style=\"font-weight: bold\"> Layer (type)                    </span>┃<span style=\"font-weight: bold\"> Output Shape           </span>┃<span style=\"font-weight: bold\">       Param # </span>┃\n",
       "┡━━━━━━━━━━━━━━━━━━━━━━━━━━━━━━━━━╇━━━━━━━━━━━━━━━━━━━━━━━━╇━━━━━━━━━━━━━━━┩\n",
       "│ dense_4 (<span style=\"color: #0087ff; text-decoration-color: #0087ff\">Dense</span>)                 │ (<span style=\"color: #00d7ff; text-decoration-color: #00d7ff\">None</span>, <span style=\"color: #00af00; text-decoration-color: #00af00\">64</span>)             │         <span style=\"color: #00af00; text-decoration-color: #00af00\">6,464</span> │\n",
       "├─────────────────────────────────┼────────────────────────┼───────────────┤\n",
       "│ dense_5 (<span style=\"color: #0087ff; text-decoration-color: #0087ff\">Dense</span>)                 │ (<span style=\"color: #00d7ff; text-decoration-color: #00d7ff\">None</span>, <span style=\"color: #00af00; text-decoration-color: #00af00\">32</span>)             │         <span style=\"color: #00af00; text-decoration-color: #00af00\">2,080</span> │\n",
       "├─────────────────────────────────┼────────────────────────┼───────────────┤\n",
       "│ dense_6 (<span style=\"color: #0087ff; text-decoration-color: #0087ff\">Dense</span>)                 │ (<span style=\"color: #00d7ff; text-decoration-color: #00d7ff\">None</span>, <span style=\"color: #00af00; text-decoration-color: #00af00\">3</span>)              │            <span style=\"color: #00af00; text-decoration-color: #00af00\">99</span> │\n",
       "└─────────────────────────────────┴────────────────────────┴───────────────┘\n",
       "</pre>\n"
      ],
      "text/plain": [
       "┏━━━━━━━━━━━━━━━━━━━━━━━━━━━━━━━━━┳━━━━━━━━━━━━━━━━━━━━━━━━┳━━━━━━━━━━━━━━━┓\n",
       "┃\u001b[1m \u001b[0m\u001b[1mLayer (type)                   \u001b[0m\u001b[1m \u001b[0m┃\u001b[1m \u001b[0m\u001b[1mOutput Shape          \u001b[0m\u001b[1m \u001b[0m┃\u001b[1m \u001b[0m\u001b[1m      Param #\u001b[0m\u001b[1m \u001b[0m┃\n",
       "┡━━━━━━━━━━━━━━━━━━━━━━━━━━━━━━━━━╇━━━━━━━━━━━━━━━━━━━━━━━━╇━━━━━━━━━━━━━━━┩\n",
       "│ dense_4 (\u001b[38;5;33mDense\u001b[0m)                 │ (\u001b[38;5;45mNone\u001b[0m, \u001b[38;5;34m64\u001b[0m)             │         \u001b[38;5;34m6,464\u001b[0m │\n",
       "├─────────────────────────────────┼────────────────────────┼───────────────┤\n",
       "│ dense_5 (\u001b[38;5;33mDense\u001b[0m)                 │ (\u001b[38;5;45mNone\u001b[0m, \u001b[38;5;34m32\u001b[0m)             │         \u001b[38;5;34m2,080\u001b[0m │\n",
       "├─────────────────────────────────┼────────────────────────┼───────────────┤\n",
       "│ dense_6 (\u001b[38;5;33mDense\u001b[0m)                 │ (\u001b[38;5;45mNone\u001b[0m, \u001b[38;5;34m3\u001b[0m)              │            \u001b[38;5;34m99\u001b[0m │\n",
       "└─────────────────────────────────┴────────────────────────┴───────────────┘\n"
      ]
     },
     "metadata": {},
     "output_type": "display_data"
    },
    {
     "data": {
      "text/html": [
       "<pre style=\"white-space:pre;overflow-x:auto;line-height:normal;font-family:Menlo,'DejaVu Sans Mono',consolas,'Courier New',monospace\"><span style=\"font-weight: bold\"> Total params: </span><span style=\"color: #00af00; text-decoration-color: #00af00\">8,643</span> (33.76 KB)\n",
       "</pre>\n"
      ],
      "text/plain": [
       "\u001b[1m Total params: \u001b[0m\u001b[38;5;34m8,643\u001b[0m (33.76 KB)\n"
      ]
     },
     "metadata": {},
     "output_type": "display_data"
    },
    {
     "data": {
      "text/html": [
       "<pre style=\"white-space:pre;overflow-x:auto;line-height:normal;font-family:Menlo,'DejaVu Sans Mono',consolas,'Courier New',monospace\"><span style=\"font-weight: bold\"> Trainable params: </span><span style=\"color: #00af00; text-decoration-color: #00af00\">8,643</span> (33.76 KB)\n",
       "</pre>\n"
      ],
      "text/plain": [
       "\u001b[1m Trainable params: \u001b[0m\u001b[38;5;34m8,643\u001b[0m (33.76 KB)\n"
      ]
     },
     "metadata": {},
     "output_type": "display_data"
    },
    {
     "data": {
      "text/html": [
       "<pre style=\"white-space:pre;overflow-x:auto;line-height:normal;font-family:Menlo,'DejaVu Sans Mono',consolas,'Courier New',monospace\"><span style=\"font-weight: bold\"> Non-trainable params: </span><span style=\"color: #00af00; text-decoration-color: #00af00\">0</span> (0.00 B)\n",
       "</pre>\n"
      ],
      "text/plain": [
       "\u001b[1m Non-trainable params: \u001b[0m\u001b[38;5;34m0\u001b[0m (0.00 B)\n"
      ]
     },
     "metadata": {},
     "output_type": "display_data"
    }
   ],
   "source": [
    "model_mld.summary()"
   ]
  },
  {
   "cell_type": "markdown",
   "id": "da229e9a-3746-4303-b4fb-f693572b824a",
   "metadata": {},
   "source": [
    "### 2.3.2 - Compilation et Entraînement du modèle\n",
    "\n",
    "Nous allons entraîner le modèle CNN, en utilisant un des datasets fournit avec la librairie tensorflow.\n",
    "\n",
    "Pour faire cela, nous devons dans un premier temps charger la base de donnée:"
   ]
  },
  {
   "cell_type": "code",
   "execution_count": 30,
   "id": "16891e86-f88d-49e0-ba81-2b2d31c7fea2",
   "metadata": {},
   "outputs": [
    {
     "name": "stdout",
     "output_type": "stream",
     "text": [
      "Downloading data from https://www.cs.toronto.edu/~kriz/cifar-10-python.tar.gz\n",
      "\u001b[1m170498071/170498071\u001b[0m \u001b[32m━━━━━━━━━━━━━━━━━━━━\u001b[0m\u001b[37m\u001b[0m \u001b[1m7s\u001b[0m 0us/step\n"
     ]
    }
   ],
   "source": [
    "# https://www.tensorflow.org/tutorials/images/cnn?hl=fr\n",
    "from tensorflow.keras import datasets\n",
    "\n",
    "(train_images, train_labels), (test_images, test_labels) = datasets.cifar10.load_data()\n",
    "\n",
    "# Normalise la valeur des pixels entre 0 et 1\n",
    "train_images, test_images = train_images / 255.0, test_images / 255.0\n",
    "\n",
    "class_names = ['airplane', 'automobile', 'bird', 'cat', 'deer',\n",
    "               'dog', 'frog', 'horse', 'ship', 'truck']"
   ]
  },
  {
   "cell_type": "markdown",
   "id": "00b1ca0f-a72b-4853-94ab-1582b0dadb77",
   "metadata": {},
   "source": [
    "Nous pouvons compiler notre modèle, afin dans un second de temps de pouvoir l'entraîner:"
   ]
  },
  {
   "cell_type": "code",
   "execution_count": 32,
   "id": "c49a0d6f-f688-4f7f-b4c4-15e2be377c35",
   "metadata": {},
   "outputs": [],
   "source": [
    "model_cnn.compile(optimizer='adam',\n",
    "              loss=tf.keras.losses.SparseCategoricalCrossentropy(from_logits=True),\n",
    "              metrics=['accuracy'])"
   ]
  },
  {
   "cell_type": "markdown",
   "id": "8c720b1b-072e-45c4-bd1c-a8848cba50cb",
   "metadata": {},
   "source": [
    "Maintenant, tout est prêt pour entraîner et tester notre modèle:"
   ]
  },
  {
   "cell_type": "code",
   "execution_count": 33,
   "id": "eddc4e77-7660-4f5f-bc5a-a565aadc6ad7",
   "metadata": {},
   "outputs": [
    {
     "name": "stdout",
     "output_type": "stream",
     "text": [
      "Epoch 1/10\n",
      "\u001b[1m1563/1563\u001b[0m \u001b[32m━━━━━━━━━━━━━━━━━━━━\u001b[0m\u001b[37m\u001b[0m \u001b[1m7s\u001b[0m 4ms/step - accuracy: 0.3890 - loss: 1.6852 - val_accuracy: 0.5432 - val_loss: 1.2903\n",
      "Epoch 2/10\n",
      "\u001b[1m1563/1563\u001b[0m \u001b[32m━━━━━━━━━━━━━━━━━━━━\u001b[0m\u001b[37m\u001b[0m \u001b[1m7s\u001b[0m 4ms/step - accuracy: 0.5658 - loss: 1.2363 - val_accuracy: 0.5932 - val_loss: 1.1547\n",
      "Epoch 3/10\n",
      "\u001b[1m1563/1563\u001b[0m \u001b[32m━━━━━━━━━━━━━━━━━━━━\u001b[0m\u001b[37m\u001b[0m \u001b[1m7s\u001b[0m 4ms/step - accuracy: 0.6225 - loss: 1.0777 - val_accuracy: 0.6176 - val_loss: 1.1140\n",
      "Epoch 4/10\n",
      "\u001b[1m1563/1563\u001b[0m \u001b[32m━━━━━━━━━━━━━━━━━━━━\u001b[0m\u001b[37m\u001b[0m \u001b[1m6s\u001b[0m 4ms/step - accuracy: 0.6510 - loss: 0.9963 - val_accuracy: 0.6324 - val_loss: 1.0513\n",
      "Epoch 5/10\n",
      "\u001b[1m1563/1563\u001b[0m \u001b[32m━━━━━━━━━━━━━━━━━━━━\u001b[0m\u001b[37m\u001b[0m \u001b[1m7s\u001b[0m 4ms/step - accuracy: 0.6724 - loss: 0.9312 - val_accuracy: 0.6324 - val_loss: 1.0763\n",
      "Epoch 6/10\n",
      "\u001b[1m1563/1563\u001b[0m \u001b[32m━━━━━━━━━━━━━━━━━━━━\u001b[0m\u001b[37m\u001b[0m \u001b[1m7s\u001b[0m 4ms/step - accuracy: 0.6902 - loss: 0.8916 - val_accuracy: 0.6368 - val_loss: 1.0510\n",
      "Epoch 7/10\n",
      "\u001b[1m1563/1563\u001b[0m \u001b[32m━━━━━━━━━━━━━━━━━━━━\u001b[0m\u001b[37m\u001b[0m \u001b[1m7s\u001b[0m 4ms/step - accuracy: 0.7043 - loss: 0.8420 - val_accuracy: 0.6390 - val_loss: 1.0668\n",
      "Epoch 8/10\n",
      "\u001b[1m1563/1563\u001b[0m \u001b[32m━━━━━━━━━━━━━━━━━━━━\u001b[0m\u001b[37m\u001b[0m \u001b[1m7s\u001b[0m 4ms/step - accuracy: 0.7217 - loss: 0.8001 - val_accuracy: 0.6347 - val_loss: 1.0826\n",
      "Epoch 9/10\n",
      "\u001b[1m1563/1563\u001b[0m \u001b[32m━━━━━━━━━━━━━━━━━━━━\u001b[0m\u001b[37m\u001b[0m \u001b[1m7s\u001b[0m 4ms/step - accuracy: 0.7318 - loss: 0.7655 - val_accuracy: 0.6400 - val_loss: 1.0615\n",
      "Epoch 10/10\n",
      "\u001b[1m1563/1563\u001b[0m \u001b[32m━━━━━━━━━━━━━━━━━━━━\u001b[0m\u001b[37m\u001b[0m \u001b[1m6s\u001b[0m 4ms/step - accuracy: 0.7445 - loss: 0.7357 - val_accuracy: 0.6418 - val_loss: 1.0722\n"
     ]
    }
   ],
   "source": [
    "history = model.fit(train_images, train_labels, epochs=10, \n",
    "                    validation_data=(test_images, test_labels))"
   ]
  },
  {
   "cell_type": "markdown",
   "id": "bccc9de0-d0c1-4463-8dd3-1973869ef92c",
   "metadata": {},
   "source": [
    "### 2.3.2 - Évaluation du modèle\n",
    "\n",
    "Une fois le modèle entraîné et testé, il est important de l'évaluer et de visualiser sa précision grâce à un ou plusieurs graphes."
   ]
  },
  {
   "cell_type": "code",
   "execution_count": 38,
   "id": "1a6af762-039e-4c86-86dd-87432fbfa95a",
   "metadata": {},
   "outputs": [
    {
     "name": "stdout",
     "output_type": "stream",
     "text": [
      "313/313 - 0s - 2ms/step - accuracy: 0.6418 - loss: 1.0722\n"
     ]
    },
    {
     "data": {
      "image/png": "[encoded data removed]",
      "text/plain": [
       "<Figure size 640x480 with 1 Axes>"
      ]
     },
     "metadata": {},
     "output_type": "display_data"
    }
   ],
   "source": [
    "import matplotlib.pyplot as plt\n",
    "%matplotlib inline\n",
    "\n",
    "plt.clf()\n",
    "plt.plot(history.history['accuracy'], label='accuracy')\n",
    "plt.plot(history.history['val_accuracy'], label = 'val_accuracy')\n",
    "plt.xlabel('Epoch')\n",
    "plt.ylabel('Accuracy')\n",
    "plt.ylim([0.5, 1])\n",
    "plt.legend(loc='lower right')\n",
    "\n",
    "test_loss, test_acc = model.evaluate(test_images,  test_labels, verbose=2)\n",
    "plt.show()"
   ]
  },
  {
   "cell_type": "markdown",
   "id": "ca998892-b4d8-4f71-8540-fa6d5c12ad0a",
   "metadata": {},
   "source": [
    "# 3 - DLSCA (Deep Learning-based Side-channel Analysis)\n",
    "\n",
    "## 3.1 - Definition\n",
    "\n",
    "Avec l’évolution rapide de l’Intelligence Artificielle (IA) dans la dernière décennie, les attaques par canaux auxiliaires n’ont pas échappé à son utilisation. Dans un premier temps avec l’utilisation du **Machine Learning *(ML)*** [15, 16, 17] en utilisant principalement deux algorithmes d’apprentissage: **Support Vector Machine *(SVM)*** et **Random Forest *(RF)***.\n",
    "\n",
    "Suivant le succès du ML pour attaquer des traces très bruyantes, le **Deep Learning *(DL)*** a fait son apparition avec l’utilisation majoritaire des **Convolutional Neural Network *(CNN)*** et de **Multilayer Perceptron *(MLP)***.\n",
    "\n",
    "Le DL est devenue une technique précieuse pour les attaques par canaux auxiliaires avec profilage. L'utilisation du ML et du DL a permis la mise en place d'attaques plus performantes, pouvant être utilisées sur des mesures à très hautes dimensions et qui sont résistantes à la déformation du signal comme la gigue *(pour les CNN)* [(Source)](https://eprint.iacr.org/2018/053.pdf). \n",
    "\n",
    "## 3.2 - ASCAD\n",
    "\n",
    "### 3.2.1 - Setup"
   ]
  },
  {
   "cell_type": "code",
   "execution_count": 3,
   "id": "1544360d-9d55-4c22-ad83-6fc5ef51d420",
   "metadata": {
    "scrolled": true
   },
   "outputs": [
    {
     "name": "stdout",
     "output_type": "stream",
     "text": [
      "Requirement already satisfied: numpy in /Users/gaetan/.venv/lib/python3.12/site-packages (1.26.4)\n",
      "Requirement already satisfied: h5py in /Users/gaetan/.venv/lib/python3.12/site-packages (3.11.0)\n",
      "Requirement already satisfied: matplotlib in /Users/gaetan/.venv/lib/python3.12/site-packages (3.9.2)\n",
      "Requirement already satisfied: tqdm in /Users/gaetan/.venv/lib/python3.12/site-packages (4.66.5)\n",
      "Requirement already satisfied: tensorflow in /Users/gaetan/.venv/lib/python3.12/site-packages (2.18.0)\n",
      "Requirement already satisfied: keras in /Users/gaetan/.venv/lib/python3.12/site-packages (3.8.0)\n",
      "Requirement already satisfied: contourpy>=1.0.1 in /Users/gaetan/.venv/lib/python3.12/site-packages (from matplotlib) (1.3.0)\n",
      "Requirement already satisfied: cycler>=0.10 in /Users/gaetan/.venv/lib/python3.12/site-packages (from matplotlib) (0.12.1)\n",
      "Requirement already satisfied: fonttools>=4.22.0 in /Users/gaetan/.venv/lib/python3.12/site-packages (from matplotlib) (4.53.1)\n",
      "Requirement already satisfied: kiwisolver>=1.3.1 in /Users/gaetan/.venv/lib/python3.12/site-packages (from matplotlib) (1.4.7)\n",
      "Requirement already satisfied: packaging>=20.0 in /Users/gaetan/.venv/lib/python3.12/site-packages (from matplotlib) (24.1)\n",
      "Requirement already satisfied: pillow>=8 in /Users/gaetan/.venv/lib/python3.12/site-packages (from matplotlib) (10.4.0)\n",
      "Requirement already satisfied: pyparsing>=2.3.1 in /Users/gaetan/.venv/lib/python3.12/site-packages (from matplotlib) (3.1.4)\n",
      "Requirement already satisfied: python-dateutil>=2.7 in /Users/gaetan/.venv/lib/python3.12/site-packages (from matplotlib) (2.9.0.post0)\n",
      "Requirement already satisfied: absl-py>=1.0.0 in /Users/gaetan/.venv/lib/python3.12/site-packages (from tensorflow) (2.1.0)\n",
      "Requirement already satisfied: astunparse>=1.6.0 in /Users/gaetan/.venv/lib/python3.12/site-packages (from tensorflow) (1.6.3)\n",
      "Requirement already satisfied: flatbuffers>=24.3.25 in /Users/gaetan/.venv/lib/python3.12/site-packages (from tensorflow) (24.3.25)\n",
      "Requirement already satisfied: gast!=0.5.0,!=0.5.1,!=0.5.2,>=0.2.1 in /Users/gaetan/.venv/lib/python3.12/site-packages (from tensorflow) (0.6.0)\n",
      "Requirement already satisfied: google-pasta>=0.1.1 in /Users/gaetan/.venv/lib/python3.12/site-packages (from tensorflow) (0.2.0)\n",
      "Requirement already satisfied: libclang>=13.0.0 in /Users/gaetan/.venv/lib/python3.12/site-packages (from tensorflow) (18.1.1)\n",
      "Requirement already satisfied: opt-einsum>=2.3.2 in /Users/gaetan/.venv/lib/python3.12/site-packages (from tensorflow) (3.3.0)\n",
      "Requirement already satisfied: protobuf!=4.21.0,!=4.21.1,!=4.21.2,!=4.21.3,!=4.21.4,!=4.21.5,<6.0.0dev,>=3.20.3 in /Users/gaetan/.venv/lib/python3.12/site-packages (from tensorflow) (4.25.4)\n",
      "Requirement already satisfied: requests<3,>=2.21.0 in /Users/gaetan/.venv/lib/python3.12/site-packages (from tensorflow) (2.32.3)\n",
      "Requirement already satisfied: setuptools in /Users/gaetan/.venv/lib/python3.12/site-packages (from tensorflow) (74.1.2)\n",
      "Requirement already satisfied: six>=1.12.0 in /Users/gaetan/.venv/lib/python3.12/site-packages (from tensorflow) (1.16.0)\n",
      "Requirement already satisfied: termcolor>=1.1.0 in /Users/gaetan/.venv/lib/python3.12/site-packages (from tensorflow) (2.4.0)\n",
      "Requirement already satisfied: typing-extensions>=3.6.6 in /Users/gaetan/.venv/lib/python3.12/site-packages (from tensorflow) (4.12.2)\n",
      "Requirement already satisfied: wrapt>=1.11.0 in /Users/gaetan/.venv/lib/python3.12/site-packages (from tensorflow) (1.16.0)\n",
      "Requirement already satisfied: grpcio<2.0,>=1.24.3 in /Users/gaetan/.venv/lib/python3.12/site-packages (from tensorflow) (1.66.1)\n",
      "Requirement already satisfied: tensorboard<2.19,>=2.18 in /Users/gaetan/.venv/lib/python3.12/site-packages (from tensorflow) (2.18.0)\n",
      "Requirement already satisfied: ml-dtypes<0.5.0,>=0.4.0 in /Users/gaetan/.venv/lib/python3.12/site-packages (from tensorflow) (0.4.1)\n",
      "Requirement already satisfied: rich in /Users/gaetan/.venv/lib/python3.12/site-packages (from keras) (13.8.1)\n",
      "Requirement already satisfied: namex in /Users/gaetan/.venv/lib/python3.12/site-packages (from keras) (0.0.8)\n",
      "Requirement already satisfied: optree in /Users/gaetan/.venv/lib/python3.12/site-packages (from keras) (0.12.1)\n",
      "Requirement already satisfied: wheel<1.0,>=0.23.0 in /Users/gaetan/.venv/lib/python3.12/site-packages (from astunparse>=1.6.0->tensorflow) (0.44.0)\n",
      "Requirement already satisfied: charset-normalizer<4,>=2 in /Users/gaetan/.venv/lib/python3.12/site-packages (from requests<3,>=2.21.0->tensorflow) (3.3.2)\n",
      "Requirement already satisfied: idna<4,>=2.5 in /Users/gaetan/.venv/lib/python3.12/site-packages (from requests<3,>=2.21.0->tensorflow) (3.9)\n",
      "Requirement already satisfied: urllib3<3,>=1.21.1 in /Users/gaetan/.venv/lib/python3.12/site-packages (from requests<3,>=2.21.0->tensorflow) (1.26.20)\n",
      "Requirement already satisfied: certifi>=2017.4.17 in /Users/gaetan/.venv/lib/python3.12/site-packages (from requests<3,>=2.21.0->tensorflow) (2024.8.30)\n",
      "Requirement already satisfied: markdown>=2.6.8 in /Users/gaetan/.venv/lib/python3.12/site-packages (from tensorboard<2.19,>=2.18->tensorflow) (3.7)\n",
      "Requirement already satisfied: tensorboard-data-server<0.8.0,>=0.7.0 in /Users/gaetan/.venv/lib/python3.12/site-packages (from tensorboard<2.19,>=2.18->tensorflow) (0.7.2)\n",
      "Requirement already satisfied: werkzeug>=1.0.1 in /Users/gaetan/.venv/lib/python3.12/site-packages (from tensorboard<2.19,>=2.18->tensorflow) (3.0.4)\n",
      "Requirement already satisfied: markdown-it-py>=2.2.0 in /Users/gaetan/.venv/lib/python3.12/site-packages (from rich->keras) (3.0.0)\n",
      "Requirement already satisfied: pygments<3.0.0,>=2.13.0 in /Users/gaetan/.venv/lib/python3.12/site-packages (from rich->keras) (2.18.0)\n",
      "Requirement already satisfied: mdurl~=0.1 in /Users/gaetan/.venv/lib/python3.12/site-packages (from markdown-it-py>=2.2.0->rich->keras) (0.1.2)\n",
      "Requirement already satisfied: MarkupSafe>=2.1.1 in /Users/gaetan/.venv/lib/python3.12/site-packages (from werkzeug>=1.0.1->tensorboard<2.19,>=2.18->tensorflow) (2.1.5)\n"
     ]
    }
   ],
   "source": [
    "# Installation des librairies nécessaires pour ASCAD\n",
    "!pip install numpy h5py matplotlib tqdm tensorflow keras"
   ]
  },
  {
   "cell_type": "code",
   "execution_count": 4,
   "id": "7fe537d7-aae0-4988-a153-adadc7dae4ab",
   "metadata": {},
   "outputs": [],
   "source": [
    "import os\n",
    "import h5py\n",
    "import json\n",
    "import matplotlib.pyplot as plt\n",
    "import keras\n",
    "import tensorflow as tf\n",
    "import platform"
   ]
  },
  {
   "cell_type": "code",
   "execution_count": 5,
   "id": "7386f5d7-56b5-4eca-a346-0db21e46ea67",
   "metadata": {},
   "outputs": [
    {
     "name": "stdout",
     "output_type": "stream",
     "text": [
      "\u001b[34m==>\u001b[0m \u001b[1mDownloading https://formulae.brew.sh/api/formula.jws.json\u001b[0m\n",
      "\u001b[34m==>\u001b[0m \u001b[1mDownloading https://formulae.brew.sh/api/cask.jws.json\u001b[0m\n",
      "\u001b[33mWarning:\u001b[0m python-tk@3.13 3.13.3 is already installed and up-to-date.\n",
      "To reinstall 3.13.3, run:\n",
      "  brew reinstall python-tk@3.13\n"
     ]
    }
   ],
   "source": [
    "if \"macOS\" in platform.platform():\n",
    "    !brew install python-tk"
   ]
  },
  {
   "cell_type": "code",
   "execution_count": 6,
   "id": "f10f79fe-358e-4857-9ebe-0d7c5e18f896",
   "metadata": {},
   "outputs": [
    {
     "name": "stdout",
     "output_type": "stream",
     "text": [
      "Cloning into 'ASCAD'...\n",
      "remote: Enumerating objects: 109, done.\u001b[K\n",
      "remote: Counting objects: 100% (21/21), done.\u001b[K\n",
      "remote: Compressing objects: 100% (12/12), done.\u001b[K\n",
      "remote: Total 109 (delta 12), reused 9 (delta 9), pack-reused 88 (from 1)\u001b[K\n",
      "Receiving objects: 100% (109/109), 178.25 KiB | 1.70 MiB/s, done.\n",
      "Resolving deltas: 100% (53/53), done.\n"
     ]
    }
   ],
   "source": [
    "folder_name = \"ASCAD\"\n",
    "\n",
    "if not os.path.exists(folder_name):\n",
    "    !git clone https://github.com/ANSSI-FR/ASCAD.git\n",
    "else:\n",
    "    print(f\"Folder '{folder_name}' already exists. Skipping git clone.\")"
   ]
  },
  {
   "cell_type": "code",
   "execution_count": 10,
   "id": "b0ed910e-4a06-448f-a713-023615cb9398",
   "metadata": {},
   "outputs": [
    {
     "name": "stdout",
     "output_type": "stream",
     "text": [
      "--2025-04-24 21:48:58--  https://www.data.gouv.fr/s/resources/ascad/20180530-163000/ASCAD_data.zip\n",
      "Resolving www.data.gouv.fr (www.data.gouv.fr)... 37.59.183.73, 37.59.183.91\n",
      "Connecting to www.data.gouv.fr (www.data.gouv.fr)|37.59.183.73|:443... connected.\n",
      "HTTP request sent, awaiting response... 200 OK\n",
      "Length: 4435199469 (4.1G) [application/zip]\n",
      "Saving to: ‘ASCAD_data.zip’\n",
      "\n",
      "ASCAD_data.zip      100%[===================>]   4.13G  15.1MB/s    in 3m 25s  \n",
      "\n",
      "2025-04-24 21:52:23 (20.6 MB/s) - ‘ASCAD_data.zip’ saved [4435199469/4435199469]\n",
      "\n",
      "Archive:  ASCAD_data.zip\n",
      "   creating: ASCAD_data/\n",
      "   creating: ASCAD_data/ASCAD_databases/\n",
      "  inflating: ASCAD_data/ASCAD_databases/ASCAD.h5  \n",
      "  inflating: ASCAD_data/ASCAD_databases/ASCAD_desync100.h5  \n",
      "  inflating: ASCAD_data/ASCAD_databases/ASCAD_desync50.h5  \n",
      "  inflating: ASCAD_data/ASCAD_databases/ATMega8515_raw_traces.h5  \n",
      "   creating: ASCAD_data/ASCAD_trained_models/\n",
      "  inflating: ASCAD_data/ASCAD_trained_models/cnn_best_ascad_desync0_epochs75_classes256_batchsize200.h5  \n",
      "  inflating: ASCAD_data/ASCAD_trained_models/cnn_best_ascad_desync100_epochs75_classes256_batchsize200.h5  \n",
      "  inflating: ASCAD_data/ASCAD_trained_models/cnn_best_ascad_desync50_epochs75_classes256_batchsize200.h5  \n",
      "  inflating: ASCAD_data/ASCAD_trained_models/mlp_best_ascad_desync0_node200_layernb6_epochs200_classes256_batchsize100.h5  \n",
      "  inflating: ASCAD_data/ASCAD_trained_models/mlp_best_ascad_desync100_node200_layernb6_epochs200_classes256_batchsize100.h5  \n",
      "  inflating: ASCAD_data/ASCAD_trained_models/mlp_best_ascad_desync50_node200_layernb6_epochs200_classes256_batchsize100.h5  \n"
     ]
    }
   ],
   "source": [
    "file_path = \"ASCAD_data.zip\"\n",
    "\n",
    "if not os.path.exists(file_path):\n",
    "    # !wget https://files.data.gouv.fr/anssi/ascadv2/ascadv2-extracted.h5\n",
    "    !wget https://www.data.gouv.fr/s/resources/ascad/20180530-163000/ASCAD_data.zip\n",
    "    !unzip ASCAD_data.zip\n",
    "else:\n",
    "    print(f\"Folder '{file_path}' already exists. Skipping download.\")"
   ]
  },
  {
   "cell_type": "markdown",
   "id": "a0abbbcd-7f29-49a8-a802-c291c28a85f7",
   "metadata": {},
   "source": [
    "### 3.2.2 - Chargement des données et des modèles (CNN, MLD)"
   ]
  },
  {
   "cell_type": "code",
   "execution_count": 12,
   "id": "bc152909-aa0e-42fc-ad6c-a44f41739459",
   "metadata": {},
   "outputs": [],
   "source": [
    "trained_models_file1 = \"./ASCAD_data/ASCAD_trained_models/cnn_best_ascad_desync0_epochs75_classes256_batchsize200.h5\"\n",
    "trained_models_file2 = \"./ASCAD_data/ASCAD_trained_models/cnn_best_ascad_desync100_epochs75_classes256_batchsize200.h5\"\n",
    "database_file1 = \"./ASCAD_data/ASCAD_databases/ASCAD.h5\"\n",
    "database_file2 = \"./ASCAD_data/ASCAD_databases/ATMega8515_raw_traces.h5\"\n",
    "\n",
    "trained_models_h5_1 = h5py.File(trained_models_file1, \"r\")\n",
    "trained_models_h5_2 = h5py.File(trained_models_file2, \"r\")\n",
    "database_file_h5_1 = h5py.File(database_file1, \"r\")\n",
    "database_file_h5_2 = h5py.File(database_file2, \"r\")"
   ]
  },
  {
   "cell_type": "markdown",
   "id": "1c03532d-42b5-44ec-830c-8da881769de2",
   "metadata": {},
   "source": [
    "### 3.2.3 - Définitions des paramètres d'entraînement et de tests\n",
    "\n",
    "Définition des paramètres pour entraîner un nouveau modèle:\n",
    "- ascad_database: Chemin d'accès au fichier h5 contenant les traces;\n",
    "- training_model: Chemin d'accès pour stocker le fichier h5 décrivant le model;\n",
    "- network_type: Type de réseau de neurone utilisé (CNN ou MLP);\n",
    "- epochs: Nombre d'epochs;\n",
    "- batch_size: Taille du batch;\n",
    "\n",
    "Définition des paramètres pour tester notre modèle:\n",
    "- model_file: Chemin d'accès au fichier h5 décrivant le model;\n",
    "- ascad_database: Chemin d'accès au fichier h5 contenant les traces;\n",
    "- num_traces: Nombre de traces utilisées pour tester;\n",
    "- save_file: Chemin d'accès pour stocker le graphe correspondant à l'efficacité de notre modèle;"
   ]
  },
  {
   "cell_type": "code",
   "execution_count": 14,
   "id": "7fd4d556-3af3-4bae-9908-c84b96f0c4ed",
   "metadata": {},
   "outputs": [],
   "source": [
    "training_parameters_new_model: dict = {\"ascad_database\": \"ASCAD_data/ASCAD_databases/ASCAD.h5\",\n",
    "                             \"training_model\": \"models/h5/newModelTest.h5\",\n",
    "                             \"network_type\": \"mlp\",\n",
    "                             \"epochs\": 800,\n",
    "                             \"batch_size\": 100}\n",
    "\n",
    "testing_parameters_new_model: dict = {\"model_file\": \"models/h5/newModelTest.h5\",\n",
    "                            \"ascad_database\": \"ASCAD_data/ASCAD_databases/ASCAD.h5\",\n",
    "                            \"num_traces\": 1000,\n",
    "                            \"save_file\": \"models/plots/plot_new_model.png\"}\n",
    "\n",
    "# More information on the keys: https://github.com/ANSSI-FR/ASCAD/tree/master?tab=readme-ov-file#testing-the-trained-models\n",
    "testing_parameters_mld: dict = {\"model_file\": \"ASCAD_data/ASCAD_trained_models/mlp_best_ascad_desync0_node200_layernb6_epochs200_classes256_batchsize100.h5\",\n",
    "                            \"ascad_database\": \"ASCAD_data/ASCAD_databases/ASCAD.h5\",\n",
    "                            \"num_traces\": 2000,\n",
    "                            \"save_file\": \"models/plots/plot_test_model_mld_desync0.png\"}\n",
    "\n",
    "testing_parameters_cnn: dict = {\"model_file\": \"ASCAD_data/ASCAD_trained_models/cnn_best_ascad_desync0_epochs75_classes256_batchsize200.h5\",\n",
    "                            \"ascad_database\": \"ASCAD_data/ASCAD_databases/ASCAD.h5\",\n",
    "                            \"num_traces\": 2000,\n",
    "                            \"save_file\": \"models/plots/plot_test_model_cnn_desync0.png\"}\n",
    "\n",
    "with open('models/txt/training/training_parameters_new_model.txt', 'w') as training_file:\n",
    "     training_file.write(json.dumps(training_parameters_new_model))\n",
    "\n",
    "with open('models/txt/testing/testing_parameters_new_model.txt', 'w') as training_file:\n",
    "     training_file.write(json.dumps(testing_parameters_new_model))\n",
    "\n",
    "with open('models/txt/testing/testing_parameters_mld.txt', 'w') as testing_file:\n",
    "     testing_file.write(json.dumps(testing_parameters_mld))\n",
    "\n",
    "with open('models/txt/testing/testing_parameters_cnn.txt', 'w') as testing_file:\n",
    "     testing_file.write(json.dumps(testing_parameters_cnn))"
   ]
  },
  {
   "cell_type": "markdown",
   "id": "c9c9e5dd-b3c1-408b-93a1-b102be1bfd6c",
   "metadata": {},
   "source": [
    "### 3.2.4 - Entraînement d'un modèle"
   ]
  },
  {
   "cell_type": "code",
   "execution_count": 11,
   "id": "f5d57ad8-2718-4265-a454-ebcfc25feef8",
   "metadata": {
    "scrolled": true
   },
   "outputs": [
    {
     "name": "stdout",
     "output_type": "stream",
     "text": [
      "Model already trained\n"
     ]
    },
    {
     "name": "stdin",
     "output_type": "stream",
     "text": [
      "Do you want to train again? [y/N] \n"
     ]
    }
   ],
   "source": [
    "if not os.path.exists(\"models/h5/newModelTest.h5\"):\n",
    "    !python3 ASCAD/ASCAD_train_models.py models/txt/training/training_parameters_new_model.txt\n",
    "else:\n",
    "    print(\"Model already trained\")\n",
    "    train_model: str = input(\"Do you want to train again? [y/N]\") or \"N\"\n",
    "    if train_model.lower() == \"y\":\n",
    "        !python3 ASCAD/ASCAD_train_models.py models/txt/training/training_parameters_new_model.txt"
   ]
  },
  {
   "cell_type": "markdown",
   "id": "0c6d9aa7-9701-4aad-b754-06bf41c42526",
   "metadata": {},
   "source": [
    "### 3.2.5 - Test d'un modèle"
   ]
  },
  {
   "cell_type": "code",
   "execution_count": 8,
   "id": "146bd89b-2ac1-46b1-9458-e92e1c8ad415",
   "metadata": {},
   "outputs": [
    {
     "name": "stderr",
     "output_type": "stream",
     "text": [
      "WARNING:absl:Compiled the loaded model, but the compiled metrics have yet to be built. `model.compile_metrics` will be empty until you train or evaluate the model.\n"
     ]
    },
    {
     "name": "stdout",
     "output_type": "stream",
     "text": [
      "b\n",
      "Full path: /Users/gaetan/Documents/M1/ADL/s2/M1_S2_ADL/DLSPA/models/h5/newModelTest.h5\n",
      "File exists: True\n",
      "models/plots/plot_new_model.png\n",
      "Full path: /Users/gaetan/Documents/M1/ADL/s2/M1_S2_ADL/DLSPA/models/h5/newModelTest.h5\n",
      "File exists: True\n",
      "Model file:  models/h5/newModelTest.h5\n",
      "Model weights found in file\n",
      "File keys: ['model_weights', 'optimizer_weights']\n",
      "3.11.0\n",
      "\u001b[1m32/32\u001b[0m \u001b[32m━━━━━━━━━━━━━━━━━━━━\u001b[0m\u001b[37m\u001b[0m \u001b[1m0s\u001b[0m 1ms/step \n",
      "Computing rank for targeted byte 2\n"
     ]
    },
    {
     "name": "stderr",
     "output_type": "stream",
     "text": [
      "/Users/gaetan/Documents/M1/ADL/s2/M1_S2_ADL/DLSPA/ASCAD/ASCAD_test_models.py:330: UserWarning: FigureCanvasAgg is non-interactive, and thus cannot be shown\n",
      "  plt.show(block=False)\n"
     ]
    },
    {
     "name": "stdin",
     "output_type": "stream",
     "text": [
      "Press enter to exit ... \n"
     ]
    }
   ],
   "source": [
    "%matplotlib inline\n",
    "plt.close('all')\n",
    "%run ASCAD/ASCAD_test_models.py models/txt/testing/testing_parameters_new_model.txt"
   ]
  },
  {
   "cell_type": "code",
   "execution_count": 9,
   "id": "71e6110b-8760-4d8d-801e-0ec7c5b9428f",
   "metadata": {},
   "outputs": [
    {
     "data": {
      "image/png": "[encoded data removed]",
      "text/plain": [
       "<IPython.core.display.Image object>"
      ]
     },
     "execution_count": 9,
     "metadata": {},
     "output_type": "execute_result"
    }
   ],
   "source": [
    "from IPython.display import Image\n",
    "Image(filename='models/plots/plot_new_model.png') "
   ]
  },
  {
   "cell_type": "markdown",
   "id": "3bf6e1db-cfac-4524-be11-0391ddfa464e",
   "metadata": {},
   "source": [
    "# Ressources\n",
    "\n",
    "## Livres\n",
    "\n",
    "- [An Introduction to Mathematical Cryptography](https://link.springer.com/book/10.1007/978-1-4939-1711-2)\n",
    "- [Power Analysis Attacks - Revealing the Secrets of Smart Cards](https://link.springer.com/book/10.1007/978-0-387-38162-6)\n",
    "- [Serious Cryptography - A Practical Introduction to Modern Encryption](https://nostarch.com/serious-cryptography-2nd-edition)\n",
    "- [ Power Analysis Attacks - Revealing the Secrets of Smart Cards](https://link.springer.com/book/10.1007/978-0-387-38162-6)\n",
    "\n",
    "## Sites Web\n",
    "\n",
    "- [AES - Wikipedia](https://en.wikipedia.org/wiki/Advanced_Encryption_Standard)\n",
    "- [Qu'est-ce qu'un convolutional neural networks (CNN) ? - IBM](https://www.ibm.com/fr-fr/topics/convolutional-neural-networks)\n",
    "- [Convolutional Neural Network: Everything You Need to Know - DataScientest](https://datascientest.com/en/convolutional-neural-network-everything-you-need-to-know)\n",
    "- [Réseau neuronal convolutif (CNN)](https://www.tensorflow.org/tutorials/images/cnn?hl=fr)\n",
    "- [1.17. Neural network models (supervised)](https://scikit-learn.org/stable/modules/neural_networks_supervised.html)\n",
    "- [Why are side channel attacks such as SPA/DPA/ CPA based on the AES SubBytes routine?](https://crypto.stackexchange.com/questions/42571/why-are-side-channel-attacks-such-as-spa-dpa-cpa-based-on-the-aes-subbytes-rout)\n",
    "\n",
    "## Papiers Scientifiques\n",
    "\n",
    "- [The Design of Rijndael (AES - The Advanced Encryption Standard)](https://link.springer.com/book/10.1007/978-3-662-04722-4)\n",
    "- [Announcing the ADVANCED ENCRYPTION STANDARD (AES)](http://csrc.nist.gov/publications/fips/fips197/fips-197.pdf)\n",
    "- [A Practical Tutorial on Deep Learning-based Side-channel Analysis](https://eprint.iacr.org/2025/471.pdf)\n",
    "    - [DLSCA-tutorial - Github](https://github.com/marinakrcek/DLSCA-tutorial/tree/main)\n",
    " - [Study of Deep Learning Techniques for Side-Channel Analysis and Introduction to ASCAD Database](https://eprint.iacr.org/2018/053.pdf)\n",
    "    - [ASCAD - Github](https://github.com/ANSSI-FR/ASCAD?tab=readme-ov-file)"
   ]
  },
  {
   "cell_type": "code",
   "execution_count": null,
   "id": "593c2023-e778-4d79-ad2d-fe09af9b40e8",
   "metadata": {},
   "outputs": [],
   "source": []
  }
 ],
 "metadata": {
  "kernelspec": {
   "display_name": "Python 3 (ipykernel)",
   "language": "python",
   "name": "python3"
  },
  "language_info": {
   "codemirror_mode": {
    "name": "ipython",
    "version": 3
   },
   "file_extension": ".py",
   "mimetype": "text/x-python",
   "name": "python",
   "nbconvert_exporter": "python",
   "pygments_lexer": "ipython3",
   "version": "3.12.9"
  }
 },
 "nbformat": 4,
 "nbformat_minor": 5
}

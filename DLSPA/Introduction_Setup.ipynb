{
 "cells": [
  {
   "cell_type": "code",
   "execution_count": 1,
   "id": "7e69024f-f7d5-4a04-9939-7b6fa347932c",
   "metadata": {},
   "outputs": [],
   "source": [
    "# p 10/17"
   ]
  },
  {
   "cell_type": "markdown",
   "id": "777ad7df-1391-4c69-b7ca-04084d0229c8",
   "metadata": {},
   "source": [
    "# 1. Introduction aux attaques par canaux auxiliaires\n",
    "\n",
    "## 1.1 - Définition\n",
    "\n",
    "Les **attaques par canaux auxiliaires** ou *(Side-Channel Attacks ou **SCA**)* sont des **attaques passives** et\n",
    "**non-invasives** où l’attaquant va **observer** et **mesurer** les caractéristiques **analogiques de l’implémentation\n",
    "logicielle ou matérielle d’un algorithme de chiffrement**, afin d’extraire la clé de chiffrement. Les principales caractéristiques analogiques utilisées en SCA sont le **temps d’exécution**, la **consommation\n",
    "électrique** et les **émissions électromagnétiques**. [\\[2\\]](https://link.springer.com/book/10.1007/978-0-387-77993-5) [\\[3\\]](https://link.springer.com/book/10.1007/978-0-387-38162-6).\n",
    "\n",
    "## 1.2 - AES\n",
    "\n",
    "Advanced Encryption Standard *(**AES**)* [\\[3\\]](https://link.springer.com/book/10.1007/978-3-662-04722-4) [\\[4\\]](http://csrc.nist.gov/publications/fips/fips197/fips-197.pdf) est un algorithme de **chiffrement symétrique par blocs**, dérivé de la famille d'algorithmes de *Rijndael*, qui utilise différentes tailles de clés et de blocs. AES est utilisé en $3$ versions différentes, **AES-128** *($10$ rondes)*, **AES-192** *($12$ rondes)* et **AES-256** *($14$ rondes)* qui utilisent respectivement une **taille de clé de $128$, $192$ et $256$** bits ainsi qu'une **taille de blocs de $128$ bits**.\n",
    "\n",
    "\n",
    "### 1.2.1 - Rappel fonctionnement AES\n",
    "\n",
    "À chaque ronde, une clé distincte, nommée **Round Key** *($K_i$)*, est utilisée, et toutes ces clés sont dérivées\n",
    "de la clé secrète $K$.\n",
    "\n",
    "> **_NOTE:_**  La première et dernière ronde diffèrent des autres.\n",
    "\n",
    "<center>\n",
    "<img src=\"images/AESRounds.png\"\n",
    "     alt=\"Rondes AES-128\"\n",
    "     style=\"\" \n",
    "     width=\"200\"\n",
    "     height=\"auto\"/>\n",
    "</center>\n",
    "\n",
    "#### 1.2.1.1 - AddRoundKey\n",
    "\n",
    "Chaque bits du bloc de données en cours de chiffrement est $XOR$ avec la clé de la ronde $(Ki)$.\n",
    "\n",
    "<br>\n",
    "<center>\n",
    "<img src=\"images/aes_addroundkey.svg.png\"\n",
    "     alt=\"Operation AddRoundKey\"\n",
    "     style=\"\" \n",
    "     width=\"300\"\n",
    "     height=\"auto\"/>\n",
    "</center>\n",
    "\n",
    "#### 1.2.1.2 - SubBytes\n",
    "\n",
    "**Substitution non linéaire** où chaque octet de l’état est remplacé par un autre octet selon une table de correspondance *(table de substitution ou **S-box**)*. Cette substitution renforce la **diffusion** des données.\n",
    "\n",
    "<br>\n",
    "<center>\n",
    "<img src=\"images/aes_subbytes.png\"\n",
    "     alt=\"Operation AddRoundKey\"\n",
    "     style=\"\" \n",
    "     width=\"300\"\n",
    "     height=\"auto\"/>\n",
    "</center>\n",
    "\n",
    "#### 1.2.1.3 - ShiftRows\n",
    "\n",
    "Effectue une **transposition cyclique** des lignes de l’état. La première ligne reste inchangée, la deuxième est décalée d’un octet vers la gauche, la troisième de deux octets, et la quatrième de trois octets. Cela contribue à la **confusion** en modifiant l’ordre des données.\n",
    "\n",
    "<br>\n",
    "<center>\n",
    "<img src=\"images/aes_shiftrowssvg.png\"\n",
    "     alt=\"Operation AddRoundKey\"\n",
    "     style=\"\" \n",
    "     width=\"350\"\n",
    "     height=\"auto\"/>\n",
    "</center>\n",
    "\n",
    "\n",
    "#### 1.2.1.4 - MixColumns\n",
    "\n",
    "Opération de mélange linéaire sur les colonnes du bloc. Chaque colonne est multipliée par la matrice hexadécimal $4 \\times 4$ fixe suivante:\n",
    "\n",
    "$$\n",
    "C = \\begin{bmatrix}\n",
    "    02 & 03 & 01 & 01\\\\\n",
    "    01 & 02 & 03 & 01\\\\\n",
    "    01 & 01 & 02 & 03\\\\\n",
    "    03 & 01 & 01 & 02\n",
    "    \\end{bmatrix}\n",
    "$$\n",
    "\n",
    "<br>\n",
    "<center>\n",
    "<img src=\"images/aes_mixcolumns.png\"\n",
    "     alt=\"Operation AddRoundKey\"\n",
    "     style=\"\" \n",
    "     width=\"300\"\n",
    "     height=\"auto\"/>\n",
    "</center>\n",
    "\n",
    "#### 1.2.1.5 - Vecteur d'Initialisation\n",
    "\n",
    "Un **vecteur d’initialisation** *($IV$)* est utilisé dans AES comme pour la majorité des systèmes de chiffrement par blocs. Son utilisation permet d’obtenir deux chiffrés *($C$)* différents à partir du même texte clair *($P$)* à condition de ne jamais réutiliser le même $IV$ avec une clé identique. À noter que l’utilisation d’un $IV$ sur un $P > 128$, nécessitera un seul vecteur d’initialisation pour l’ensemble des blocs.\n",
    "\n",
    "#### 1.2.1.5 - S-box\n",
    "\n",
    "La **Rijndael S-box** *(**S-box**)* est une méthode permettant d’ajouter de la non-linéarité dans le processus de chiffrement de AES utilisée lors de l’opération $SubBytes()$. **S-box est une table de substitution** de taille $16 \\times 16$ permettant de transformer n’importe quelle valeur codée sur $8$ bits en une autre valeur."
   ]
  },
  {
   "cell_type": "code",
   "execution_count": 2,
   "id": "f2d7de90-7ad2-4399-a34c-30809b501ecd",
   "metadata": {},
   "outputs": [],
   "source": [
    "import numpy as np\n",
    "\n",
    "AES_Sbox = np.array([\n",
    "    0x63, 0x7C, 0x77, 0x7B, 0xF2, 0x6B, 0x6F, 0xC5, 0x30, 0x01, 0x67, 0x2B, 0xFE, 0xD7, 0xAB, 0x76,\n",
    "    0xCA, 0x82, 0xC9, 0x7D, 0xFA, 0x59, 0x47, 0xF0, 0xAD, 0xD4, 0xA2, 0xAF, 0x9C, 0xA4, 0x72, 0xC0,\n",
    "    0xB7, 0xFD, 0x93, 0x26, 0x36, 0x3F, 0xF7, 0xCC, 0x34, 0xA5, 0xE5, 0xF1, 0x71, 0xD8, 0x31, 0x15,\n",
    "    0x04, 0xC7, 0x23, 0xC3, 0x18, 0x96, 0x05, 0x9A, 0x07, 0x12, 0x80, 0xE2, 0xEB, 0x27, 0xB2, 0x75,\n",
    "    0x09, 0x83, 0x2C, 0x1A, 0x1B, 0x6E, 0x5A, 0xA0, 0x52, 0x3B, 0xD6, 0xB3, 0x29, 0xE3, 0x2F, 0x84,\n",
    "    0x53, 0xD1, 0x00, 0xED, 0x20, 0xFC, 0xB1, 0x5B, 0x6A, 0xCB, 0xBE, 0x39, 0x4A, 0x4C, 0x58, 0xCF,\n",
    "    0xD0, 0xEF, 0xAA, 0xFB, 0x43, 0x4D, 0x33, 0x85, 0x45, 0xF9, 0x02, 0x7F, 0x50, 0x3C, 0x9F, 0xA8,\n",
    "    0x51, 0xA3, 0x40, 0x8F, 0x92, 0x9D, 0x38, 0xF5, 0xBC, 0xB6, 0xDA, 0x21, 0x10, 0xFF, 0xF3, 0xD2,\n",
    "    0xCD, 0x0C, 0x13, 0xEC, 0x5F, 0x97, 0x44, 0x17, 0xC4, 0xA7, 0x7E, 0x3D, 0x64, 0x5D, 0x19, 0x73,\n",
    "    0x60, 0x81, 0x4F, 0xDC, 0x22, 0x2A, 0x90, 0x88, 0x46, 0xEE, 0xB8, 0x14, 0xDE, 0x5E, 0x0B, 0xDB,\n",
    "    0xE0, 0x32, 0x3A, 0x0A, 0x49, 0x06, 0x24, 0x5C, 0xC2, 0xD3, 0xAC, 0x62, 0x91, 0x95, 0xE4, 0x79,\n",
    "    0xE7, 0xC8, 0x37, 0x6D, 0x8D, 0xD5, 0x4E, 0xA9, 0x6C, 0x56, 0xF4, 0xEA, 0x65, 0x7A, 0xAE, 0x08,\n",
    "    0xBA, 0x78, 0x25, 0x2E, 0x1C, 0xA6, 0xB4, 0xC6, 0xE8, 0xDD, 0x74, 0x1F, 0x4B, 0xBD, 0x8B, 0x8A,\n",
    "    0x70, 0x3E, 0xB5, 0x66, 0x48, 0x03, 0xF6, 0x0E, 0x61, 0x35, 0x57, 0xB9, 0x86, 0xC1, 0x1D, 0x9E,\n",
    "    0xE1, 0xF8, 0x98, 0x11, 0x69, 0xD9, 0x8E, 0x94, 0x9B, 0x1E, 0x87, 0xE9, 0xCE, 0x55, 0x28, 0xDF,\n",
    "    0x8C, 0xA1, 0x89, 0x0D, 0xBF, 0xE6, 0x42, 0x68, 0x41, 0x99, 0x2D, 0x0F, 0xB0, 0x54, 0xBB, 0x16\n",
    "])"
   ]
  },
  {
   "cell_type": "markdown",
   "id": "0c17aed2-f921-49cf-b245-a5ccda212a25",
   "metadata": {},
   "source": [
    "#### 1.2.1.6 - Modes d’opérations\n",
    "\n",
    "AES découpe le message en blocs de taille 128 bits, il est donc nécessaire de chaîner les blocs entre eux afin de garantir l’**intégrité** du message. Il existe plusieurs modes de chaînage *(**CBC**, **CFB**, **OFB**)*. Dans ce lab, nous allons nous concentrer sur **CBC**.\n",
    "\n",
    "<ins>Chiffrement avec le mode à CBC:\n",
    "<br>\n",
    "<center>\n",
    "<img src=\"images/CBCChiffrement.png\"\n",
    "     alt=\"Chiffrement CBC\"\n",
    "     style=\"\" \n",
    "     width=\"500\"\n",
    "     height=\"auto\"/>\n",
    "</center>\n",
    "\n",
    "\n",
    "<ins>Déchiffrement avec le mode CBC:\n",
    "<br>\n",
    "<center>\n",
    "<img src=\"images/CBCDechiffrement.png\"\n",
    "     alt=\"Dechiffrement CBC\"\n",
    "     style=\"\" \n",
    "     width=\"500\"\n",
    "     height=\"auto\"/>\n",
    "</center>\n",
    "\n",
    "### 1.2.2 - Attaques par canaux auxiliaires pour AES\n",
    "\n"
   ]
  },
  {
   "cell_type": "markdown",
   "id": "b0295258-e05d-4cea-9e01-9f9ba428eedc",
   "metadata": {},
   "source": [
    "# 2 - Introduction au Deep Learning\n",
    "\n",
    "## 2.2 - CNN\n",
    "\n"
   ]
  },
  {
   "cell_type": "markdown",
   "id": "8547565d-44cb-48d1-9aba-58e08b84e52e",
   "metadata": {},
   "source": [
    "## 2.3 - RNN\n",
    "\n"
   ]
  },
  {
   "cell_type": "markdown",
   "id": "ca998892-b4d8-4f71-8540-fa6d5c12ad0a",
   "metadata": {},
   "source": [
    "# 3 - DLSCA (Deep Learning-based Side-channel Analysis)\n",
    "\n",
    "## 3.1 - Definition\n",
    "\n",
    "## 3.2 - ASCAD\n",
    "\n",
    "### 3.2.1 - Setup"
   ]
  },
  {
   "cell_type": "code",
   "execution_count": 3,
   "id": "1544360d-9d55-4c22-ad83-6fc5ef51d420",
   "metadata": {
    "scrolled": true
   },
   "outputs": [
    {
     "name": "stdout",
     "output_type": "stream",
     "text": [
      "Requirement already satisfied: numpy in /Users/gaetan/.venv/lib/python3.12/site-packages (1.26.4)\n",
      "Requirement already satisfied: h5py in /Users/gaetan/.venv/lib/python3.12/site-packages (3.11.0)\n",
      "Requirement already satisfied: matplotlib in /Users/gaetan/.venv/lib/python3.12/site-packages (3.9.2)\n",
      "Requirement already satisfied: tqdm in /Users/gaetan/.venv/lib/python3.12/site-packages (4.66.5)\n",
      "Requirement already satisfied: tensorflow in /Users/gaetan/.venv/lib/python3.12/site-packages (2.18.0)\n",
      "Requirement already satisfied: keras in /Users/gaetan/.venv/lib/python3.12/site-packages (3.8.0)\n",
      "Requirement already satisfied: contourpy>=1.0.1 in /Users/gaetan/.venv/lib/python3.12/site-packages (from matplotlib) (1.3.0)\n",
      "Requirement already satisfied: cycler>=0.10 in /Users/gaetan/.venv/lib/python3.12/site-packages (from matplotlib) (0.12.1)\n",
      "Requirement already satisfied: fonttools>=4.22.0 in /Users/gaetan/.venv/lib/python3.12/site-packages (from matplotlib) (4.53.1)\n",
      "Requirement already satisfied: kiwisolver>=1.3.1 in /Users/gaetan/.venv/lib/python3.12/site-packages (from matplotlib) (1.4.7)\n",
      "Requirement already satisfied: packaging>=20.0 in /Users/gaetan/.venv/lib/python3.12/site-packages (from matplotlib) (24.1)\n",
      "Requirement already satisfied: pillow>=8 in /Users/gaetan/.venv/lib/python3.12/site-packages (from matplotlib) (10.4.0)\n",
      "Requirement already satisfied: pyparsing>=2.3.1 in /Users/gaetan/.venv/lib/python3.12/site-packages (from matplotlib) (3.1.4)\n",
      "Requirement already satisfied: python-dateutil>=2.7 in /Users/gaetan/.venv/lib/python3.12/site-packages (from matplotlib) (2.9.0.post0)\n",
      "Requirement already satisfied: absl-py>=1.0.0 in /Users/gaetan/.venv/lib/python3.12/site-packages (from tensorflow) (2.1.0)\n",
      "Requirement already satisfied: astunparse>=1.6.0 in /Users/gaetan/.venv/lib/python3.12/site-packages (from tensorflow) (1.6.3)\n",
      "Requirement already satisfied: flatbuffers>=24.3.25 in /Users/gaetan/.venv/lib/python3.12/site-packages (from tensorflow) (24.3.25)\n",
      "Requirement already satisfied: gast!=0.5.0,!=0.5.1,!=0.5.2,>=0.2.1 in /Users/gaetan/.venv/lib/python3.12/site-packages (from tensorflow) (0.6.0)\n",
      "Requirement already satisfied: google-pasta>=0.1.1 in /Users/gaetan/.venv/lib/python3.12/site-packages (from tensorflow) (0.2.0)\n",
      "Requirement already satisfied: libclang>=13.0.0 in /Users/gaetan/.venv/lib/python3.12/site-packages (from tensorflow) (18.1.1)\n",
      "Requirement already satisfied: opt-einsum>=2.3.2 in /Users/gaetan/.venv/lib/python3.12/site-packages (from tensorflow) (3.3.0)\n",
      "Requirement already satisfied: protobuf!=4.21.0,!=4.21.1,!=4.21.2,!=4.21.3,!=4.21.4,!=4.21.5,<6.0.0dev,>=3.20.3 in /Users/gaetan/.venv/lib/python3.12/site-packages (from tensorflow) (4.25.4)\n",
      "Requirement already satisfied: requests<3,>=2.21.0 in /Users/gaetan/.venv/lib/python3.12/site-packages (from tensorflow) (2.32.3)\n",
      "Requirement already satisfied: setuptools in /Users/gaetan/.venv/lib/python3.12/site-packages (from tensorflow) (74.1.2)\n",
      "Requirement already satisfied: six>=1.12.0 in /Users/gaetan/.venv/lib/python3.12/site-packages (from tensorflow) (1.16.0)\n",
      "Requirement already satisfied: termcolor>=1.1.0 in /Users/gaetan/.venv/lib/python3.12/site-packages (from tensorflow) (2.4.0)\n",
      "Requirement already satisfied: typing-extensions>=3.6.6 in /Users/gaetan/.venv/lib/python3.12/site-packages (from tensorflow) (4.12.2)\n",
      "Requirement already satisfied: wrapt>=1.11.0 in /Users/gaetan/.venv/lib/python3.12/site-packages (from tensorflow) (1.16.0)\n",
      "Requirement already satisfied: grpcio<2.0,>=1.24.3 in /Users/gaetan/.venv/lib/python3.12/site-packages (from tensorflow) (1.66.1)\n",
      "Requirement already satisfied: tensorboard<2.19,>=2.18 in /Users/gaetan/.venv/lib/python3.12/site-packages (from tensorflow) (2.18.0)\n",
      "Requirement already satisfied: ml-dtypes<0.5.0,>=0.4.0 in /Users/gaetan/.venv/lib/python3.12/site-packages (from tensorflow) (0.4.1)\n",
      "Requirement already satisfied: rich in /Users/gaetan/.venv/lib/python3.12/site-packages (from keras) (13.8.1)\n",
      "Requirement already satisfied: namex in /Users/gaetan/.venv/lib/python3.12/site-packages (from keras) (0.0.8)\n",
      "Requirement already satisfied: optree in /Users/gaetan/.venv/lib/python3.12/site-packages (from keras) (0.12.1)\n",
      "Requirement already satisfied: wheel<1.0,>=0.23.0 in /Users/gaetan/.venv/lib/python3.12/site-packages (from astunparse>=1.6.0->tensorflow) (0.44.0)\n",
      "Requirement already satisfied: charset-normalizer<4,>=2 in /Users/gaetan/.venv/lib/python3.12/site-packages (from requests<3,>=2.21.0->tensorflow) (3.3.2)\n",
      "Requirement already satisfied: idna<4,>=2.5 in /Users/gaetan/.venv/lib/python3.12/site-packages (from requests<3,>=2.21.0->tensorflow) (3.9)\n",
      "Requirement already satisfied: urllib3<3,>=1.21.1 in /Users/gaetan/.venv/lib/python3.12/site-packages (from requests<3,>=2.21.0->tensorflow) (1.26.20)\n",
      "Requirement already satisfied: certifi>=2017.4.17 in /Users/gaetan/.venv/lib/python3.12/site-packages (from requests<3,>=2.21.0->tensorflow) (2024.8.30)\n",
      "Requirement already satisfied: markdown>=2.6.8 in /Users/gaetan/.venv/lib/python3.12/site-packages (from tensorboard<2.19,>=2.18->tensorflow) (3.7)\n",
      "Requirement already satisfied: tensorboard-data-server<0.8.0,>=0.7.0 in /Users/gaetan/.venv/lib/python3.12/site-packages (from tensorboard<2.19,>=2.18->tensorflow) (0.7.2)\n",
      "Requirement already satisfied: werkzeug>=1.0.1 in /Users/gaetan/.venv/lib/python3.12/site-packages (from tensorboard<2.19,>=2.18->tensorflow) (3.0.4)\n",
      "Requirement already satisfied: markdown-it-py>=2.2.0 in /Users/gaetan/.venv/lib/python3.12/site-packages (from rich->keras) (3.0.0)\n",
      "Requirement already satisfied: pygments<3.0.0,>=2.13.0 in /Users/gaetan/.venv/lib/python3.12/site-packages (from rich->keras) (2.18.0)\n",
      "Requirement already satisfied: mdurl~=0.1 in /Users/gaetan/.venv/lib/python3.12/site-packages (from markdown-it-py>=2.2.0->rich->keras) (0.1.2)\n",
      "Requirement already satisfied: MarkupSafe>=2.1.1 in /Users/gaetan/.venv/lib/python3.12/site-packages (from werkzeug>=1.0.1->tensorboard<2.19,>=2.18->tensorflow) (2.1.5)\n"
     ]
    }
   ],
   "source": [
    "# Installation des librairies nécessaires pour ASCAD\n",
    "!pip install numpy h5py matplotlib tqdm tensorflow keras"
   ]
  },
  {
   "cell_type": "code",
   "execution_count": 4,
   "id": "7fe537d7-aae0-4988-a153-adadc7dae4ab",
   "metadata": {},
   "outputs": [],
   "source": [
    "import os\n",
    "import h5py\n",
    "import json\n",
    "import matplotlib.pyplot as plt\n",
    "import keras\n",
    "import tensorflow as tf\n",
    "import platform"
   ]
  },
  {
   "cell_type": "code",
   "execution_count": 5,
   "id": "7386f5d7-56b5-4eca-a346-0db21e46ea67",
   "metadata": {},
   "outputs": [
    {
     "name": "stdout",
     "output_type": "stream",
     "text": [
      "\u001b[34m==>\u001b[0m \u001b[1mDownloading https://formulae.brew.sh/api/formula.jws.json\u001b[0m\n",
      "\u001b[34m==>\u001b[0m \u001b[1mDownloading https://formulae.brew.sh/api/cask.jws.json\u001b[0m\n",
      "\u001b[33mWarning:\u001b[0m python-tk@3.13 3.13.3 is already installed and up-to-date.\n",
      "To reinstall 3.13.3, run:\n",
      "  brew reinstall python-tk@3.13\n"
     ]
    }
   ],
   "source": [
    "if \"macOS\" in platform.platform():\n",
    "    !brew install python-tk"
   ]
  },
  {
   "cell_type": "code",
   "execution_count": 6,
   "id": "f10f79fe-358e-4857-9ebe-0d7c5e18f896",
   "metadata": {},
   "outputs": [
    {
     "name": "stdout",
     "output_type": "stream",
     "text": [
      "Cloning into 'ASCAD'...\n",
      "remote: Enumerating objects: 109, done.\u001b[K\n",
      "remote: Counting objects: 100% (21/21), done.\u001b[K\n",
      "remote: Compressing objects: 100% (12/12), done.\u001b[K\n",
      "remote: Total 109 (delta 12), reused 9 (delta 9), pack-reused 88 (from 1)\u001b[K\n",
      "Receiving objects: 100% (109/109), 178.25 KiB | 1.70 MiB/s, done.\n",
      "Resolving deltas: 100% (53/53), done.\n"
     ]
    }
   ],
   "source": [
    "folder_name = \"ASCAD\"\n",
    "\n",
    "if not os.path.exists(folder_name):\n",
    "    !git clone https://github.com/ANSSI-FR/ASCAD.git\n",
    "else:\n",
    "    print(f\"Folder '{folder_name}' already exists. Skipping git clone.\")"
   ]
  },
  {
   "cell_type": "code",
   "execution_count": 10,
   "id": "b0ed910e-4a06-448f-a713-023615cb9398",
   "metadata": {},
   "outputs": [
    {
     "name": "stdout",
     "output_type": "stream",
     "text": [
      "--2025-04-24 21:48:58--  https://www.data.gouv.fr/s/resources/ascad/20180530-163000/ASCAD_data.zip\n",
      "Resolving www.data.gouv.fr (www.data.gouv.fr)... 37.59.183.73, 37.59.183.91\n",
      "Connecting to www.data.gouv.fr (www.data.gouv.fr)|37.59.183.73|:443... connected.\n",
      "HTTP request sent, awaiting response... 200 OK\n",
      "Length: 4435199469 (4.1G) [application/zip]\n",
      "Saving to: ‘ASCAD_data.zip’\n",
      "\n",
      "ASCAD_data.zip      100%[===================>]   4.13G  15.1MB/s    in 3m 25s  \n",
      "\n",
      "2025-04-24 21:52:23 (20.6 MB/s) - ‘ASCAD_data.zip’ saved [4435199469/4435199469]\n",
      "\n",
      "Archive:  ASCAD_data.zip\n",
      "   creating: ASCAD_data/\n",
      "   creating: ASCAD_data/ASCAD_databases/\n",
      "  inflating: ASCAD_data/ASCAD_databases/ASCAD.h5  \n",
      "  inflating: ASCAD_data/ASCAD_databases/ASCAD_desync100.h5  \n",
      "  inflating: ASCAD_data/ASCAD_databases/ASCAD_desync50.h5  \n",
      "  inflating: ASCAD_data/ASCAD_databases/ATMega8515_raw_traces.h5  \n",
      "   creating: ASCAD_data/ASCAD_trained_models/\n",
      "  inflating: ASCAD_data/ASCAD_trained_models/cnn_best_ascad_desync0_epochs75_classes256_batchsize200.h5  \n",
      "  inflating: ASCAD_data/ASCAD_trained_models/cnn_best_ascad_desync100_epochs75_classes256_batchsize200.h5  \n",
      "  inflating: ASCAD_data/ASCAD_trained_models/cnn_best_ascad_desync50_epochs75_classes256_batchsize200.h5  \n",
      "  inflating: ASCAD_data/ASCAD_trained_models/mlp_best_ascad_desync0_node200_layernb6_epochs200_classes256_batchsize100.h5  \n",
      "  inflating: ASCAD_data/ASCAD_trained_models/mlp_best_ascad_desync100_node200_layernb6_epochs200_classes256_batchsize100.h5  \n",
      "  inflating: ASCAD_data/ASCAD_trained_models/mlp_best_ascad_desync50_node200_layernb6_epochs200_classes256_batchsize100.h5  \n"
     ]
    }
   ],
   "source": [
    "file_path = \"ASCAD_data.zip\"\n",
    "\n",
    "if not os.path.exists(file_path):\n",
    "    # !wget https://files.data.gouv.fr/anssi/ascadv2/ascadv2-extracted.h5\n",
    "    !wget https://www.data.gouv.fr/s/resources/ascad/20180530-163000/ASCAD_data.zip\n",
    "    !unzip ASCAD_data.zip\n",
    "else:\n",
    "    print(f\"Folder '{file_path}' already exists. Skipping download.\")"
   ]
  },
  {
   "cell_type": "markdown",
   "id": "a0abbbcd-7f29-49a8-a802-c291c28a85f7",
   "metadata": {},
   "source": [
    "### 3.2.2 - Chargement des données et des modèles (CNN, MLD)"
   ]
  },
  {
   "cell_type": "code",
   "execution_count": 12,
   "id": "bc152909-aa0e-42fc-ad6c-a44f41739459",
   "metadata": {},
   "outputs": [],
   "source": [
    "trained_models_file1 = \"./ASCAD_data/ASCAD_trained_models/cnn_best_ascad_desync0_epochs75_classes256_batchsize200.h5\"\n",
    "trained_models_file2 = \"./ASCAD_data/ASCAD_trained_models/cnn_best_ascad_desync100_epochs75_classes256_batchsize200.h5\"\n",
    "database_file1 = \"./ASCAD_data/ASCAD_databases/ASCAD.h5\"\n",
    "database_file2 = \"./ASCAD_data/ASCAD_databases/ATMega8515_raw_traces.h5\"\n",
    "\n",
    "trained_models_h5_1 = h5py.File(trained_models_file1, \"r\")\n",
    "trained_models_h5_2 = h5py.File(trained_models_file2, \"r\")\n",
    "database_file_h5_1 = h5py.File(database_file1, \"r\")\n",
    "database_file_h5_2 = h5py.File(database_file2, \"r\")"
   ]
  },
  {
   "cell_type": "markdown",
   "id": "1c03532d-42b5-44ec-830c-8da881769de2",
   "metadata": {},
   "source": [
    "### 3.2.3 - Définitions des paramètres d'entraînement et de tests\n",
    "\n",
    "Définition des paramètres pour entraîner un nouveau modèle:\n",
    "- ascad_database: Chemin d'accès au fichier h5 contenant les traces;\n",
    "- training_model: Chemin d'accès pour stocker le fichier h5 décrivant le model;\n",
    "- network_type: Type de réseau de neurone utilisé (CNN ou MLP);\n",
    "- epochs: Nombre d'epochs;\n",
    "- batch_size: Taille du batch;\n",
    "\n",
    "Définition des paramètres pour tester notre modèle:\n",
    "- model_file: Chemin d'accès au fichier h5 décrivant le model;\n",
    "- ascad_database: Chemin d'accès au fichier h5 contenant les traces;\n",
    "- num_traces: Nombre de traces utilisées pour tester;\n",
    "- save_file: Chemin d'accès pour stocker le graphe correspondant à l'efficacité de notre modèle;"
   ]
  },
  {
   "cell_type": "code",
   "execution_count": 14,
   "id": "7fd4d556-3af3-4bae-9908-c84b96f0c4ed",
   "metadata": {},
   "outputs": [],
   "source": [
    "training_parameters_new_model: dict = {\"ascad_database\": \"ASCAD_data/ASCAD_databases/ASCAD.h5\",\n",
    "                             \"training_model\": \"models/h5/newModelTest.h5\",\n",
    "                             \"network_type\": \"mlp\",\n",
    "                             \"epochs\": 800,\n",
    "                             \"batch_size\": 100}\n",
    "\n",
    "testing_parameters_new_model: dict = {\"model_file\": \"models/h5/newModelTest.h5\",\n",
    "                            \"ascad_database\": \"ASCAD_data/ASCAD_databases/ASCAD.h5\",\n",
    "                            \"num_traces\": 1000,\n",
    "                            \"save_file\": \"models/plots/plot_new_model.png\"}\n",
    "\n",
    "# More information on the keys: https://github.com/ANSSI-FR/ASCAD/tree/master?tab=readme-ov-file#testing-the-trained-models\n",
    "testing_parameters_mld: dict = {\"model_file\": \"ASCAD_data/ASCAD_trained_models/mlp_best_ascad_desync0_node200_layernb6_epochs200_classes256_batchsize100.h5\",\n",
    "                            \"ascad_database\": \"ASCAD_data/ASCAD_databases/ASCAD.h5\",\n",
    "                            \"num_traces\": 2000,\n",
    "                            \"save_file\": \"models/plots/plot_test_model_mld_desync0.png\"}\n",
    "\n",
    "testing_parameters_cnn: dict = {\"model_file\": \"ASCAD_data/ASCAD_trained_models/cnn_best_ascad_desync0_epochs75_classes256_batchsize200.h5\",\n",
    "                            \"ascad_database\": \"ASCAD_data/ASCAD_databases/ASCAD.h5\",\n",
    "                            \"num_traces\": 2000,\n",
    "                            \"save_file\": \"models/plots/plot_test_model_cnn_desync0.png\"}\n",
    "\n",
    "with open('models/txt/training/training_parameters_new_model.txt', 'w') as training_file:\n",
    "     training_file.write(json.dumps(training_parameters_new_model))\n",
    "\n",
    "with open('models/txt/testing/testing_parameters_new_model.txt', 'w') as training_file:\n",
    "     training_file.write(json.dumps(testing_parameters_new_model))\n",
    "\n",
    "with open('models/txt/testing/testing_parameters_mld.txt', 'w') as testing_file:\n",
    "     testing_file.write(json.dumps(testing_parameters_mld))\n",
    "\n",
    "with open('models/txt/testing/testing_parameters_cnn.txt', 'w') as testing_file:\n",
    "     testing_file.write(json.dumps(testing_parameters_cnn))"
   ]
  },
  {
   "cell_type": "markdown",
   "id": "c9c9e5dd-b3c1-408b-93a1-b102be1bfd6c",
   "metadata": {},
   "source": [
    "### 3.2.4 - Entraînement d'un modèle"
   ]
  },
  {
   "cell_type": "code",
   "execution_count": 11,
   "id": "f5d57ad8-2718-4265-a454-ebcfc25feef8",
   "metadata": {
    "scrolled": true
   },
   "outputs": [
    {
     "name": "stdout",
     "output_type": "stream",
     "text": [
      "Model already trained\n"
     ]
    },
    {
     "name": "stdin",
     "output_type": "stream",
     "text": [
      "Do you want to train again? [y/N] \n"
     ]
    }
   ],
   "source": [
    "if not os.path.exists(\"models/h5/newModelTest.h5\"):\n",
    "    !python3 ASCAD/ASCAD_train_models.py models/txt/training/training_parameters_new_model.txt\n",
    "else:\n",
    "    print(\"Model already trained\")\n",
    "    train_model: str = input(\"Do you want to train again? [y/N]\") or \"N\"\n",
    "    if train_model.lower() == \"y\":\n",
    "        !python3 ASCAD/ASCAD_train_models.py models/txt/training/training_parameters_new_model.txt"
   ]
  },
  {
   "cell_type": "markdown",
   "id": "0c6d9aa7-9701-4aad-b754-06bf41c42526",
   "metadata": {},
   "source": [
    "### 3.2.5 - Test d'un modèle"
   ]
  },
  {
   "cell_type": "code",
   "execution_count": 8,
   "id": "146bd89b-2ac1-46b1-9458-e92e1c8ad415",
   "metadata": {},
   "outputs": [
    {
     "name": "stderr",
     "output_type": "stream",
     "text": [
      "WARNING:absl:Compiled the loaded model, but the compiled metrics have yet to be built. `model.compile_metrics` will be empty until you train or evaluate the model.\n"
     ]
    },
    {
     "name": "stdout",
     "output_type": "stream",
     "text": [
      "b\n",
      "Full path: /Users/gaetan/Documents/M1/ADL/s2/M1_S2_ADL/DLSPA/models/h5/newModelTest.h5\n",
      "File exists: True\n",
      "models/plots/plot_new_model.png\n",
      "Full path: /Users/gaetan/Documents/M1/ADL/s2/M1_S2_ADL/DLSPA/models/h5/newModelTest.h5\n",
      "File exists: True\n",
      "Model file:  models/h5/newModelTest.h5\n",
      "Model weights found in file\n",
      "File keys: ['model_weights', 'optimizer_weights']\n",
      "3.11.0\n",
      "\u001b[1m32/32\u001b[0m \u001b[32m━━━━━━━━━━━━━━━━━━━━\u001b[0m\u001b[37m\u001b[0m \u001b[1m0s\u001b[0m 1ms/step \n",
      "Computing rank for targeted byte 2\n"
     ]
    },
    {
     "name": "stderr",
     "output_type": "stream",
     "text": [
      "/Users/gaetan/Documents/M1/ADL/s2/M1_S2_ADL/DLSPA/ASCAD/ASCAD_test_models.py:330: UserWarning: FigureCanvasAgg is non-interactive, and thus cannot be shown\n",
      "  plt.show(block=False)\n"
     ]
    },
    {
     "name": "stdin",
     "output_type": "stream",
     "text": [
      "Press enter to exit ... \n"
     ]
    }
   ],
   "source": [
    "%matplotlib inline\n",
    "plt.close('all')\n",
    "%run ASCAD/ASCAD_test_models.py models/txt/testing/testing_parameters_new_model.txt"
   ]
  },
  {
   "cell_type": "code",
   "execution_count": 9,
   "id": "71e6110b-8760-4d8d-801e-0ec7c5b9428f",
   "metadata": {},
   "outputs": [
    {
     "data": {
      "image/png": "[encoded data removed]",
      "text/plain": [
       "<IPython.core.display.Image object>"
      ]
     },
     "execution_count": 9,
     "metadata": {},
     "output_type": "execute_result"
    }
   ],
   "source": [
    "from IPython.display import Image\n",
    "Image(filename='models/plots/plot_new_model.png') "
   ]
  }
 ],
 "metadata": {
  "kernelspec": {
   "display_name": "Python 3 (ipykernel)",
   "language": "python",
   "name": "python3"
  },
  "language_info": {
   "codemirror_mode": {
    "name": "ipython",
    "version": 3
   },
   "file_extension": ".py",
   "mimetype": "text/x-python",
   "name": "python",
   "nbconvert_exporter": "python",
   "pygments_lexer": "ipython3",
   "version": "3.12.9"
  }
 },
 "nbformat": 4,
 "nbformat_minor": 5
}

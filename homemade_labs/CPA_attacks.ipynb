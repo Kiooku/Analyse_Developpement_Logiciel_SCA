{
 "cells": [
  {
   "cell_type": "markdown",
   "id": "437893cc-822c-4e62-b8c9-d7475b6cb557",
   "metadata": {},
   "source": [
    "# Cours d'introduction à la technologie Chipwhisperer "
   ]
  },
  {
   "cell_type": "markdown",
   "id": "f5edf143-d2aa-41a3-8803-391d64ebdc28",
   "metadata": {},
   "source": [
    "## Correlation Power Analysis : l'arme ultime"
   ]
  },
  {
   "cell_type": "markdown",
   "id": "4cf60faf-0641-4b65-ad00-76f947c69f75",
   "metadata": {},
   "source": [
    "Jeune padawan, si vous êtes arrivé jusqu'ici, alors c'est que vous êtes digne de découvrir l'arme ultime des Side Channel Attacks sur les systèmes non protégés : les attaques par CPA, ou **Correlation Power Analysis**.  \\\n",
    "Tout d'abord, elles nécessitent en moyenne **moins de traces** que les attaques DPA pour reconstituer la clé secrète, grâce à l’usage du coefficient de corrélation qui extrait plus efficacement l’information du bruit des traces de consommation. Deuxièmement, elles sont **plus robustes** car en remplaçant la simple différence de moyennes par le coefficient de corrélation de Pearson, elles deviennent moins dépendantes du choix précis d’un point d’intérêt ou d’un seuil de discrimination. Et enfin, elles supportent mieux les variations d’alignement et le bruit, et permettent d’intégrer des modèles de fuite multi-bit (Hamming weight, T-Tables 32 bits, etc.)."
   ]
  },
  {
   "cell_type": "markdown",
   "id": "7641b6d5-ad83-458c-8f5a-945dcb844b83",
   "metadata": {},
   "source": [
    "Mais quels sont leurs fondements mathématiques ? Et en quoi consistent-elles exactement ? \\\n",
    "Les attaques CPA reposent sur le choix d'un modèle de fuite et d'un modèle de consommation. Le premier postule qu’à un instant critique (par exemple juste après une opération de S-Box), la consommation instantanée $T_i(t)$ du système sur la i-ème exécution peut s’écrire :\n",
    "$$ T_i(t) = L_i(t) + N_i(t) $$, \\\n",
    "avec $L_i(t)$ la composante de fuite dépendante des données traitées (et donc de la clé), et $N_i(t)$ le bruit associé. \\\n",
    "Le second quant à lui qui permet de simuler la consommation électrique réelle $T_i(t)$ qu'aurait produit le traitement de certaines données par le système, généralement en utilisant le poids ou la distance de Hamming. "
   ]
  },
  {
   "cell_type": "markdown",
   "id": "9370e354-34d5-4f48-a17e-e6205eed6314",
   "metadata": {},
   "source": [
    "Ainsi, pour chaque hypothèse de clé $k$, on construit un vecteur correspondant à la consommation hypothétique qu'aurait produit cette clé si elle avait été utilisée par le système : $$h_i(k) = HW(V_i(k))$$, avec $V_i(k) = f(P_i, k)$ une valeur intermédiaire de l'algorithme cryptographique obtenue à partie de la clé hypothétique $k$ et d'un texte clair $P_i$."
   ]
  },
  {
   "cell_type": "markdown",
   "id": "91e4d181-f3f7-437d-a20a-1708866a1c96",
   "metadata": {},
   "source": [
    "On recueille en parallèle $N$ traces réelles de consommation électrique $X = {\\{T_i\\}}_{i=1,..,N}$."
   ]
  },
  {
   "cell_type": "markdown",
   "id": "7d83fbf2-8729-49b3-a171-28233cee57f3",
   "metadata": {},
   "source": [
    "Ensuite, on calcule le composant essentiel de cette attaque : le coefficient de corrélation de Pearson, à l'aide de la formule suivante : $$r = \\frac{cov(X, Y)}{\\sigma_X \\sigma_Y}$$, où $$cov(X, Y) = \\sum_{n=1}^{N}[(Y_n - \\bar{Y})(X_n - \\bar{X})]$$ et $$\\sigma_X = \\sqrt{\\sum_{n=1}^{N}(X_n - \\bar{X})^2}$$. Nous cherchons ainsi à déterminer la corrélation entre une **trace de consommation** et le **poids de Hamming d'une hypothèse de clé**."
   ]
  },
  {
   "cell_type": "markdown",
   "id": "c1104f6b-60e1-42dc-b4af-87d8d22ca0b5",
   "metadata": {},
   "source": [
    "Les étapes de l'attaque sont donc les suivantes : \n",
    "- recueillir nos **traces de consommation réelles** à partir du modèle de fuite \n",
    "- pour chaque hypothèse de clé, calculer la **consommation hypothétique associée** à l'aide du modèle de consommation choisi\n",
    "- pour chaque hypothèse de clé, calculer la **corrélation entre la consommation hypothétique associée et la consommation réelle mesurée**\n",
    "- la corrélation **la plus élevée** correspond à la bonne valeur de clé secrète"
   ]
  },
  {
   "cell_type": "markdown",
   "id": "1f199547-2a61-4b47-85d0-308968943e14",
   "metadata": {},
   "source": [
    "## CPA sur AES"
   ]
  },
  {
   "cell_type": "markdown",
   "id": "96b63752-2120-4571-8403-bb365d9838e1",
   "metadata": {},
   "source": [
    "Commençons par recueillir nos traces et réutilisons les outils développés dans le lab précédent sur DPA en lien avec AES :"
   ]
  },
  {
   "cell_type": "code",
   "execution_count": 4,
   "id": "f928a275-bae1-4cb4-aacd-a146f110bd83",
   "metadata": {},
   "outputs": [
    {
     "name": "stdout",
     "output_type": "stream",
     "text": [
      "✔️ OK to continue!\n"
     ]
    }
   ],
   "source": [
    "from cwtraces import sca101_lab_data\n",
    "import chipwhisperer as cw\n",
    "\n",
    "data = sca101_lab_data[\"lab4_2\"]()\n",
    "trace_array =  data[\"trace_array\"]\n",
    "textin_array = data[\"textin_array\"]\n",
    "key = data[\"key\"]\n",
    "\n",
    "assert len(trace_array) == 50\n",
    "print(\"✔️ OK to continue!\")"
   ]
  },
  {
   "cell_type": "code",
   "execution_count": 5,
   "id": "7f1a3812-35fa-415f-9ffd-25f12c0a00b6",
   "metadata": {},
   "outputs": [],
   "source": [
    "\n",
    "sbox = [\n",
    "    # 0    1    2    3    4    5    6    7    8    9    a    b    c    d    e    f \n",
    "    0x63,0x7c,0x77,0x7b,0xf2,0x6b,0x6f,0xc5,0x30,0x01,0x67,0x2b,0xfe,0xd7,0xab,0x76, # 0\n",
    "    0xca,0x82,0xc9,0x7d,0xfa,0x59,0x47,0xf0,0xad,0xd4,0xa2,0xaf,0x9c,0xa4,0x72,0xc0, # 1\n",
    "    0xb7,0xfd,0x93,0x26,0x36,0x3f,0xf7,0xcc,0x34,0xa5,0xe5,0xf1,0x71,0xd8,0x31,0x15, # 2\n",
    "    0x04,0xc7,0x23,0xc3,0x18,0x96,0x05,0x9a,0x07,0x12,0x80,0xe2,0xeb,0x27,0xb2,0x75, # 3\n",
    "    0x09,0x83,0x2c,0x1a,0x1b,0x6e,0x5a,0xa0,0x52,0x3b,0xd6,0xb3,0x29,0xe3,0x2f,0x84, # 4\n",
    "    0x53,0xd1,0x00,0xed,0x20,0xfc,0xb1,0x5b,0x6a,0xcb,0xbe,0x39,0x4a,0x4c,0x58,0xcf, # 5\n",
    "    0xd0,0xef,0xaa,0xfb,0x43,0x4d,0x33,0x85,0x45,0xf9,0x02,0x7f,0x50,0x3c,0x9f,0xa8, # 6\n",
    "    0x51,0xa3,0x40,0x8f,0x92,0x9d,0x38,0xf5,0xbc,0xb6,0xda,0x21,0x10,0xff,0xf3,0xd2, # 7\n",
    "    0xcd,0x0c,0x13,0xec,0x5f,0x97,0x44,0x17,0xc4,0xa7,0x7e,0x3d,0x64,0x5d,0x19,0x73, # 8\n",
    "    0x60,0x81,0x4f,0xdc,0x22,0x2a,0x90,0x88,0x46,0xee,0xb8,0x14,0xde,0x5e,0x0b,0xdb, # 9\n",
    "    0xe0,0x32,0x3a,0x0a,0x49,0x06,0x24,0x5c,0xc2,0xd3,0xac,0x62,0x91,0x95,0xe4,0x79, # a\n",
    "    0xe7,0xc8,0x37,0x6d,0x8d,0xd5,0x4e,0xa9,0x6c,0x56,0xf4,0xea,0x65,0x7a,0xae,0x08, # b\n",
    "    0xba,0x78,0x25,0x2e,0x1c,0xa6,0xb4,0xc6,0xe8,0xdd,0x74,0x1f,0x4b,0xbd,0x8b,0x8a, # c\n",
    "    0x70,0x3e,0xb5,0x66,0x48,0x03,0xf6,0x0e,0x61,0x35,0x57,0xb9,0x86,0xc1,0x1d,0x9e, # d\n",
    "    0xe1,0xf8,0x98,0x11,0x69,0xd9,0x8e,0x94,0x9b,0x1e,0x87,0xe9,0xce,0x55,0x28,0xdf, # e\n",
    "    0x8c,0xa1,0x89,0x0d,0xbf,0xe6,0x42,0x68,0x41,0x99,0x2d,0x0f,0xb0,0x54,0xbb,0x16  # f\n",
    "]\n",
    "\n",
    "def aes_internal(inputdata, key):\n",
    "    return sbox[inputdata ^ key]\n",
    "\n",
    "# compte le nombre de 1 = poids de Hamming de n\n",
    "def calc_hamming_weight(n):\n",
    "    return bin(n).count(\"1\")\n",
    "\n",
    "HW = []\n",
    "for num in range(0,256):\n",
    "    HW.append(calc_hamming_weight(num))"
   ]
  },
  {
   "cell_type": "markdown",
   "id": "ca7979e4-d2cd-4438-b4cd-051985663b4f",
   "metadata": {},
   "source": [
    "La prochaine étape est maintenant d'implémenter les formules mathématiques vues précédemment à l'aide du module Numpy : "
   ]
  },
  {
   "cell_type": "code",
   "execution_count": 10,
   "id": "2cb5f820-7edd-4e7a-886a-2725a5b2803d",
   "metadata": {},
   "outputs": [],
   "source": [
    "import numpy as np\n",
    "\n",
    "def mean(X): # moyenne\n",
    "    return np.sum(X, axis=0)/len(X)\n",
    "\n",
    "def std_dev(X, X_bar): # écart type avec X_bar la moyenne des traces de X\n",
    "    return np.sqrt(np.sum(np.power(X - X_bar, 2), axis=0))\n",
    "    \n",
    "def cov(X, X_bar, Y, Y_bar): # covariance, attention axis=0 -> somme chaque trace en chaque point\n",
    "    return np.sum((Y - Y_bar)*(X - X_bar), axis=0)"
   ]
  },
  {
   "cell_type": "markdown",
   "id": "8cf7571b-f270-4d5c-a24d-0d7d582edabf",
   "metadata": {},
   "source": [
    "Nous pouvons maintenant passer au corps de l'attaque en elle-même. Rappelons-le, le coefficient de Pearson est calculé avec X = traces de consommation réelles capturées (`trace_array` dans notre cas) et Y = consommation hypothétique = `hamming_weigth(résultat S_box(XOR) avec hypothèse de clé)` = `aes_internal(input_data, key_byte_guess)`. Ensuite, l'étape suivante est de déterminer l'hypothèse de clé produisant la corrélation maximale, puisqu'il s'agira de notre guess 'correct' pour la vraie valeur de clé secrète utilisée par le système. Implémentons tout ceci : "
   ]
  },
  {
   "cell_type": "code",
   "execution_count": 11,
   "id": "aad84c80-503c-4f7e-aaee-51e6cfe3650d",
   "metadata": {},
   "outputs": [
    {
     "data": {
      "application/vnd.jupyter.widget-view+json": {
       "model_id": "ed45a4862b21451fac6674e25e5bd56a",
       "version_major": 2,
       "version_minor": 0
      },
      "text/plain": [
       "  0%|          | 0/256 [00:00<?, ?it/s]"
      ]
     },
     "metadata": {},
     "output_type": "display_data"
    },
    {
     "name": "stdout",
     "output_type": "stream",
     "text": [
      "Key guess:  0x2b\n",
      "Correlation:  0.8270952071731353\n"
     ]
    }
   ],
   "source": [
    "from tqdm.notebook import trange\n",
    "\n",
    "maxcpa = [0] * 256\n",
    "\n",
    "t_bar = mean(trace_array) # calculates the mean and standard_deviation for a entire trace at once\n",
    "o_t = std_dev(trace_array, t_bar)\n",
    "\n",
    "for kguess in trange(0, 256): # for each possible key byte value\n",
    "    # hamming weigth of the hypothetical leakage for that key guess\n",
    "    hws = np.array([[HW[aes_internal(textin[0],kguess)] for textin in textin_array]]).transpose()\n",
    "    \n",
    "    hws_bar = mean(hws)\n",
    "    # correlation coefficient calculation (it's the exact same formula as the one we saw above)\n",
    "    cpaoutput = cov(trace_array, t_bar, hws, hws_bar) / (std_dev(trace_array, t_bar) * std_dev(hws, hws_bar))\n",
    "    # we store the maximum correlation value\n",
    "    maxcpa[kguess] = max(abs(cpaoutput))\n",
    "\n",
    "# get the key guess with the maximum correlation value\n",
    "guess = np.argmax(maxcpa)\n",
    "guess_corr = max(maxcpa)\n",
    "\n",
    "print(\"Key guess: \", hex(guess))\n",
    "print(\"Correlation: \", guess_corr)"
   ]
  },
  {
   "cell_type": "markdown",
   "id": "4841818a-553a-4a12-b2cc-63c4b52bbc20",
   "metadata": {},
   "source": [
    "Pour reconstituer la clé entière, il suffit de répéter cette attaque pour chacun de ses bytes en englobant le texte précédant dans une boucle `for byte_number in range(0, 16)` et en prenant garde à utiliser le bon byte du texte clair ! "
   ]
  },
  {
   "cell_type": "markdown",
   "id": "d976b9ae-a90a-4721-a815-7dda5d746f5c",
   "metadata": {},
   "source": [
    "### Attaque CPA sur AES avec l'outil Chipwhisperer Analyzer (ou l'industrialisation de l'armement version side channels)"
   ]
  },
  {
   "cell_type": "markdown",
   "id": "726cfe41-659b-4dfa-a36d-3e9a0a40441a",
   "metadata": {},
   "source": [
    "S'il est important de réaliser les attaques ci-dessus 'à la main' pour bien en comprendre les rouages, dans la pratique il ne serait pas réaliste d'espérer toujours les faire de cette façon. L'objectif de l'outil **Chipwhisperer Analyzer**, l’interface logicielle principale du Chipwhisperer, est ainsi d'automatiser les attaques sca sur des systèmes cibles, et en particulier les attaques CPA. \\\n",
    "Nous n'avons donc plus besoin de la `S-Box`rédigée explicitement, ni même de nos `Numpy arrays`pour stocker les traces : tout est stocké dans le Chipwhisperer Analyzer, et nous utiliserons maintenant des Chipwhisperer projects pour récupérer nos traces de consommation."
   ]
  },
  {
   "cell_type": "code",
   "execution_count": 12,
   "id": "600a1c04-7df6-49f3-9f77-f21b61a6fdb9",
   "metadata": {},
   "outputs": [],
   "source": [
    "from cwtraces import sca101_lab_data\n",
    "import chipwhisperer as cw\n",
    "\n",
    "data = sca101_lab_data[\"lab4_3\"]\n",
    "proj = data[\"project\"]()"
   ]
  },
  {
   "cell_type": "markdown",
   "id": "aaab8b18-90d1-4ac9-a582-2bbd66002f22",
   "metadata": {},
   "source": [
    "L'accès au Chipwhisperer Analyzer se fait via la commande suivante : "
   ]
  },
  {
   "cell_type": "code",
   "execution_count": 13,
   "id": "0bb7b75b-6aab-4b9c-9b66-f1f01f4d8044",
   "metadata": {},
   "outputs": [],
   "source": [
    "import chipwhisperer.analyzer as cwa"
   ]
  },
  {
   "cell_type": "markdown",
   "id": "19023dd3-46f8-43b1-9e56-6faf577cf70e",
   "metadata": {},
   "source": [
    "Ensuite, nous devons spécifier le modèle de fuite requis pour l'attaque, ici la sortie de `S-Box`AES : "
   ]
  },
  {
   "cell_type": "code",
   "execution_count": 14,
   "id": "5092cb1a-cf55-40c8-9976-b30ac650a9ad",
   "metadata": {},
   "outputs": [],
   "source": [
    "leak_model = cwa.leakage_models.sbox_output"
   ]
  },
  {
   "cell_type": "markdown",
   "id": "670af445-7b04-41ac-9b80-2476cd85b849",
   "metadata": {},
   "source": [
    "Et enfin on configure l'Analyzer pour une attaque CPA en une ligne : "
   ]
  },
  {
   "cell_type": "code",
   "execution_count": 16,
   "id": "13550ca1-01a9-4d90-95de-13debdb0abab",
   "metadata": {},
   "outputs": [
    {
     "name": "stdout",
     "output_type": "stream",
     "text": [
      "<chipwhisperer.analyzer.attacks.cpa_new.CPA object at 0x1175f6250>\n",
      "project     = <chipwhisperer.common.api.ProjectFormat.Project object at 0x11753bd90>\n",
      "leak_model  = <chipwhisperer.analyzer.attacks.models.AES128_8bit.AES128_8bit object at 0x1175d99a0>\n",
      "algorithm   = <chipwhisperer.analyzer.attacks.cpa_algorithms.progressive.CPAProgressive object at 0x1175fc850>\n",
      "trace_range = [0, 50]\n",
      "point_range = [0, 5000]\n",
      "subkey_list = range(0, 16)\n",
      "\n"
     ]
    }
   ],
   "source": [
    "attack = cwa.cpa(proj, leak_model)\n",
    "print(attack)"
   ]
  },
  {
   "cell_type": "markdown",
   "id": "076d6c42-8c41-412a-8432-f020e6eb985f",
   "metadata": {},
   "source": [
    "Le lancement de l'attaque se fait également en une seule ligne : "
   ]
  },
  {
   "cell_type": "code",
   "execution_count": 17,
   "id": "a337113f-441c-4d6f-abdf-658c2064fd3f",
   "metadata": {},
   "outputs": [
    {
     "name": "stdout",
     "output_type": "stream",
     "text": [
      "Subkey KGuess Correlation\n",
      "  00    0x2B    0.81091\n",
      "  01    0x7E    0.79538\n",
      "  02    0x15    0.87392\n",
      "  03    0x16    0.80839\n",
      "  04    0x28    0.83281\n",
      "  05    0xAE    0.87081\n",
      "  06    0xD2    0.89009\n",
      "  07    0xA6    0.85979\n",
      "  08    0xAB    0.82772\n",
      "  09    0xF7    0.80872\n",
      "  10    0x15    0.85116\n",
      "  11    0x88    0.77970\n",
      "  12    0x09    0.81269\n",
      "  13    0xCF    0.92473\n",
      "  14    0x4F    0.80885\n",
      "  15    0x3C    0.80804\n",
      "\n"
     ]
    }
   ],
   "source": [
    "results = attack.run()\n",
    "print(results)"
   ]
  },
  {
   "cell_type": "markdown",
   "id": "79da77ad-b7a5-455f-9ea9-6da28697b369",
   "metadata": {},
   "source": [
    "Pour obtenir plus d'informations à propos des résultats obtenus lors de l'attaque, plusieurs pistes d'exploration sont possibles : "
   ]
  },
  {
   "cell_type": "markdown",
   "id": "a74b8474-3308-4d49-95e3-544ca1b1d721",
   "metadata": {},
   "source": [
    "- afficher les corrélations maximales obtenues pour chaque hypothèse de clé et les stocker dans une **structure de données complexe**"
   ]
  },
  {
   "cell_type": "code",
   "execution_count": 18,
   "id": "d0079f2f-a67c-4326-bc8a-1e8c87c34c11",
   "metadata": {},
   "outputs": [
    {
     "name": "stdout",
     "output_type": "stream",
     "text": [
      "                                0                                1   \\\n",
      "0   [43, 1948, 0.8109063524779131]  [126, 2145, 0.7953842364446794]   \n",
      "1  [252, 2884, 0.6423479963383932]   [38, 4285, 0.6613321299284041]   \n",
      "2  [141, 1790, 0.6296736535214246]    [51, 4470, 0.619074118857893]   \n",
      "3  [213, 2929, 0.6119273120624024]  [198, 3996, 0.6075096829196474]   \n",
      "4  [255, 4959, 0.5994112600421648]   [21, 4457, 0.6030513983381995]   \n",
      "\n",
      "                                2                                3   \\\n",
      "0   [21, 2340, 0.8739238610740697]   [22, 2537, 0.8083871957141481]   \n",
      "1  [194, 1968, 0.6502311623652279]  [248, 1284, 0.6225485579163301]   \n",
      "2    [88, 1010, 0.606686404246976]  [234, 1448, 0.6092365492443333]   \n",
      "3  [116, 2303, 0.6057832525002114]   [64, 3909, 0.6005843601058458]   \n",
      "4    [61, 908, 0.6019273799935005]  [222, 2086, 0.5991698177329257]   \n",
      "\n",
      "                               4                                5   \\\n",
      "0  [40, 1993, 0.8328122975012535]  [174, 2188, 0.8708071759128995]   \n",
      "1  [221, 782, 0.6567230244240965]  [243, 4881, 0.6505159097270197]   \n",
      "2   [48, 498, 0.6323801086837902]    [19, 760, 0.6373593571871862]   \n",
      "3  [191, 960, 0.6069746814230781]  [121, 4459, 0.6313443863164686]   \n",
      "4  [51, 4512, 0.5958729019995331]   [213, 634, 0.6133488348906899]   \n",
      "\n",
      "                                6                                7   \\\n",
      "0   [210, 2384, 0.890090201693135]  [166, 2581, 0.8597920203392352]   \n",
      "1  [153, 1404, 0.6598296203675749]   [82, 3731, 0.6167735404848991]   \n",
      "2    [182, 91, 0.6403234709217058]  [122, 1384, 0.6081062801154566]   \n",
      "3  [233, 2663, 0.6393899370473013]     [45, 45, 0.6015217038782108]   \n",
      "4  [199, 2426, 0.6321283400969523]  [145, 4104, 0.6013832063330288]   \n",
      "\n",
      "                                8                                9   \\\n",
      "0  [171, 2036, 0.8277184488867865]  [247, 2788, 0.8087166969552411]   \n",
      "1  [176, 1650, 0.6392497364653058]  [127, 2182, 0.6263638953076028]   \n",
      "2   [170, 630, 0.6156596694711249]    [93, 803, 0.5993267885764272]   \n",
      "3  [231, 4175, 0.6062153625846453]    [4, 2757, 0.5992977299097652]   \n",
      "4   [11, 4470, 0.5915962662362346]  [190, 3202, 0.5960819602962553]   \n",
      "\n",
      "                                10                               11  \\\n",
      "0     [21, 2824, 0.85116444370005]  [136, 2880, 0.7796970409862627]   \n",
      "1     [13, 58, 0.6312456726738421]  [229, 1947, 0.6683361055447983]   \n",
      "2  [233, 3638, 0.6083354673806355]  [245, 4381, 0.6170794877356272]   \n",
      "3   [94, 3388, 0.6079564069073355]   [50, 1215, 0.6138417718963456]   \n",
      "4  [205, 1256, 0.6064480323635004]  [187, 2399, 0.6114200821301671]   \n",
      "\n",
      "                                12                               13  \\\n",
      "0    [9, 2081, 0.8126863461720482]  [207, 2277, 0.9247328151220324]   \n",
      "1  [182, 1167, 0.6435277594374723]    [20, 217, 0.6325652210946349]   \n",
      "2   [70, 1384, 0.6267242909645645]   [43, 2844, 0.6105193491210641]   \n",
      "3   [221, 237, 0.6086042971451775]   [89, 3637, 0.6076982415617749]   \n",
      "4   [82, 3590, 0.6081502277722485]   [36, 4143, 0.6052615971340952]   \n",
      "\n",
      "                                14                               15  \n",
      "0   [79, 2472, 0.8088537791223505]   [60, 2672, 0.8080393566432991]  \n",
      "1   [42, 4628, 0.6197820545930006]  [239, 4134, 0.6140615865275497]  \n",
      "2  [173, 1943, 0.6108307602669482]  [100, 4313, 0.6072294743397455]  \n",
      "3  [241, 1093, 0.6024060832465691]  [133, 3451, 0.6002804644602353]  \n",
      "4   [230, 637, 0.5993844446951064]   [16, 1522, 0.5991713590981809]  \n"
     ]
    }
   ],
   "source": [
    "import pandas as pd\n",
    "stat_data = results.find_maximums()\n",
    "df = pd.DataFrame(stat_data).transpose()\n",
    "print(df.head())"
   ]
  },
  {
   "cell_type": "markdown",
   "id": "0251ef2b-bd9c-4545-ade7-0442b9675ca7",
   "metadata": {},
   "source": [
    "- afficher les meilleures corrélations **au fur et à mesure** de l'attaque, et pas seulement à la fin comme dans l'attaque conduite précédemment (possible car ChipWhisperer Analyzer utilise en fait un calcul de corrélation « en ligne », i.e pour chaque point)"
   ]
  },
  {
   "cell_type": "code",
   "execution_count": 22,
   "id": "84f18879-f0c1-473d-ba85-9b192e589861",
   "metadata": {},
   "outputs": [
    {
     "data": {
      "text/html": [
       "<style type=\"text/css\">\n",
       "#T_745d7_row0_col0, #T_745d7_row0_col1, #T_745d7_row0_col2, #T_745d7_row0_col3, #T_745d7_row0_col4, #T_745d7_row0_col5, #T_745d7_row0_col6, #T_745d7_row0_col7, #T_745d7_row0_col8, #T_745d7_row0_col9, #T_745d7_row0_col10, #T_745d7_row0_col11, #T_745d7_row0_col12, #T_745d7_row0_col13, #T_745d7_row0_col14, #T_745d7_row0_col15 {\n",
       "  color: red;\n",
       "}\n",
       "</style>\n",
       "<table id=\"T_745d7\">\n",
       "  <thead>\n",
       "    <tr>\n",
       "      <th class=\"blank level0\" >&nbsp;</th>\n",
       "      <th id=\"T_745d7_level0_col0\" class=\"col_heading level0 col0\" >0</th>\n",
       "      <th id=\"T_745d7_level0_col1\" class=\"col_heading level0 col1\" >1</th>\n",
       "      <th id=\"T_745d7_level0_col2\" class=\"col_heading level0 col2\" >2</th>\n",
       "      <th id=\"T_745d7_level0_col3\" class=\"col_heading level0 col3\" >3</th>\n",
       "      <th id=\"T_745d7_level0_col4\" class=\"col_heading level0 col4\" >4</th>\n",
       "      <th id=\"T_745d7_level0_col5\" class=\"col_heading level0 col5\" >5</th>\n",
       "      <th id=\"T_745d7_level0_col6\" class=\"col_heading level0 col6\" >6</th>\n",
       "      <th id=\"T_745d7_level0_col7\" class=\"col_heading level0 col7\" >7</th>\n",
       "      <th id=\"T_745d7_level0_col8\" class=\"col_heading level0 col8\" >8</th>\n",
       "      <th id=\"T_745d7_level0_col9\" class=\"col_heading level0 col9\" >9</th>\n",
       "      <th id=\"T_745d7_level0_col10\" class=\"col_heading level0 col10\" >10</th>\n",
       "      <th id=\"T_745d7_level0_col11\" class=\"col_heading level0 col11\" >11</th>\n",
       "      <th id=\"T_745d7_level0_col12\" class=\"col_heading level0 col12\" >12</th>\n",
       "      <th id=\"T_745d7_level0_col13\" class=\"col_heading level0 col13\" >13</th>\n",
       "      <th id=\"T_745d7_level0_col14\" class=\"col_heading level0 col14\" >14</th>\n",
       "      <th id=\"T_745d7_level0_col15\" class=\"col_heading level0 col15\" >15</th>\n",
       "    </tr>\n",
       "  </thead>\n",
       "  <tbody>\n",
       "    <tr>\n",
       "      <th id=\"T_745d7_level0_row0\" class=\"row_heading level0 row0\" >0</th>\n",
       "      <td id=\"T_745d7_row0_col0\" class=\"data row0 col0\" >2B<br>0.811</td>\n",
       "      <td id=\"T_745d7_row0_col1\" class=\"data row0 col1\" >7E<br>0.795</td>\n",
       "      <td id=\"T_745d7_row0_col2\" class=\"data row0 col2\" >15<br>0.874</td>\n",
       "      <td id=\"T_745d7_row0_col3\" class=\"data row0 col3\" >16<br>0.808</td>\n",
       "      <td id=\"T_745d7_row0_col4\" class=\"data row0 col4\" >28<br>0.833</td>\n",
       "      <td id=\"T_745d7_row0_col5\" class=\"data row0 col5\" >AE<br>0.871</td>\n",
       "      <td id=\"T_745d7_row0_col6\" class=\"data row0 col6\" >D2<br>0.890</td>\n",
       "      <td id=\"T_745d7_row0_col7\" class=\"data row0 col7\" >A6<br>0.860</td>\n",
       "      <td id=\"T_745d7_row0_col8\" class=\"data row0 col8\" >AB<br>0.828</td>\n",
       "      <td id=\"T_745d7_row0_col9\" class=\"data row0 col9\" >F7<br>0.809</td>\n",
       "      <td id=\"T_745d7_row0_col10\" class=\"data row0 col10\" >15<br>0.851</td>\n",
       "      <td id=\"T_745d7_row0_col11\" class=\"data row0 col11\" >88<br>0.780</td>\n",
       "      <td id=\"T_745d7_row0_col12\" class=\"data row0 col12\" >09<br>0.813</td>\n",
       "      <td id=\"T_745d7_row0_col13\" class=\"data row0 col13\" >CF<br>0.925</td>\n",
       "      <td id=\"T_745d7_row0_col14\" class=\"data row0 col14\" >4F<br>0.809</td>\n",
       "      <td id=\"T_745d7_row0_col15\" class=\"data row0 col15\" >3C<br>0.808</td>\n",
       "    </tr>\n",
       "    <tr>\n",
       "      <th id=\"T_745d7_level0_row1\" class=\"row_heading level0 row1\" >1</th>\n",
       "      <td id=\"T_745d7_row1_col0\" class=\"data row1 col0\" >FC<br>0.642</td>\n",
       "      <td id=\"T_745d7_row1_col1\" class=\"data row1 col1\" >26<br>0.661</td>\n",
       "      <td id=\"T_745d7_row1_col2\" class=\"data row1 col2\" >C2<br>0.650</td>\n",
       "      <td id=\"T_745d7_row1_col3\" class=\"data row1 col3\" >F8<br>0.623</td>\n",
       "      <td id=\"T_745d7_row1_col4\" class=\"data row1 col4\" >DD<br>0.657</td>\n",
       "      <td id=\"T_745d7_row1_col5\" class=\"data row1 col5\" >F3<br>0.651</td>\n",
       "      <td id=\"T_745d7_row1_col6\" class=\"data row1 col6\" >99<br>0.660</td>\n",
       "      <td id=\"T_745d7_row1_col7\" class=\"data row1 col7\" >52<br>0.617</td>\n",
       "      <td id=\"T_745d7_row1_col8\" class=\"data row1 col8\" >B0<br>0.639</td>\n",
       "      <td id=\"T_745d7_row1_col9\" class=\"data row1 col9\" >7F<br>0.626</td>\n",
       "      <td id=\"T_745d7_row1_col10\" class=\"data row1 col10\" >0D<br>0.631</td>\n",
       "      <td id=\"T_745d7_row1_col11\" class=\"data row1 col11\" >E5<br>0.668</td>\n",
       "      <td id=\"T_745d7_row1_col12\" class=\"data row1 col12\" >B6<br>0.644</td>\n",
       "      <td id=\"T_745d7_row1_col13\" class=\"data row1 col13\" >14<br>0.633</td>\n",
       "      <td id=\"T_745d7_row1_col14\" class=\"data row1 col14\" >2A<br>0.620</td>\n",
       "      <td id=\"T_745d7_row1_col15\" class=\"data row1 col15\" >EF<br>0.614</td>\n",
       "    </tr>\n",
       "    <tr>\n",
       "      <th id=\"T_745d7_level0_row2\" class=\"row_heading level0 row2\" >2</th>\n",
       "      <td id=\"T_745d7_row2_col0\" class=\"data row2 col0\" >8D<br>0.630</td>\n",
       "      <td id=\"T_745d7_row2_col1\" class=\"data row2 col1\" >33<br>0.619</td>\n",
       "      <td id=\"T_745d7_row2_col2\" class=\"data row2 col2\" >58<br>0.607</td>\n",
       "      <td id=\"T_745d7_row2_col3\" class=\"data row2 col3\" >EA<br>0.609</td>\n",
       "      <td id=\"T_745d7_row2_col4\" class=\"data row2 col4\" >30<br>0.632</td>\n",
       "      <td id=\"T_745d7_row2_col5\" class=\"data row2 col5\" >13<br>0.637</td>\n",
       "      <td id=\"T_745d7_row2_col6\" class=\"data row2 col6\" >B6<br>0.640</td>\n",
       "      <td id=\"T_745d7_row2_col7\" class=\"data row2 col7\" >7A<br>0.608</td>\n",
       "      <td id=\"T_745d7_row2_col8\" class=\"data row2 col8\" >AA<br>0.616</td>\n",
       "      <td id=\"T_745d7_row2_col9\" class=\"data row2 col9\" >5D<br>0.599</td>\n",
       "      <td id=\"T_745d7_row2_col10\" class=\"data row2 col10\" >E9<br>0.608</td>\n",
       "      <td id=\"T_745d7_row2_col11\" class=\"data row2 col11\" >F5<br>0.617</td>\n",
       "      <td id=\"T_745d7_row2_col12\" class=\"data row2 col12\" >46<br>0.627</td>\n",
       "      <td id=\"T_745d7_row2_col13\" class=\"data row2 col13\" >2B<br>0.611</td>\n",
       "      <td id=\"T_745d7_row2_col14\" class=\"data row2 col14\" >AD<br>0.611</td>\n",
       "      <td id=\"T_745d7_row2_col15\" class=\"data row2 col15\" >64<br>0.607</td>\n",
       "    </tr>\n",
       "    <tr>\n",
       "      <th id=\"T_745d7_level0_row3\" class=\"row_heading level0 row3\" >3</th>\n",
       "      <td id=\"T_745d7_row3_col0\" class=\"data row3 col0\" >D5<br>0.612</td>\n",
       "      <td id=\"T_745d7_row3_col1\" class=\"data row3 col1\" >C6<br>0.608</td>\n",
       "      <td id=\"T_745d7_row3_col2\" class=\"data row3 col2\" >74<br>0.606</td>\n",
       "      <td id=\"T_745d7_row3_col3\" class=\"data row3 col3\" >40<br>0.601</td>\n",
       "      <td id=\"T_745d7_row3_col4\" class=\"data row3 col4\" >BF<br>0.607</td>\n",
       "      <td id=\"T_745d7_row3_col5\" class=\"data row3 col5\" >79<br>0.631</td>\n",
       "      <td id=\"T_745d7_row3_col6\" class=\"data row3 col6\" >E9<br>0.639</td>\n",
       "      <td id=\"T_745d7_row3_col7\" class=\"data row3 col7\" >2D<br>0.602</td>\n",
       "      <td id=\"T_745d7_row3_col8\" class=\"data row3 col8\" >E7<br>0.606</td>\n",
       "      <td id=\"T_745d7_row3_col9\" class=\"data row3 col9\" >04<br>0.599</td>\n",
       "      <td id=\"T_745d7_row3_col10\" class=\"data row3 col10\" >5E<br>0.608</td>\n",
       "      <td id=\"T_745d7_row3_col11\" class=\"data row3 col11\" >32<br>0.614</td>\n",
       "      <td id=\"T_745d7_row3_col12\" class=\"data row3 col12\" >DD<br>0.609</td>\n",
       "      <td id=\"T_745d7_row3_col13\" class=\"data row3 col13\" >59<br>0.608</td>\n",
       "      <td id=\"T_745d7_row3_col14\" class=\"data row3 col14\" >F1<br>0.602</td>\n",
       "      <td id=\"T_745d7_row3_col15\" class=\"data row3 col15\" >85<br>0.600</td>\n",
       "    </tr>\n",
       "    <tr>\n",
       "      <th id=\"T_745d7_level0_row4\" class=\"row_heading level0 row4\" >4</th>\n",
       "      <td id=\"T_745d7_row4_col0\" class=\"data row4 col0\" >FF<br>0.599</td>\n",
       "      <td id=\"T_745d7_row4_col1\" class=\"data row4 col1\" >15<br>0.603</td>\n",
       "      <td id=\"T_745d7_row4_col2\" class=\"data row4 col2\" >3D<br>0.602</td>\n",
       "      <td id=\"T_745d7_row4_col3\" class=\"data row4 col3\" >DE<br>0.599</td>\n",
       "      <td id=\"T_745d7_row4_col4\" class=\"data row4 col4\" >33<br>0.596</td>\n",
       "      <td id=\"T_745d7_row4_col5\" class=\"data row4 col5\" >D5<br>0.613</td>\n",
       "      <td id=\"T_745d7_row4_col6\" class=\"data row4 col6\" >C7<br>0.632</td>\n",
       "      <td id=\"T_745d7_row4_col7\" class=\"data row4 col7\" >91<br>0.601</td>\n",
       "      <td id=\"T_745d7_row4_col8\" class=\"data row4 col8\" >0B<br>0.592</td>\n",
       "      <td id=\"T_745d7_row4_col9\" class=\"data row4 col9\" >BE<br>0.596</td>\n",
       "      <td id=\"T_745d7_row4_col10\" class=\"data row4 col10\" >CD<br>0.606</td>\n",
       "      <td id=\"T_745d7_row4_col11\" class=\"data row4 col11\" >BB<br>0.611</td>\n",
       "      <td id=\"T_745d7_row4_col12\" class=\"data row4 col12\" >52<br>0.608</td>\n",
       "      <td id=\"T_745d7_row4_col13\" class=\"data row4 col13\" >24<br>0.605</td>\n",
       "      <td id=\"T_745d7_row4_col14\" class=\"data row4 col14\" >E6<br>0.599</td>\n",
       "      <td id=\"T_745d7_row4_col15\" class=\"data row4 col15\" >10<br>0.599</td>\n",
       "    </tr>\n",
       "  </tbody>\n",
       "</table>\n"
      ],
      "text/plain": [
       "<pandas.io.formats.style.Styler at 0x122771820>"
      ]
     },
     "metadata": {},
     "output_type": "display_data"
    }
   ],
   "source": [
    "from IPython.display import clear_output # to clear the table\n",
    "\n",
    "key = proj.keys[0]\n",
    "\n",
    "def format_stat(stat): # pour formater les corrélations en sortie\n",
    "    return str(\"{:02X}<br>{:.3f}\".format(stat[0], stat[2]))\n",
    "\n",
    "def color_corr_key(row): # préférences d'affichage (corrélation maximale en rouge)\n",
    "    global key\n",
    "    ret = [\"\"] * 16\n",
    "    for i,bnum in enumerate(row):\n",
    "        if bnum[0] == key[i]:\n",
    "            ret[i] = \"color: red\"\n",
    "        else:\n",
    "            ret[i] = \"\"\n",
    "    return ret\n",
    "    \n",
    "def stats_callback(): # fonction formatage + affichage des résultats de l'attaque appelée périodiquement lors de l'attaque\n",
    "    results = attack.results\n",
    "    results.set_known_key(key)\n",
    "    stat_data = results.find_maximums()\n",
    "    df = pd.DataFrame(stat_data).transpose()\n",
    "    clear_output(wait=True)\n",
    "    display(df.head().style.format(format_stat).apply(color_corr_key,axis=1))\n",
    "    \n",
    "results = attack.run(stats_callback, 10)"
   ]
  },
  {
   "cell_type": "markdown",
   "id": "b57033d8-de97-42ce-8add-c013c0c7b803",
   "metadata": {},
   "source": [
    "Si le code précédent vous effraie, une fonction de callback Jupyter par défaut est également disponible :"
   ]
  },
  {
   "cell_type": "code",
   "execution_count": 24,
   "id": "fd3383a8-da6d-49e4-aba8-cb41387581bc",
   "metadata": {},
   "outputs": [
    {
     "data": {
      "text/html": [
       "<style type=\"text/css\">\n",
       "#T_18a8a_row1_col0, #T_18a8a_row1_col1, #T_18a8a_row1_col2, #T_18a8a_row1_col3, #T_18a8a_row1_col4, #T_18a8a_row1_col5, #T_18a8a_row1_col6, #T_18a8a_row1_col7, #T_18a8a_row1_col8, #T_18a8a_row1_col9, #T_18a8a_row1_col10, #T_18a8a_row1_col11, #T_18a8a_row1_col12, #T_18a8a_row1_col13, #T_18a8a_row1_col14, #T_18a8a_row1_col15 {\n",
       "  color: red;\n",
       "}\n",
       "</style>\n",
       "<table id=\"T_18a8a\">\n",
       "  <caption>Finished traces 40 to 50</caption>\n",
       "  <thead>\n",
       "    <tr>\n",
       "      <th class=\"blank level0\" >&nbsp;</th>\n",
       "      <th id=\"T_18a8a_level0_col0\" class=\"col_heading level0 col0\" >0</th>\n",
       "      <th id=\"T_18a8a_level0_col1\" class=\"col_heading level0 col1\" >1</th>\n",
       "      <th id=\"T_18a8a_level0_col2\" class=\"col_heading level0 col2\" >2</th>\n",
       "      <th id=\"T_18a8a_level0_col3\" class=\"col_heading level0 col3\" >3</th>\n",
       "      <th id=\"T_18a8a_level0_col4\" class=\"col_heading level0 col4\" >4</th>\n",
       "      <th id=\"T_18a8a_level0_col5\" class=\"col_heading level0 col5\" >5</th>\n",
       "      <th id=\"T_18a8a_level0_col6\" class=\"col_heading level0 col6\" >6</th>\n",
       "      <th id=\"T_18a8a_level0_col7\" class=\"col_heading level0 col7\" >7</th>\n",
       "      <th id=\"T_18a8a_level0_col8\" class=\"col_heading level0 col8\" >8</th>\n",
       "      <th id=\"T_18a8a_level0_col9\" class=\"col_heading level0 col9\" >9</th>\n",
       "      <th id=\"T_18a8a_level0_col10\" class=\"col_heading level0 col10\" >10</th>\n",
       "      <th id=\"T_18a8a_level0_col11\" class=\"col_heading level0 col11\" >11</th>\n",
       "      <th id=\"T_18a8a_level0_col12\" class=\"col_heading level0 col12\" >12</th>\n",
       "      <th id=\"T_18a8a_level0_col13\" class=\"col_heading level0 col13\" >13</th>\n",
       "      <th id=\"T_18a8a_level0_col14\" class=\"col_heading level0 col14\" >14</th>\n",
       "      <th id=\"T_18a8a_level0_col15\" class=\"col_heading level0 col15\" >15</th>\n",
       "    </tr>\n",
       "  </thead>\n",
       "  <tbody>\n",
       "    <tr>\n",
       "      <th id=\"T_18a8a_level0_row0\" class=\"row_heading level0 row0\" >PGE=</th>\n",
       "      <td id=\"T_18a8a_row0_col0\" class=\"data row0 col0\" >0</td>\n",
       "      <td id=\"T_18a8a_row0_col1\" class=\"data row0 col1\" >0</td>\n",
       "      <td id=\"T_18a8a_row0_col2\" class=\"data row0 col2\" >0</td>\n",
       "      <td id=\"T_18a8a_row0_col3\" class=\"data row0 col3\" >0</td>\n",
       "      <td id=\"T_18a8a_row0_col4\" class=\"data row0 col4\" >0</td>\n",
       "      <td id=\"T_18a8a_row0_col5\" class=\"data row0 col5\" >0</td>\n",
       "      <td id=\"T_18a8a_row0_col6\" class=\"data row0 col6\" >0</td>\n",
       "      <td id=\"T_18a8a_row0_col7\" class=\"data row0 col7\" >0</td>\n",
       "      <td id=\"T_18a8a_row0_col8\" class=\"data row0 col8\" >0</td>\n",
       "      <td id=\"T_18a8a_row0_col9\" class=\"data row0 col9\" >0</td>\n",
       "      <td id=\"T_18a8a_row0_col10\" class=\"data row0 col10\" >0</td>\n",
       "      <td id=\"T_18a8a_row0_col11\" class=\"data row0 col11\" >0</td>\n",
       "      <td id=\"T_18a8a_row0_col12\" class=\"data row0 col12\" >0</td>\n",
       "      <td id=\"T_18a8a_row0_col13\" class=\"data row0 col13\" >0</td>\n",
       "      <td id=\"T_18a8a_row0_col14\" class=\"data row0 col14\" >0</td>\n",
       "      <td id=\"T_18a8a_row0_col15\" class=\"data row0 col15\" >0</td>\n",
       "    </tr>\n",
       "    <tr>\n",
       "      <th id=\"T_18a8a_level0_row1\" class=\"row_heading level0 row1\" >0</th>\n",
       "      <td id=\"T_18a8a_row1_col0\" class=\"data row1 col0\" >2B<br>0.811</td>\n",
       "      <td id=\"T_18a8a_row1_col1\" class=\"data row1 col1\" >7E<br>0.795</td>\n",
       "      <td id=\"T_18a8a_row1_col2\" class=\"data row1 col2\" >15<br>0.874</td>\n",
       "      <td id=\"T_18a8a_row1_col3\" class=\"data row1 col3\" >16<br>0.808</td>\n",
       "      <td id=\"T_18a8a_row1_col4\" class=\"data row1 col4\" >28<br>0.833</td>\n",
       "      <td id=\"T_18a8a_row1_col5\" class=\"data row1 col5\" >AE<br>0.871</td>\n",
       "      <td id=\"T_18a8a_row1_col6\" class=\"data row1 col6\" >D2<br>0.890</td>\n",
       "      <td id=\"T_18a8a_row1_col7\" class=\"data row1 col7\" >A6<br>0.860</td>\n",
       "      <td id=\"T_18a8a_row1_col8\" class=\"data row1 col8\" >AB<br>0.828</td>\n",
       "      <td id=\"T_18a8a_row1_col9\" class=\"data row1 col9\" >F7<br>0.809</td>\n",
       "      <td id=\"T_18a8a_row1_col10\" class=\"data row1 col10\" >15<br>0.851</td>\n",
       "      <td id=\"T_18a8a_row1_col11\" class=\"data row1 col11\" >88<br>0.780</td>\n",
       "      <td id=\"T_18a8a_row1_col12\" class=\"data row1 col12\" >09<br>0.813</td>\n",
       "      <td id=\"T_18a8a_row1_col13\" class=\"data row1 col13\" >CF<br>0.925</td>\n",
       "      <td id=\"T_18a8a_row1_col14\" class=\"data row1 col14\" >4F<br>0.809</td>\n",
       "      <td id=\"T_18a8a_row1_col15\" class=\"data row1 col15\" >3C<br>0.808</td>\n",
       "    </tr>\n",
       "    <tr>\n",
       "      <th id=\"T_18a8a_level0_row2\" class=\"row_heading level0 row2\" >1</th>\n",
       "      <td id=\"T_18a8a_row2_col0\" class=\"data row2 col0\" >FC<br>0.642</td>\n",
       "      <td id=\"T_18a8a_row2_col1\" class=\"data row2 col1\" >26<br>0.661</td>\n",
       "      <td id=\"T_18a8a_row2_col2\" class=\"data row2 col2\" >C2<br>0.650</td>\n",
       "      <td id=\"T_18a8a_row2_col3\" class=\"data row2 col3\" >F8<br>0.623</td>\n",
       "      <td id=\"T_18a8a_row2_col4\" class=\"data row2 col4\" >DD<br>0.657</td>\n",
       "      <td id=\"T_18a8a_row2_col5\" class=\"data row2 col5\" >F3<br>0.651</td>\n",
       "      <td id=\"T_18a8a_row2_col6\" class=\"data row2 col6\" >99<br>0.660</td>\n",
       "      <td id=\"T_18a8a_row2_col7\" class=\"data row2 col7\" >52<br>0.617</td>\n",
       "      <td id=\"T_18a8a_row2_col8\" class=\"data row2 col8\" >B0<br>0.639</td>\n",
       "      <td id=\"T_18a8a_row2_col9\" class=\"data row2 col9\" >7F<br>0.626</td>\n",
       "      <td id=\"T_18a8a_row2_col10\" class=\"data row2 col10\" >0D<br>0.631</td>\n",
       "      <td id=\"T_18a8a_row2_col11\" class=\"data row2 col11\" >E5<br>0.668</td>\n",
       "      <td id=\"T_18a8a_row2_col12\" class=\"data row2 col12\" >B6<br>0.644</td>\n",
       "      <td id=\"T_18a8a_row2_col13\" class=\"data row2 col13\" >14<br>0.633</td>\n",
       "      <td id=\"T_18a8a_row2_col14\" class=\"data row2 col14\" >2A<br>0.620</td>\n",
       "      <td id=\"T_18a8a_row2_col15\" class=\"data row2 col15\" >EF<br>0.614</td>\n",
       "    </tr>\n",
       "    <tr>\n",
       "      <th id=\"T_18a8a_level0_row3\" class=\"row_heading level0 row3\" >2</th>\n",
       "      <td id=\"T_18a8a_row3_col0\" class=\"data row3 col0\" >8D<br>0.630</td>\n",
       "      <td id=\"T_18a8a_row3_col1\" class=\"data row3 col1\" >33<br>0.619</td>\n",
       "      <td id=\"T_18a8a_row3_col2\" class=\"data row3 col2\" >58<br>0.607</td>\n",
       "      <td id=\"T_18a8a_row3_col3\" class=\"data row3 col3\" >EA<br>0.609</td>\n",
       "      <td id=\"T_18a8a_row3_col4\" class=\"data row3 col4\" >30<br>0.632</td>\n",
       "      <td id=\"T_18a8a_row3_col5\" class=\"data row3 col5\" >13<br>0.637</td>\n",
       "      <td id=\"T_18a8a_row3_col6\" class=\"data row3 col6\" >B6<br>0.640</td>\n",
       "      <td id=\"T_18a8a_row3_col7\" class=\"data row3 col7\" >7A<br>0.608</td>\n",
       "      <td id=\"T_18a8a_row3_col8\" class=\"data row3 col8\" >AA<br>0.616</td>\n",
       "      <td id=\"T_18a8a_row3_col9\" class=\"data row3 col9\" >5D<br>0.599</td>\n",
       "      <td id=\"T_18a8a_row3_col10\" class=\"data row3 col10\" >E9<br>0.608</td>\n",
       "      <td id=\"T_18a8a_row3_col11\" class=\"data row3 col11\" >F5<br>0.617</td>\n",
       "      <td id=\"T_18a8a_row3_col12\" class=\"data row3 col12\" >46<br>0.627</td>\n",
       "      <td id=\"T_18a8a_row3_col13\" class=\"data row3 col13\" >2B<br>0.611</td>\n",
       "      <td id=\"T_18a8a_row3_col14\" class=\"data row3 col14\" >AD<br>0.611</td>\n",
       "      <td id=\"T_18a8a_row3_col15\" class=\"data row3 col15\" >64<br>0.607</td>\n",
       "    </tr>\n",
       "    <tr>\n",
       "      <th id=\"T_18a8a_level0_row4\" class=\"row_heading level0 row4\" >3</th>\n",
       "      <td id=\"T_18a8a_row4_col0\" class=\"data row4 col0\" >D5<br>0.612</td>\n",
       "      <td id=\"T_18a8a_row4_col1\" class=\"data row4 col1\" >C6<br>0.608</td>\n",
       "      <td id=\"T_18a8a_row4_col2\" class=\"data row4 col2\" >74<br>0.606</td>\n",
       "      <td id=\"T_18a8a_row4_col3\" class=\"data row4 col3\" >40<br>0.601</td>\n",
       "      <td id=\"T_18a8a_row4_col4\" class=\"data row4 col4\" >BF<br>0.607</td>\n",
       "      <td id=\"T_18a8a_row4_col5\" class=\"data row4 col5\" >79<br>0.631</td>\n",
       "      <td id=\"T_18a8a_row4_col6\" class=\"data row4 col6\" >E9<br>0.639</td>\n",
       "      <td id=\"T_18a8a_row4_col7\" class=\"data row4 col7\" >2D<br>0.602</td>\n",
       "      <td id=\"T_18a8a_row4_col8\" class=\"data row4 col8\" >E7<br>0.606</td>\n",
       "      <td id=\"T_18a8a_row4_col9\" class=\"data row4 col9\" >04<br>0.599</td>\n",
       "      <td id=\"T_18a8a_row4_col10\" class=\"data row4 col10\" >5E<br>0.608</td>\n",
       "      <td id=\"T_18a8a_row4_col11\" class=\"data row4 col11\" >32<br>0.614</td>\n",
       "      <td id=\"T_18a8a_row4_col12\" class=\"data row4 col12\" >DD<br>0.609</td>\n",
       "      <td id=\"T_18a8a_row4_col13\" class=\"data row4 col13\" >59<br>0.608</td>\n",
       "      <td id=\"T_18a8a_row4_col14\" class=\"data row4 col14\" >F1<br>0.602</td>\n",
       "      <td id=\"T_18a8a_row4_col15\" class=\"data row4 col15\" >85<br>0.600</td>\n",
       "    </tr>\n",
       "    <tr>\n",
       "      <th id=\"T_18a8a_level0_row5\" class=\"row_heading level0 row5\" >4</th>\n",
       "      <td id=\"T_18a8a_row5_col0\" class=\"data row5 col0\" >FF<br>0.599</td>\n",
       "      <td id=\"T_18a8a_row5_col1\" class=\"data row5 col1\" >15<br>0.603</td>\n",
       "      <td id=\"T_18a8a_row5_col2\" class=\"data row5 col2\" >3D<br>0.602</td>\n",
       "      <td id=\"T_18a8a_row5_col3\" class=\"data row5 col3\" >DE<br>0.599</td>\n",
       "      <td id=\"T_18a8a_row5_col4\" class=\"data row5 col4\" >33<br>0.596</td>\n",
       "      <td id=\"T_18a8a_row5_col5\" class=\"data row5 col5\" >D5<br>0.613</td>\n",
       "      <td id=\"T_18a8a_row5_col6\" class=\"data row5 col6\" >C7<br>0.632</td>\n",
       "      <td id=\"T_18a8a_row5_col7\" class=\"data row5 col7\" >91<br>0.601</td>\n",
       "      <td id=\"T_18a8a_row5_col8\" class=\"data row5 col8\" >0B<br>0.592</td>\n",
       "      <td id=\"T_18a8a_row5_col9\" class=\"data row5 col9\" >BE<br>0.596</td>\n",
       "      <td id=\"T_18a8a_row5_col10\" class=\"data row5 col10\" >CD<br>0.606</td>\n",
       "      <td id=\"T_18a8a_row5_col11\" class=\"data row5 col11\" >BB<br>0.611</td>\n",
       "      <td id=\"T_18a8a_row5_col12\" class=\"data row5 col12\" >52<br>0.608</td>\n",
       "      <td id=\"T_18a8a_row5_col13\" class=\"data row5 col13\" >24<br>0.605</td>\n",
       "      <td id=\"T_18a8a_row5_col14\" class=\"data row5 col14\" >E6<br>0.599</td>\n",
       "      <td id=\"T_18a8a_row5_col15\" class=\"data row5 col15\" >10<br>0.599</td>\n",
       "    </tr>\n",
       "  </tbody>\n",
       "</table>\n"
      ],
      "text/plain": [
       "<pandas.io.formats.style.Styler at 0x123a03160>"
      ]
     },
     "metadata": {},
     "output_type": "display_data"
    }
   ],
   "source": [
    "import chipwhisperer as cw\n",
    "cb = cwa.get_jupyter_callback(attack)\n",
    "results = attack.run(cb, 10)"
   ]
  },
  {
   "cell_type": "code",
   "execution_count": null,
   "id": "5c2c15ae-2d4d-44dd-844c-c43e585d9c44",
   "metadata": {},
   "outputs": [],
   "source": [
    "Cette section souligne la puissance des attaques CPA sur des systèmes non protégés par des contre-mesures comment, "
   ]
  },
  {
   "cell_type": "markdown",
   "id": "9ab51870-90f5-4265-a9b3-a5850ea3fbc5",
   "metadata": {},
   "source": [
    "## Conclusion"
   ]
  },
  {
   "cell_type": "markdown",
   "id": "ace52af8-d362-475b-aa2d-7f83a06ec5b3",
   "metadata": {},
   "source": [
    "C'est ici que se termine notre bout de chemin ensemble, mais la route est encore longue si vous souhaitez découvrir la richesse et la complexité de ce domaine de recherche très actif que sont les attaques par canaux auxiliaires et, qui sait, peut-être même pourrez vous ajouter votre pierre à l'édifice !"
   ]
  }
 ],
 "metadata": {
  "kernelspec": {
   "display_name": "Python 3 (ipykernel)",
   "language": "python",
   "name": "python3"
  },
  "language_info": {
   "codemirror_mode": {
    "name": "ipython",
    "version": 3
   },
   "file_extension": ".py",
   "mimetype": "text/x-python",
   "name": "python",
   "nbconvert_exporter": "python",
   "pygments_lexer": "ipython3",
   "version": "3.9.6"
  }
 },
 "nbformat": 4,
 "nbformat_minor": 5
}

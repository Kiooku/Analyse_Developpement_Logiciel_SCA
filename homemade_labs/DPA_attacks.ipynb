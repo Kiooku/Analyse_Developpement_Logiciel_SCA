{
 "cells": [
  {
   "cell_type": "markdown",
   "id": "cb80f32e-8744-4ed2-9677-22abd55cac1a",
   "metadata": {},
   "source": [
    "# Cours d'introduction à la technologie Chipwhisperer "
   ]
  },
  {
   "cell_type": "markdown",
   "id": "ec5ff9e0-02dd-47c4-a3b7-844ae98c438c",
   "metadata": {},
   "source": [
    "## *Differential Power Analysis* : les choses se corsent"
   ]
  },
  {
   "cell_type": "markdown",
   "id": "49819870-6840-4b45-b639-3832b720406c",
   "metadata": {},
   "source": [
    "Jusqu'ici nous avons vu que la consommation électrique dépend fortement des opérations réalisées, mais cela va plus loin : elle dépend aussi des données manipulées par le système ! Ainsi, un bit traité par le système ne produira pas la même trace de consommation selon qu'il soit à 0 ou à 1. Cette corrélation ouvre donc évidemment la porte à de nombreuses possibilités d'attaque ! Cependant, la différence que l'on peut mesurer entre 2 traces est infime, c'est pourquoi cette attaque nécessite un grand nombre de traces recueillies."
   ]
  },
  {
   "cell_type": "markdown",
   "id": "88d4e42a-2c15-446e-b5ee-b166022b5f32",
   "metadata": {},
   "source": [
    "Pour rappel, la *Differential Power Analysis* est une technique exploitant la dépendance entre la consommation d’énergie des dispositifs cryptographiques et les données traitées. L'attaque se déroule en 5 étapes : \n",
    "  1. Choisir un résultat intermédiaire de l'algorithme attaqué (ATTENTION : nécessite que toutes les traces soient alignées, voir Annexe)\n",
    "  2. Recueillir un nombre suffisant de traces de consommation électrique\n",
    "  3. Calculer les valeurs intermédiaires hypothétiques (i.e pour toutes les valeurs de clé possibles)\n",
    "  4. Faire correspondre ces valeurs avec les valeurs hypothétiques de consommation électrique associées (choisir un **modèle de consommation**)\n",
    "  5. Séparer les valeurs intermédiaires hypothétiques obtenues en 3. en deux groupes selon une hypothèse sur un bit particulier (G_0 pour bit à 0, et G_1 pour bit à 1)\n",
    "  6. Calculer la moyenne des valeurs de consommation pour chaque groupe (obtenues en 4.)\n",
    "  7. La bonne hypothèse de clé est celle qui fait ressortir la plus grande différence entre les 2 moyennes obtenues."
   ]
  },
  {
   "cell_type": "markdown",
   "id": "0c4bbe3f-a880-4329-ac50-be27c8273e21",
   "metadata": {},
   "source": [
    "Explicitons tout cela. Le résultat intermédiaire à attaquer est appelé \"point d'intérêt\", ou **Point of Interest**, et correspond aux instants où le système effectue une opération intermédiaire de l'algorithme cryptographique utilisé **dépendant de la clé** (souvent l’entrée ou la sortie d’un S-Box dans AES, etc...). \\\n",
    "L'étape 3 consiste, pour chaque octet de la clé, énumérer toutes les valeurs possibles de celui-ci (0…255 pour un octet).\n",
    "Pour chaque valeur k_candidate et chaque trace T_i, calculer la **valeur intermédiaire V_i(k_candidate) correspondant au point d'intérêt** choisi précédemment (par exemple S-Box[message_i ⊕ k_candidate]). \\\n",
    "Ensuite, pour chaque valeur intermédiaire obtenue, on détermine à l'aide du modèle de consommation choisi (exemples : Hamming Weigth, Hamming Distance, etc...) la **consommation électrique qu'aurait produit cette valeur** si elle avait été calculée par le système lui-même. \\\n",
    "C'est ici qu'intervient notre hypothèse clée selon laquelle la consommation est corrélée aux données manipulées. En effet, on va séparer les valeurs intermédiaires hypothétiques calculées à l'étape 3. en 2 groupes en fonction de la valeur d'un bit quelconque (soit 0, soit 1). On va ensuite calculer la moyenne des valeurs de consommation pour chacun des deux groupes, et étudier la différence entre ces moyennes. La bonne hypothèse de clé sera le **maximum de cette différence**. Pourquoi cela ? "
   ]
  },
  {
   "cell_type": "markdown",
   "id": "c8061005-7924-426c-bbaf-edfe87ed33ee",
   "metadata": {},
   "source": [
    "Le système consomme légèrement plus (ou moins) lorsqu’il manipule certaines valeurs internes en fonction de leur nature : par exemple, un poids de Hamming élevé implique une consommation électrique plus élevée, etc... c'est l'illustration en pratique de la corrélation données/consommation dont on parle depuis le début de ce lab. \\\n",
    "Ainsi, si on devine la bonne valeur de clé, alors le découpage des traces en groupes « bit = 1 » et « bit = 0 » **reflète clairement ce changement de consommation** en fonction de la valeur du bit : les moyennes de chaque groupe  s’écarteront nettement l’une de l’autre à l’instant précis où l'opération du point d'intérêt à lieu, créant un pic maximal. Au contraire, pour une mauvaise hypothèse de clé, la **répartition des traces est aléatoire** vis-à-vis de la consommation électrique et les deux moyennes restent très proches !"
   ]
  },
  {
   "cell_type": "markdown",
   "id": "9e802d78-e590-4798-9f0d-20d6e38272dd",
   "metadata": {},
   "source": [
    "### Pour les sceptiques : différences de poids de Hamming "
   ]
  },
  {
   "cell_type": "markdown",
   "id": "53c73c1a-084a-4945-94ab-5f8d54808110",
   "metadata": {},
   "source": [
    "Nous allons commencer par prouver de manière visuelle la corrélation entre la nature des données manipulées et la trace de consommation associée. D'abord, on recueille un grand nombre de traces de consommation : puisque nous travaillons sur un cas simple, nous disposons ici de 100 traces."
   ]
  },
  {
   "cell_type": "code",
   "execution_count": 2,
   "id": "dc6f7878-52f6-4f84-8e45-45e523797923",
   "metadata": {},
   "outputs": [
    {
     "name": "stdout",
     "output_type": "stream",
     "text": [
      "✔️ OK to continue!\n"
     ]
    }
   ],
   "source": [
    "from cwtraces import sca101_lab_data\n",
    "import numpy as np\n",
    "import chipwhisperer as cw\n",
    "\n",
    "data = sca101_lab_data[\"lab3_1\"]()\n",
    "trace_array =  data[\"trace_array\"]\n",
    "textin_array = data[\"textin_array\"]\n",
    "\n",
    "assert len(trace_array) == 100\n",
    "print(\"✔️ OK to continue!\")"
   ]
  },
  {
   "cell_type": "markdown",
   "id": "0b116e82-fb17-4602-b2a6-1e01b5ab8d1d",
   "metadata": {},
   "source": [
    "Ce set de données est légèrement faussé à des fins pédagogiques : en effet, la valeur du 1er octet du texte clair envoyé au système a été forcé aléatoirement à `0x00` ou `0xFF`, c'est-à-dire à des valeurs possédant des poids de Hamming les plus opposés possibles afin de mettre en évidence la différence de consommation que cela engendre. \\\n",
    "Maintenant, séparons-les en 2 groupes en fonction de la valeur du 1er octet, `0x00`ou `0xFF`."
   ]
  },
  {
   "cell_type": "code",
   "execution_count": 3,
   "id": "3dae1d86-76ab-4ca3-97dc-c650247e16fb",
   "metadata": {},
   "outputs": [],
   "source": [
    "zero_list = []\n",
    "one_list = []\n",
    "\n",
    "for i in range(len(trace_array)):\n",
    "    if textin_array[i][0] == 0x00:\n",
    "        zero_list.append(trace_array[i])\n",
    "    else:\n",
    "        one_list.append(trace_array[i])"
   ]
  },
  {
   "cell_type": "markdown",
   "id": "c5957f02-b6cd-439d-8a3c-6c1ec5e2460e",
   "metadata": {},
   "source": [
    "Maintenant, prenons la valeur moyenne de trace de chacun des deux groupes, autrement dit faisons la moyenne à chaque point de toutes les traces de chaque groupe (`axis=0` pour `np.mean()`)."
   ]
  },
  {
   "cell_type": "code",
   "execution_count": 4,
   "id": "031c1fcb-4b92-4d56-b3ef-0a85d8c00613",
   "metadata": {},
   "outputs": [],
   "source": [
    "one_avg: float = np.mean(one_list, axis=0)\n",
    "zero_avg: float = np.mean(zero_list, axis=0)"
   ]
  },
  {
   "cell_type": "markdown",
   "id": "b04c9d57-d04f-402e-8926-c219f894e91a",
   "metadata": {},
   "source": [
    "Il ne nous reste plus qu'à tracer la courbe de la différence entre les moyennes de chaque groupe :"
   ]
  },
  {
   "cell_type": "code",
   "execution_count": 5,
   "id": "85f5bcea-d12f-4800-8f08-ac990c0242ac",
   "metadata": {},
   "outputs": [
    {
     "data": {
      "image/png": "[encoded data removed]",
      "text/plain": [
       "<Figure size 640x480 with 1 Axes>"
      ]
     },
     "metadata": {},
     "output_type": "display_data"
    }
   ],
   "source": [
    "import matplotlib.pyplot as plt\n",
    "\n",
    "diff = one_avg - zero_avg\n",
    "\n",
    "plt.plot(diff)\n",
    "plt.show()"
   ]
  },
  {
   "cell_type": "markdown",
   "id": "95e7f321-3f24-4ae0-8f17-c1d6eca0c063",
   "metadata": {},
   "source": [
    "On observe un pic clairement visible au début du tracé : cela signifie que la différence des moyennes des valeurs de consommation est très élevée en un point, correspondant à l'octet modifié au début du lab. Ainsi, cela prouve que les données manipulées par le système cible sont visibles dans ses traces de consommation ! "
   ]
  },
  {
   "cell_type": "markdown",
   "id": "f30f2fdf-ccb1-490e-a1fe-a6fa84c70ae3",
   "metadata": {},
   "source": [
    "## DPA sur AES : pour commencer en douceur"
   ]
  },
  {
   "cell_type": "markdown",
   "id": "4c4b3642-e172-47e7-ac75-2d7fca67951e",
   "metadata": {},
   "source": [
    "Commençons par nous entraîner à retrouver des informations sur la clé secrète utilisée AES à partir des données manipulées. Premièrement, il nous faut choisir un point d'intérêt : la sortie de la `S-Box`. Les données recueillies ont donc subi un XOR avec la clé secrète, puis sont passées à travers la `S-Box` que nous modéliserons par un tableau. Voici ci-dessous les outils dont nous aurons besoin : "
   ]
  },
  {
   "cell_type": "code",
   "execution_count": 7,
   "id": "a7cd07e8-cde5-4d1e-bb03-60f5dcda5d3e",
   "metadata": {},
   "outputs": [],
   "source": [
    "sbox = [\n",
    "    # 0    1    2    3    4    5    6    7    8    9    a    b    c    d    e    f \n",
    "    0x63,0x7c,0x77,0x7b,0xf2,0x6b,0x6f,0xc5,0x30,0x01,0x67,0x2b,0xfe,0xd7,0xab,0x76, # 0\n",
    "    0xca,0x82,0xc9,0x7d,0xfa,0x59,0x47,0xf0,0xad,0xd4,0xa2,0xaf,0x9c,0xa4,0x72,0xc0, # 1\n",
    "    0xb7,0xfd,0x93,0x26,0x36,0x3f,0xf7,0xcc,0x34,0xa5,0xe5,0xf1,0x71,0xd8,0x31,0x15, # 2\n",
    "    0x04,0xc7,0x23,0xc3,0x18,0x96,0x05,0x9a,0x07,0x12,0x80,0xe2,0xeb,0x27,0xb2,0x75, # 3\n",
    "    0x09,0x83,0x2c,0x1a,0x1b,0x6e,0x5a,0xa0,0x52,0x3b,0xd6,0xb3,0x29,0xe3,0x2f,0x84, # 4\n",
    "    0x53,0xd1,0x00,0xed,0x20,0xfc,0xb1,0x5b,0x6a,0xcb,0xbe,0x39,0x4a,0x4c,0x58,0xcf, # 5\n",
    "    0xd0,0xef,0xaa,0xfb,0x43,0x4d,0x33,0x85,0x45,0xf9,0x02,0x7f,0x50,0x3c,0x9f,0xa8, # 6\n",
    "    0x51,0xa3,0x40,0x8f,0x92,0x9d,0x38,0xf5,0xbc,0xb6,0xda,0x21,0x10,0xff,0xf3,0xd2, # 7\n",
    "    0xcd,0x0c,0x13,0xec,0x5f,0x97,0x44,0x17,0xc4,0xa7,0x7e,0x3d,0x64,0x5d,0x19,0x73, # 8\n",
    "    0x60,0x81,0x4f,0xdc,0x22,0x2a,0x90,0x88,0x46,0xee,0xb8,0x14,0xde,0x5e,0x0b,0xdb, # 9\n",
    "    0xe0,0x32,0x3a,0x0a,0x49,0x06,0x24,0x5c,0xc2,0xd3,0xac,0x62,0x91,0x95,0xe4,0x79, # a\n",
    "    0xe7,0xc8,0x37,0x6d,0x8d,0xd5,0x4e,0xa9,0x6c,0x56,0xf4,0xea,0x65,0x7a,0xae,0x08, # b\n",
    "    0xba,0x78,0x25,0x2e,0x1c,0xa6,0xb4,0xc6,0xe8,0xdd,0x74,0x1f,0x4b,0xbd,0x8b,0x8a, # c\n",
    "    0x70,0x3e,0xb5,0x66,0x48,0x03,0xf6,0x0e,0x61,0x35,0x57,0xb9,0x86,0xc1,0x1d,0x9e, # d\n",
    "    0xe1,0xf8,0x98,0x11,0x69,0xd9,0x8e,0x94,0x9b,0x1e,0x87,0xe9,0xce,0x55,0x28,0xdf, # e\n",
    "    0x8c,0xa1,0x89,0x0d,0xbf,0xe6,0x42,0x68,0x41,0x99,0x2d,0x0f,0xb0,0x54,0xbb,0x16  # f\n",
    "]\n",
    "\n",
    "# performs a XOR between the input data and the secret key, then passes the result through the S-Box \n",
    "def aes_internal(inputdata, key):\n",
    "    return sbox[inputdata ^ key]"
   ]
  },
  {
   "cell_type": "markdown",
   "id": "f882395a-053b-4a85-869e-b7693c090133",
   "metadata": {},
   "source": [
    "Dans cette partie, nous allons par souci de simplicité forcer la valeur de la clé secrète AES utilisée et voir comment il nous est possible de récupérer sa valeur par la suite."
   ]
  },
  {
   "cell_type": "code",
   "execution_count": 9,
   "id": "397b86cc-830a-49cd-b9d3-cc3583a59e72",
   "metadata": {},
   "outputs": [],
   "source": [
    "# performs the AES operations detailed previously with '0xEF' as the secret key value\n",
    "def aes_secret(inputdata):\n",
    "    secret_key = 0xEF\n",
    "    return aes_internal(secret_key, inputdata)"
   ]
  },
  {
   "cell_type": "markdown",
   "id": "07ea695a-f163-4160-b0fa-6b7cb33daf37",
   "metadata": {},
   "source": [
    "Pour les débutants que nous sommes, nous allons commencer par observer seulement un bit des données manipulées par AES. Nous allons donc envoyer des données random à traiter à l'algorithme, puis observer un bit (par exemple le plus bas) des données en sortie, puis comme précédemment les séparer en deux groupes en fonction de la valeur du bit observé."
   ]
  },
  {
   "cell_type": "code",
   "execution_count": 11,
   "id": "52ff9fd0-b875-4e29-af07-36715e918720",
   "metadata": {},
   "outputs": [],
   "source": [
    "import random\n",
    "\n",
    "# random data fed to the AES algorithm part we observe\n",
    "input_data = [random.randint(0, 255) for _ in range(1000)]\n",
    "\n",
    "# value of the lowest bit of the input data passed through the XOR and the S-Box\n",
    "leaked_data = [(aes_secret(a) & 0x01) for a in input_data]"
   ]
  },
  {
   "cell_type": "markdown",
   "id": "7904b6b1-23d2-444d-b8fb-c7ef1e27ab02",
   "metadata": {},
   "source": [
    "On rappelle le principe de notre attaque : Pour chaque valeur possible de la clé, on simule le chiffrement et on compare le résultat simulé avec les données observées sur le vrai dispositif. Si, pour une clé candidate, la simulation produit exactement les mêmes valeurs que celles observées, cela signifie très probablement que cette clé est la bonne. Ainsi, il nous faut un moyen de comparer deux valeurs entre elle, et nous allons utiliser pour cela simplement une fonction qui compte combien de bits sont identiques."
   ]
  },
  {
   "cell_type": "code",
   "execution_count": 12,
   "id": "10b3f3e7-4935-4964-9e63-cb4de745e424",
   "metadata": {},
   "outputs": [],
   "source": [
    "def count_same(a,b):\n",
    "    return len([a[i] for i in range(len(a)) if a[i] == b[i]])"
   ]
  },
  {
   "cell_type": "markdown",
   "id": "6de0e418-91e6-4739-bc7a-311362ff7f77",
   "metadata": {},
   "source": [
    "Nous pouvons maintenant réaliser l'attaque en elle-même telle que décrite juste au dessus à l'aide d'une boucle `for`: "
   ]
  },
  {
   "cell_type": "code",
   "execution_count": 14,
   "id": "1b30627a-80cf-4fb9-b40b-3f7d4d4a781a",
   "metadata": {},
   "outputs": [
    {
     "name": "stdout",
     "output_type": "stream",
     "text": [
      "Guess 00:  459 bits same\n",
      "Guess 01:  442 bits same\n",
      "Guess 02:  464 bits same\n",
      "Guess 03:  518 bits same\n",
      "Guess 04:  454 bits same\n",
      "Guess 05:  464 bits same\n",
      "Guess 06:  501 bits same\n",
      "Guess 07:  505 bits same\n",
      "Guess 08:  465 bits same\n",
      "Guess 09:  490 bits same\n",
      "Guess 0A:  488 bits same\n",
      "Guess 0B:  526 bits same\n",
      "Guess 0C:  546 bits same\n",
      "Guess 0D:  546 bits same\n",
      "Guess 0E:  537 bits same\n",
      "Guess 0F:  508 bits same\n",
      "Guess 10:  497 bits same\n",
      "Guess 11:  522 bits same\n",
      "Guess 12:  427 bits same\n",
      "Guess 13:  513 bits same\n",
      "Guess 14:  498 bits same\n",
      "Guess 15:  520 bits same\n",
      "Guess 16:  489 bits same\n",
      "Guess 17:  539 bits same\n",
      "Guess 18:  510 bits same\n",
      "Guess 19:  452 bits same\n",
      "Guess 1A:  465 bits same\n",
      "Guess 1B:  527 bits same\n",
      "Guess 1C:  506 bits same\n",
      "Guess 1D:  438 bits same\n",
      "Guess 1E:  466 bits same\n",
      "Guess 1F:  508 bits same\n",
      "Guess 20:  501 bits same\n",
      "Guess 21:  546 bits same\n",
      "Guess 22:  461 bits same\n",
      "Guess 23:  477 bits same\n",
      "Guess 24:  525 bits same\n",
      "Guess 25:  458 bits same\n",
      "Guess 26:  583 bits same\n",
      "Guess 27:  482 bits same\n",
      "Guess 28:  464 bits same\n",
      "Guess 29:  471 bits same\n",
      "Guess 2A:  502 bits same\n",
      "Guess 2B:  467 bits same\n",
      "Guess 2C:  434 bits same\n",
      "Guess 2D:  508 bits same\n",
      "Guess 2E:  504 bits same\n",
      "Guess 2F:  494 bits same\n",
      "Guess 30:  520 bits same\n",
      "Guess 31:  541 bits same\n",
      "Guess 32:  453 bits same\n",
      "Guess 33:  536 bits same\n",
      "Guess 34:  509 bits same\n",
      "Guess 35:  469 bits same\n",
      "Guess 36:  500 bits same\n",
      "Guess 37:  554 bits same\n",
      "Guess 38:  504 bits same\n",
      "Guess 39:  496 bits same\n",
      "Guess 3A:  473 bits same\n",
      "Guess 3B:  521 bits same\n",
      "Guess 3C:  503 bits same\n",
      "Guess 3D:  542 bits same\n",
      "Guess 3E:  486 bits same\n",
      "Guess 3F:  480 bits same\n",
      "Guess 40:  538 bits same\n",
      "Guess 41:  517 bits same\n",
      "Guess 42:  491 bits same\n",
      "Guess 43:  503 bits same\n",
      "Guess 44:  538 bits same\n",
      "Guess 45:  485 bits same\n",
      "Guess 46:  543 bits same\n",
      "Guess 47:  481 bits same\n",
      "Guess 48:  479 bits same\n",
      "Guess 49:  431 bits same\n",
      "Guess 4A:  524 bits same\n",
      "Guess 4B:  487 bits same\n",
      "Guess 4C:  496 bits same\n",
      "Guess 4D:  534 bits same\n",
      "Guess 4E:  458 bits same\n",
      "Guess 4F:  462 bits same\n",
      "Guess 50:  529 bits same\n",
      "Guess 51:  506 bits same\n",
      "Guess 52:  468 bits same\n",
      "Guess 53:  553 bits same\n",
      "Guess 54:  491 bits same\n",
      "Guess 55:  517 bits same\n",
      "Guess 56:  469 bits same\n",
      "Guess 57:  451 bits same\n",
      "Guess 58:  475 bits same\n",
      "Guess 59:  481 bits same\n",
      "Guess 5A:  493 bits same\n",
      "Guess 5B:  526 bits same\n",
      "Guess 5C:  557 bits same\n",
      "Guess 5D:  512 bits same\n",
      "Guess 5E:  462 bits same\n",
      "Guess 5F:  423 bits same\n",
      "Guess 60:  462 bits same\n",
      "Guess 61:  462 bits same\n",
      "Guess 62:  525 bits same\n",
      "Guess 63:  498 bits same\n",
      "Guess 64:  471 bits same\n",
      "Guess 65:  525 bits same\n",
      "Guess 66:  550 bits same\n",
      "Guess 67:  426 bits same\n",
      "Guess 68:  462 bits same\n",
      "Guess 69:  508 bits same\n",
      "Guess 6A:  516 bits same\n",
      "Guess 6B:  542 bits same\n",
      "Guess 6C:  538 bits same\n",
      "Guess 6D:  545 bits same\n",
      "Guess 6E:  463 bits same\n",
      "Guess 6F:  456 bits same\n",
      "Guess 70:  512 bits same\n",
      "Guess 71:  459 bits same\n",
      "Guess 72:  479 bits same\n",
      "Guess 73:  553 bits same\n",
      "Guess 74:  510 bits same\n",
      "Guess 75:  516 bits same\n",
      "Guess 76:  476 bits same\n",
      "Guess 77:  479 bits same\n",
      "Guess 78:  429 bits same\n",
      "Guess 79:  472 bits same\n",
      "Guess 7A:  593 bits same\n",
      "Guess 7B:  481 bits same\n",
      "Guess 7C:  447 bits same\n",
      "Guess 7D:  512 bits same\n",
      "Guess 7E:  470 bits same\n",
      "Guess 7F:  477 bits same\n",
      "Guess 80:  513 bits same\n",
      "Guess 81:  524 bits same\n",
      "Guess 82:  539 bits same\n",
      "Guess 83:  483 bits same\n",
      "Guess 84:  546 bits same\n",
      "Guess 85:  511 bits same\n",
      "Guess 86:  465 bits same\n",
      "Guess 87:  511 bits same\n",
      "Guess 88:  467 bits same\n",
      "Guess 89:  579 bits same\n",
      "Guess 8A:  532 bits same\n",
      "Guess 8B:  465 bits same\n",
      "Guess 8C:  445 bits same\n",
      "Guess 8D:  542 bits same\n",
      "Guess 8E:  499 bits same\n",
      "Guess 8F:  529 bits same\n",
      "Guess 90:  484 bits same\n",
      "Guess 91:  560 bits same\n",
      "Guess 92:  582 bits same\n",
      "Guess 93:  524 bits same\n",
      "Guess 94:  467 bits same\n",
      "Guess 95:  527 bits same\n",
      "Guess 96:  470 bits same\n",
      "Guess 97:  462 bits same\n",
      "Guess 98:  488 bits same\n",
      "Guess 99:  514 bits same\n",
      "Guess 9A:  504 bits same\n",
      "Guess 9B:  426 bits same\n",
      "Guess 9C:  471 bits same\n",
      "Guess 9D:  474 bits same\n",
      "Guess 9E:  521 bits same\n",
      "Guess 9F:  487 bits same\n",
      "Guess A0:  500 bits same\n",
      "Guess A1:  470 bits same\n",
      "Guess A2:  504 bits same\n",
      "Guess A3:  551 bits same\n",
      "Guess A4:  569 bits same\n",
      "Guess A5:  498 bits same\n",
      "Guess A6:  549 bits same\n",
      "Guess A7:  489 bits same\n",
      "Guess A8:  539 bits same\n",
      "Guess A9:  502 bits same\n",
      "Guess AA:  449 bits same\n",
      "Guess AB:  512 bits same\n",
      "Guess AC:  479 bits same\n",
      "Guess AD:  522 bits same\n",
      "Guess AE:  429 bits same\n",
      "Guess AF:  474 bits same\n",
      "Guess B0:  523 bits same\n",
      "Guess B1:  486 bits same\n",
      "Guess B2:  485 bits same\n",
      "Guess B3:  532 bits same\n",
      "Guess B4:  523 bits same\n",
      "Guess B5:  493 bits same\n",
      "Guess B6:  455 bits same\n",
      "Guess B7:  527 bits same\n",
      "Guess B8:  569 bits same\n",
      "Guess B9:  510 bits same\n",
      "Guess BA:  524 bits same\n",
      "Guess BB:  498 bits same\n",
      "Guess BC:  453 bits same\n",
      "Guess BD:  489 bits same\n",
      "Guess BE:  477 bits same\n",
      "Guess BF:  447 bits same\n",
      "Guess C0:  484 bits same\n",
      "Guess C1:  460 bits same\n",
      "Guess C2:  499 bits same\n",
      "Guess C3:  460 bits same\n",
      "Guess C4:  510 bits same\n",
      "Guess C5:  573 bits same\n",
      "Guess C6:  526 bits same\n",
      "Guess C7:  557 bits same\n",
      "Guess C8:  497 bits same\n",
      "Guess C9:  552 bits same\n",
      "Guess CA:  445 bits same\n",
      "Guess CB:  511 bits same\n",
      "Guess CC:  474 bits same\n",
      "Guess CD:  489 bits same\n",
      "Guess CE:  506 bits same\n",
      "Guess CF:  550 bits same\n",
      "Guess D0:  463 bits same\n",
      "Guess D1:  522 bits same\n",
      "Guess D2:  497 bits same\n",
      "Guess D3:  447 bits same\n",
      "Guess D4:  437 bits same\n",
      "Guess D5:  550 bits same\n",
      "Guess D6:  494 bits same\n",
      "Guess D7:  536 bits same\n",
      "Guess D8:  556 bits same\n",
      "Guess D9:  520 bits same\n",
      "Guess DA:  517 bits same\n",
      "Guess DB:  428 bits same\n",
      "Guess DC:  483 bits same\n",
      "Guess DD:  505 bits same\n",
      "Guess DE:  532 bits same\n",
      "Guess DF:  543 bits same\n",
      "Guess E0:  460 bits same\n",
      "Guess E1:  525 bits same\n",
      "Guess E2:  501 bits same\n",
      "Guess E3:  475 bits same\n",
      "Guess E4:  481 bits same\n",
      "Guess E5:  433 bits same\n",
      "Guess E6:  488 bits same\n",
      "Guess E7:  478 bits same\n",
      "Guess E8:  571 bits same\n",
      "Guess E9:  461 bits same\n",
      "Guess EA:  498 bits same\n",
      "Guess EB:  498 bits same\n",
      "Guess EC:  519 bits same\n",
      "Guess ED:  514 bits same\n",
      "Guess EE:  485 bits same\n",
      "Guess EF: 1000 bits same\n",
      "Guess F0:  482 bits same\n",
      "Guess F1:  468 bits same\n",
      "Guess F2:  478 bits same\n",
      "Guess F3:  471 bits same\n",
      "Guess F4:  487 bits same\n",
      "Guess F5:  471 bits same\n",
      "Guess F6:  468 bits same\n",
      "Guess F7:  553 bits same\n",
      "Guess F8:  481 bits same\n",
      "Guess F9:  564 bits same\n",
      "Guess FA:  473 bits same\n",
      "Guess FB:  458 bits same\n",
      "Guess FC:  520 bits same\n",
      "Guess FD:  459 bits same\n",
      "Guess FE:  508 bits same\n",
      "Guess FF:  563 bits same\n"
     ]
    }
   ],
   "source": [
    "key_guess: list = [i for i in range(256)]\n",
    "for guess in range(0, 256):   \n",
    "    \n",
    "    #Get a hypothetical leakage list - use aes_internal(guess, input_byte) and mask off to only get value of lowest bit\n",
    "    hypothetical_leakage = [(aes_internal(guess, input_byte) & 0x01) for input_byte in input_data]\n",
    "    \n",
    "    #Use our function of comparison\n",
    "    same_count = count_same(hypothetical_leakage, leaked_data)   \n",
    "    \n",
    "    print(\"Guess {:02X}: {:4d} bits same\".format(guess, same_count))"
   ]
  },
  {
   "cell_type": "markdown",
   "id": "37babc70-9185-4a4d-b6b5-b7a6e0c2605d",
   "metadata": {},
   "source": [
    "Puisqu'une seule valeur de clé est correcte, il est normal que toutes les autres produisent des valeurs à peu près uniformément réparties, et donc leur nombre de bits identiques associé est aux alentours de 1000/2 = 500, sauf pour la valeur correcte de clé : on observe bien que pour `0xEF`, le nombre de bits identiques vaut 1000. Ainsi, on a bien retrouvé la valeur de clé secrète utilisée !"
   ]
  },
  {
   "cell_type": "markdown",
   "id": "798acf49-0d35-487a-905b-989191888869",
   "metadata": {},
   "source": [
    "## DPA sur AES : an oldie but a goodie"
   ]
  },
  {
   "cell_type": "markdown",
   "id": "4f08df60-85aa-44c4-902d-7f89f036e68e",
   "metadata": {},
   "source": [
    "Nous allons maintenant implémenter une attaque DPA classique sur AES. Dans l'attaque précédente, nous utilisions une valeur de bit à 0 ou à 1, mais maintenant nous allons nous placer en situation réelle et effectuer une **analyse de puissance** afin de déterminer la valeur du bit observé. On commence par capturer un grand nombre de traces correspondant à des valeurs aléatoires envoyées au système."
   ]
  },
  {
   "cell_type": "code",
   "execution_count": 15,
   "id": "cfe52ee9-2a5b-4f7d-9109-1b670818d620",
   "metadata": {},
   "outputs": [
    {
     "name": "stdout",
     "output_type": "stream",
     "text": [
      "✔️ OK to continue!\n"
     ]
    }
   ],
   "source": [
    "from cwtraces import sca101_lab_data\n",
    "import chipwhisperer as cw\n",
    "\n",
    "data = sca101_lab_data[\"lab3_3\"]()\n",
    "trace_array =  data[\"trace_array\"]\n",
    "textin_array = data[\"textin_array\"]\n",
    "\n",
    "assert(len(trace_array) == 2500)\n",
    "print(\"✔️ OK to continue!\")"
   ]
  },
  {
   "cell_type": "markdown",
   "id": "6da86fe8-6da1-4236-bd19-85cd6b2a88a5",
   "metadata": {},
   "source": [
    "Nous allons maintenant séparer comme habituellement nos traces en 2 groupes en fonction de la valeur d'un bit quelconque de notre 'guessed value'."
   ]
  },
  {
   "cell_type": "code",
   "execution_count": 17,
   "id": "e69385f1-f444-46a9-bf6b-80ff252619ae",
   "metadata": {},
   "outputs": [
    {
     "data": {
      "text/html": [
       "<pre style=\"white-space:pre;overflow-x:auto;line-height:normal;font-family:Menlo,'DejaVu Sans Mono',consolas,'Courier New',monospace\">Key Guess 2B = <span style=\"color: #008080; text-decoration-color: #008080; font-weight: bold\">0.002540</span> matches\n",
       "</pre>\n"
      ],
      "text/plain": [
       "Key Guess 2B = \u001b[1;36m0.002540\u001b[0m matches\n"
      ]
     },
     "metadata": {},
     "output_type": "display_data"
    },
    {
     "data": {
      "text/html": [
       "<pre style=\"white-space:pre;overflow-x:auto;line-height:normal;font-family:Menlo,'DejaVu Sans Mono',consolas,'Courier New',monospace\">Key Guess <span style=\"color: #008080; text-decoration-color: #008080; font-weight: bold\">69</span> = <span style=\"color: #008080; text-decoration-color: #008080; font-weight: bold\">0.001297</span> matches\n",
       "</pre>\n"
      ],
      "text/plain": [
       "Key Guess \u001b[1;36m69\u001b[0m = \u001b[1;36m0.001297\u001b[0m matches\n"
      ]
     },
     "metadata": {},
     "output_type": "display_data"
    },
    {
     "data": {
      "text/html": [
       "<pre style=\"white-space:pre;overflow-x:auto;line-height:normal;font-family:Menlo,'DejaVu Sans Mono',consolas,'Courier New',monospace\">Key Guess <span style=\"color: #008080; text-decoration-color: #008080; font-weight: bold\">40</span> = <span style=\"color: #008080; text-decoration-color: #008080; font-weight: bold\">0.001297</span> matches\n",
       "</pre>\n"
      ],
      "text/plain": [
       "Key Guess \u001b[1;36m40\u001b[0m = \u001b[1;36m0.001297\u001b[0m matches\n"
      ]
     },
     "metadata": {},
     "output_type": "display_data"
    },
    {
     "data": {
      "text/html": [
       "<pre style=\"white-space:pre;overflow-x:auto;line-height:normal;font-family:Menlo,'DejaVu Sans Mono',consolas,'Courier New',monospace\">Key Guess <span style=\"color: #008080; text-decoration-color: #008080; font-weight: bold\">75</span> = <span style=\"color: #008080; text-decoration-color: #008080; font-weight: bold\">0.001285</span> matches\n",
       "</pre>\n"
      ],
      "text/plain": [
       "Key Guess \u001b[1;36m75\u001b[0m = \u001b[1;36m0.001285\u001b[0m matches\n"
      ]
     },
     "metadata": {},
     "output_type": "display_data"
    },
    {
     "data": {
      "text/html": [
       "<pre style=\"white-space:pre;overflow-x:auto;line-height:normal;font-family:Menlo,'DejaVu Sans Mono',consolas,'Courier New',monospace\">Key Guess <span style=\"color: #008080; text-decoration-color: #008080; font-weight: bold\">97</span> = <span style=\"color: #008080; text-decoration-color: #008080; font-weight: bold\">0.001263</span> matches\n",
       "</pre>\n"
      ],
      "text/plain": [
       "Key Guess \u001b[1;36m97\u001b[0m = \u001b[1;36m0.001263\u001b[0m matches\n"
      ]
     },
     "metadata": {},
     "output_type": "display_data"
    },
    {
     "data": {
      "text/html": [
       "<pre style=\"white-space:pre;overflow-x:auto;line-height:normal;font-family:Menlo,'DejaVu Sans Mono',consolas,'Courier New',monospace\">ℹ First Bit <span style=\"font-weight: bold\">(</span><span style=\"color: #008080; text-decoration-color: #008080; font-weight: bold\">0x2b</span><span style=\"font-weight: bold\">)</span>: <span style=\"color: #008080; text-decoration-color: #008080; font-weight: bold\">0.002539628236491495</span> =&gt; Difference with the second: <span style=\"color: #008080; text-decoration-color: #008080; font-weight: bold\">0.0012428327863228117</span> <span style=\"font-weight: bold\">(</span><span style=\"color: #008080; text-decoration-color: #008080; font-weight: bold\">0x69</span>: \n",
       "<span style=\"color: #008080; text-decoration-color: #008080; font-weight: bold\">0.0012967954501686835</span><span style=\"font-weight: bold\">)</span>\n",
       "</pre>\n"
      ],
      "text/plain": [
       "ℹ First Bit \u001b[1m(\u001b[0m\u001b[1;36m0x2b\u001b[0m\u001b[1m)\u001b[0m: \u001b[1;36m0.002539628236491495\u001b[0m => Difference with the second: \u001b[1;36m0.0012428327863228117\u001b[0m \u001b[1m(\u001b[0m\u001b[1;36m0x69\u001b[0m: \n",
       "\u001b[1;36m0.0012967954501686835\u001b[0m\u001b[1m)\u001b[0m\n"
      ]
     },
     "metadata": {},
     "output_type": "display_data"
    }
   ],
   "source": [
    "from rich import print\n",
    "\n",
    "numtraces = np.shape(trace_array)[0] #total number of traces\n",
    "numpoints = np.shape(trace_array)[1] #samples per trace\n",
    "mean_diffs = np.zeros(256) # will contain the difference between the mean of each group for each possible key byte value\n",
    "bytes_to_attack: int = 0\n",
    "\n",
    "for key_bytes_guess_value in range(256): # for each possible key byte value\n",
    "    one_list = []\n",
    "    zero_list = []\n",
    "\n",
    "    for trace_index in range(numtraces): \n",
    "        input_bytes = textin_array[trace_index][bytes_to_attack]\n",
    "\n",
    "        hypothetical_leakage = aes_internal(key_bytes_guess_value, input_bytes) \n",
    "\n",
    "        # si le bit observé est un 1 \n",
    "        if hypothetical_leakage & 0x01:\n",
    "            one_list.append(trace_array[trace_index])\n",
    "        else:\n",
    "            zero_list.append(trace_array[trace_index])\n",
    "\n",
    "    # moyenne pour chaque groupe\n",
    "    zero_avg = np.mean(zero_list, axis=0)\n",
    "    one_avg = np.mean(one_list, axis=0)\n",
    "\n",
    "    max_diff_value = np.max(abs(one_avg - zero_avg))\n",
    "    # on stocke la différence maximale entre les moyennes pour ce guess de valeur de clé secrète\n",
    "    mean_diffs[key_bytes_guess_value] = max_diff_value\n",
    "\n",
    "sorted_list = np.argsort(mean_diffs)[::-1]\n",
    "#Print top 5 only\n",
    "for guess in sorted_list[0:5]:\n",
    "    print(\"Key Guess {:02X} = {:04f} matches\".format(guess, mean_diffs[guess]))\n",
    "\n",
    "print(f\":information: First Bit ({hex(sorted_list[0])}): {mean_diffs[sorted_list[0]]} => Difference with the second: {mean_diffs[sorted_list[0]] - mean_diffs[sorted_list[1]]} ({hex(sorted_list[1])}: {mean_diffs[sorted_list[1]]})\")"
   ]
  },
  {
   "cell_type": "markdown",
   "id": "4c0a34ae-0826-40aa-bf48-3f7c4e168b81",
   "metadata": {},
   "source": [
    "Ainsi, on a retrouvé le premier octet de la clé secrète AES utilisée en utilisant la valeur d'un bit observé, valeur déterminée grâce à une analyse de puissance. Nous avons donc réalisé une attaque DPA sur AES ! Il est bien sûr possible d'étendre cette attaque à tous les octets de la clé secrète afin de la reconstituer dans sa totalité, simplement en englobant le code précédant dans une boucle `for bytes_to_attack in range(16):` afin de la répéter pour chaque octet."
   ]
  },
  {
   "cell_type": "code",
   "execution_count": null,
   "id": "69b934aa-69e0-408e-97e7-a6bb62c9d8cd",
   "metadata": {},
   "outputs": [],
   "source": []
  }
 ],
 "metadata": {
  "kernelspec": {
   "display_name": "Python 3 (ipykernel)",
   "language": "python",
   "name": "python3"
  },
  "language_info": {
   "codemirror_mode": {
    "name": "ipython",
    "version": 3
   },
   "file_extension": ".py",
   "mimetype": "text/x-python",
   "name": "python",
   "nbconvert_exporter": "python",
   "pygments_lexer": "ipython3",
   "version": "3.9.6"
  }
 },
 "nbformat": 4,
 "nbformat_minor": 5
}

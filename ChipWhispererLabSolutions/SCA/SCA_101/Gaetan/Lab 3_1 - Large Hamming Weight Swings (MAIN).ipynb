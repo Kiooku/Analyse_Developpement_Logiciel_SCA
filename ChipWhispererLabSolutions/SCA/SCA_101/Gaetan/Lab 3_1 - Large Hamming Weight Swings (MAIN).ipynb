{
 "cells": [
  {
   "cell_type": "markdown",
   "metadata": {},
   "source": [
    "# Part 3, Topic 1: Large Hamming Weight Swings (MAIN)"
   ]
  },
  {
   "cell_type": "markdown",
   "metadata": {},
   "source": [
    "---\n",
    "NOTE: This lab references some (commercial) training material on [ChipWhisperer.io](https://www.ChipWhisperer.io). You can freely execute and use the lab per the open-source license (including using it in your own courses if you distribute similarly), but you must maintain notice about this source location. Consider joining our training course to enjoy the full experience.\n",
    "\n",
    "---"
   ]
  },
  {
   "cell_type": "markdown",
   "metadata": {},
   "source": [
    "**SUMMARY:** *In the previous part of the course, you saw that a microcontroller's power consumption changes based on what it's doing. In the case of a simple password check, this allowed us to see how many characters of the password we had correct, eventually resulting in the password being broken.*\n",
    "\n",
    "*That attack was based on different code execution paths showing up differently in power traces. In this next set of labs, we'll posit that, not only does different instructions affect power consumption, the data being manipulated in the microcontroller also affects power consumption.*\n",
    "\n",
    "\n",
    "**LEARNING OUTCOMES:**\n",
    "\n",
    "* Using a power measurement to 'validate' a possible device model.\n",
    "* Detecting the value of a single bit using power measurement.\n",
    "* Breaking AES using the classic DPA attack."
   ]
  },
  {
   "cell_type": "markdown",
   "metadata": {},
   "source": [
    "## Prerequisites\n",
    "\n",
    "Hold up! Before you continue, check you've done the following tutorials:\n",
    "\n",
    "* ☑ Jupyter Notebook Intro (you should be OK with plotting & running blocks).\n",
    "* ☑ SCA101 Intro (you should have an idea of how to get hardware-specific versions running).\n",
    "* ☑ SCA101 Part 2 (you should understand how power consumption changes based on what code is being run)"
   ]
  },
  {
   "cell_type": "markdown",
   "metadata": {},
   "source": [
    "## Power Trace Gathering\n",
    "\n",
    "At this point you've got to insert code to perform the power trace capture. There are two options here:\n",
    "* Capture from physical device.\n",
    "* Read from a file.\n",
    "\n",
    "You get to choose your adventure - see the two notebooks with the same name of this, but called `(SIMULATED)` or `(HARDWARE)` to continue. Inside those notebooks you should get some code to copy into the following section, which will define the capture function.\n",
    "\n",
    "Be sure you get the `\"✔️ OK to continue!\"` print once you run the next cell, otherwise things will fail later on!\n"
   ]
  },
  {
   "cell_type": "code",
   "execution_count": 1,
   "metadata": {},
   "outputs": [],
   "source": [
    "SCOPETYPE = 'OPENADC'\n",
    "PLATFORM = 'CW308_SAM4S'\n",
    "CRYPTO_TARGET = 'TINYAES128C'\n",
    "SS_VER = 'SS_VER_2_1'"
   ]
  },
  {
   "cell_type": "code",
   "execution_count": 2,
   "metadata": {},
   "outputs": [],
   "source": [
    "#%run \"../../Setup_Scripts/Setup_Generic.ipynb\""
   ]
  },
  {
   "cell_type": "code",
   "execution_count": 3,
   "metadata": {},
   "outputs": [
    {
     "data": {
      "text/plain": [
       "'\\n%%bash -s \"$PLATFORM\" \"$CRYPTO_TARGET\" \"$SS_VER\"\\ncd ../../../chipwhisperer/firmware/mcu/simpleserial-aes\\nmake PLATFORM=$1 CRYPTO_TARGET=$2 SS_VER=$3 -j\\n'"
      ]
     },
     "execution_count": 3,
     "metadata": {},
     "output_type": "execute_result"
    }
   ],
   "source": [
    "\"\"\"\n",
    "%%bash -s \"$PLATFORM\" \"$CRYPTO_TARGET\" \"$SS_VER\"\n",
    "cd ../../../chipwhisperer/firmware/mcu/simpleserial-aes\n",
    "make PLATFORM=$1 CRYPTO_TARGET=$2 SS_VER=$3 -j\n",
    "\"\"\""
   ]
  },
  {
   "cell_type": "code",
   "execution_count": 4,
   "metadata": {},
   "outputs": [],
   "source": [
    "#cw.program_target(scope, prog, \"../../../chipwhisperer/firmware/mcu/simpleserial-aes/simpleserial-aes-{}.hex\".format(PLATFORM))"
   ]
  },
  {
   "cell_type": "code",
   "execution_count": 6,
   "metadata": {},
   "outputs": [
    {
     "data": {
      "text/plain": [
       "'\\nktp = cw.ktp.Basic()\\ntrace_array = []\\ntextin_array = []\\n\\nkey, text = ktp.next()\\n\\ntarget.set_key(key)\\n\\nN = 100\\nfor i in trange(N, desc=\\'Capturing traces\\'):\\n    scope.arm()\\n    if text[0] & 0x01:\\n        text[0] = 0xFF\\n    else:\\n        text[0] = 0x00\\n    target.simpleserial_write(\\'p\\', text)\\n    \\n    ret = scope.capture()\\n    if ret:\\n        print(\"Target timed out!\")\\n        continue\\n    \\n    response = target.simpleserial_read(\\'r\\', 16)\\n    \\n    trace_array.append(scope.get_last_trace())\\n    textin_array.append(text)\\n    \\n    key, text = ktp.next() \\n'"
      ]
     },
     "execution_count": 6,
     "metadata": {},
     "output_type": "execute_result"
    }
   ],
   "source": [
    "from tqdm.notebook import trange\n",
    "import numpy as np\n",
    "import time\n",
    "\"\"\"\n",
    "ktp = cw.ktp.Basic()\n",
    "trace_array = []\n",
    "textin_array = []\n",
    "\n",
    "key, text = ktp.next()\n",
    "\n",
    "target.set_key(key)\n",
    "\n",
    "N = 100\n",
    "for i in trange(N, desc='Capturing traces'):\n",
    "    scope.arm()\n",
    "    if text[0] & 0x01:\n",
    "        text[0] = 0xFF\n",
    "    else:\n",
    "        text[0] = 0x00\n",
    "    target.simpleserial_write('p', text)\n",
    "    \n",
    "    ret = scope.capture()\n",
    "    if ret:\n",
    "        print(\"Target timed out!\")\n",
    "        continue\n",
    "    \n",
    "    response = target.simpleserial_read('r', 16)\n",
    "    \n",
    "    trace_array.append(scope.get_last_trace())\n",
    "    textin_array.append(text)\n",
    "    \n",
    "    key, text = ktp.next() \n",
    "\"\"\""
   ]
  },
  {
   "cell_type": "code",
   "execution_count": 6,
   "metadata": {},
   "outputs": [
    {
     "data": {
      "text/plain": [
       "'\\nktp = cw.ktp.Basic()\\ntrace_array = []\\ntextin_array = []\\n\\nkey, text = ktp.next()\\n\\ntarget.set_key(key)\\n\\nN = 100\\nfor i in trange(N, desc=\\'Capturing traces\\'):\\n    scope.arm()\\n    if text[0] & 0x01:\\n        text[0] = 0xFF\\n    else:\\n        text[0] = 0x00\\n    target.simpleserial_write(\\'p\\', text)\\n    \\n    ret = scope.capture()\\n    if ret:\\n        print(\"Target timed out!\")\\n        continue\\n    \\n    response = target.simpleserial_read(\\'r\\', 16)\\n    \\n    trace_array.append(scope.get_last_trace())\\n    textin_array.append(text)\\n    \\n    key, text = ktp.next() \\n'"
      ]
     },
     "execution_count": 6,
     "metadata": {},
     "output_type": "execute_result"
    }
   ],
   "source": [
    "from tqdm.notebook import trange\n",
    "import numpy as np\n",
    "import time\n",
    "\"\"\"\n",
    "ktp = cw.ktp.Basic()\n",
    "trace_array = []\n",
    "textin_array = []\n",
    "\n",
    "key, text = ktp.next()\n",
    "\n",
    "target.set_key(key)\n",
    "\n",
    "N = 100\n",
    "for i in trange(N, desc='Capturing traces'):\n",
    "    scope.arm()\n",
    "    if text[0] & 0x01:\n",
    "        text[0] = 0xFF\n",
    "    else:\n",
    "        text[0] = 0x00\n",
    "    target.simpleserial_write('p', text)\n",
    "    \n",
    "    ret = scope.capture()\n",
    "    if ret:\n",
    "        print(\"Target timed out!\")\n",
    "        continue\n",
    "    \n",
    "    response = target.simpleserial_read('r', 16)\n",
    "    \n",
    "    trace_array.append(scope.get_last_trace())\n",
    "    textin_array.append(text)\n",
    "    \n",
    "    key, text = ktp.next() \n",
    "\"\"\""
   ]
  },
  {
   "cell_type": "code",
   "execution_count": 6,
   "metadata": {},
   "outputs": [
    {
     "data": {
      "text/plain": [
       "'\\nktp = cw.ktp.Basic()\\ntrace_array = []\\ntextin_array = []\\n\\nkey, text = ktp.next()\\n\\ntarget.set_key(key)\\n\\nN = 100\\nfor i in trange(N, desc=\\'Capturing traces\\'):\\n    scope.arm()\\n    if text[0] & 0x01:\\n        text[0] = 0xFF\\n    else:\\n        text[0] = 0x00\\n    target.simpleserial_write(\\'p\\', text)\\n    \\n    ret = scope.capture()\\n    if ret:\\n        print(\"Target timed out!\")\\n        continue\\n    \\n    response = target.simpleserial_read(\\'r\\', 16)\\n    \\n    trace_array.append(scope.get_last_trace())\\n    textin_array.append(text)\\n    \\n    key, text = ktp.next() \\n'"
      ]
     },
     "execution_count": 6,
     "metadata": {},
     "output_type": "execute_result"
    }
   ],
   "source": [
    "from tqdm.notebook import trange\n",
    "import numpy as np\n",
    "import time\n",
    "\"\"\"\n",
    "ktp = cw.ktp.Basic()\n",
    "trace_array = []\n",
    "textin_array = []\n",
    "\n",
    "key, text = ktp.next()\n",
    "\n",
    "target.set_key(key)\n",
    "\n",
    "N = 100\n",
    "for i in trange(N, desc='Capturing traces'):\n",
    "    scope.arm()\n",
    "    if text[0] & 0x01:\n",
    "        text[0] = 0xFF\n",
    "    else:\n",
    "        text[0] = 0x00\n",
    "    target.simpleserial_write('p', text)\n",
    "    \n",
    "    ret = scope.capture()\n",
    "    if ret:\n",
    "        print(\"Target timed out!\")\n",
    "        continue\n",
    "    \n",
    "    response = target.simpleserial_read('r', 16)\n",
    "    \n",
    "    trace_array.append(scope.get_last_trace())\n",
    "    textin_array.append(text)\n",
    "    \n",
    "    key, text = ktp.next() \n",
    "\"\"\""
   ]
  },
  {
   "cell_type": "code",
   "execution_count": 8,
   "metadata": {},
   "outputs": [],
   "source": [
    "# Simulated traces\n",
    "from cwtraces import sca101_lab_data\n",
    "import numpy as np\n",
    "import chipwhisperer as cw\n",
    "\n",
    "data = sca101_lab_data[\"lab3_1\"]()\n",
    "trace_array =  data[\"trace_array\"]\n",
    "textin_array = data[\"textin_array\"]"
   ]
  },
  {
   "cell_type": "code",
   "execution_count": 9,
   "metadata": {},
   "outputs": [
    {
     "name": "stdout",
     "output_type": "stream",
     "text": [
      "✔️ OK to continue!\n"
     ]
    }
   ],
   "source": [
    "assert len(trace_array) == 100\n",
    "print(\"✔️ OK to continue!\")"
   ]
  },
  {
   "cell_type": "markdown",
   "metadata": {},
   "source": [
    "## Grouping Traces\n",
    "\n",
    "As we've seen in the slides, we've made an assumption that setting bits on the data lines consumes a measurable amount of power. Now, we're going test that theory by getting our target to manipulate data with a very high Hamming weight (0xFF) and a very low Hamming weight (0x00). For this purpose, the target is currently running AES, and it encrypted the text we sent it. If we're correct in our assumption, we should see a measurable difference between power traces with a high Hamming weight and a low one.\n",
    "\n",
    "Currently, these traces are all mixed up. Separate them into two groups: `one_list` and `zero_list`. Here's an example of how we use the first byte to check for a 0x00, and assume if it's not that it's 0xFF. Here is a simple iteration to print them:"
   ]
  },
  {
   "cell_type": "code",
   "execution_count": 10,
   "metadata": {},
   "outputs": [
    {
     "name": "stdout",
     "output_type": "stream",
     "text": [
      "This should be added to 0 list\n",
      "This should be added to 0 list\n",
      "This should be added to 0 list\n",
      "This should be added to 0 list\n",
      "This should be added to 0 list\n",
      "This should be added to 0 list\n",
      "This should be added to 1 list\n",
      "This should be added to 1 list\n",
      "This should be added to 1 list\n",
      "This should be added to 1 list\n",
      "This should be added to 1 list\n",
      "This should be added to 1 list\n",
      "This should be added to 1 list\n",
      "This should be added to 0 list\n",
      "This should be added to 1 list\n",
      "This should be added to 1 list\n",
      "This should be added to 1 list\n",
      "This should be added to 1 list\n",
      "This should be added to 1 list\n",
      "This should be added to 0 list\n",
      "This should be added to 1 list\n",
      "This should be added to 0 list\n",
      "This should be added to 0 list\n",
      "This should be added to 1 list\n",
      "This should be added to 0 list\n",
      "This should be added to 1 list\n",
      "This should be added to 0 list\n",
      "This should be added to 1 list\n",
      "This should be added to 1 list\n",
      "This should be added to 0 list\n",
      "This should be added to 1 list\n",
      "This should be added to 0 list\n",
      "This should be added to 1 list\n",
      "This should be added to 0 list\n",
      "This should be added to 1 list\n",
      "This should be added to 0 list\n",
      "This should be added to 0 list\n",
      "This should be added to 1 list\n",
      "This should be added to 1 list\n",
      "This should be added to 1 list\n",
      "This should be added to 1 list\n",
      "This should be added to 0 list\n",
      "This should be added to 0 list\n",
      "This should be added to 0 list\n",
      "This should be added to 0 list\n",
      "This should be added to 0 list\n",
      "This should be added to 1 list\n",
      "This should be added to 1 list\n",
      "This should be added to 1 list\n",
      "This should be added to 0 list\n",
      "This should be added to 1 list\n",
      "This should be added to 1 list\n",
      "This should be added to 0 list\n",
      "This should be added to 0 list\n",
      "This should be added to 1 list\n",
      "This should be added to 1 list\n",
      "This should be added to 1 list\n",
      "This should be added to 1 list\n",
      "This should be added to 1 list\n",
      "This should be added to 1 list\n",
      "This should be added to 1 list\n",
      "This should be added to 1 list\n",
      "This should be added to 0 list\n",
      "This should be added to 0 list\n",
      "This should be added to 0 list\n",
      "This should be added to 1 list\n",
      "This should be added to 0 list\n",
      "This should be added to 1 list\n",
      "This should be added to 1 list\n",
      "This should be added to 0 list\n",
      "This should be added to 0 list\n",
      "This should be added to 1 list\n",
      "This should be added to 1 list\n",
      "This should be added to 0 list\n",
      "This should be added to 1 list\n",
      "This should be added to 0 list\n",
      "This should be added to 1 list\n",
      "This should be added to 0 list\n",
      "This should be added to 1 list\n",
      "This should be added to 0 list\n",
      "This should be added to 0 list\n",
      "This should be added to 1 list\n",
      "This should be added to 1 list\n",
      "This should be added to 1 list\n",
      "This should be added to 0 list\n",
      "This should be added to 0 list\n",
      "This should be added to 0 list\n",
      "This should be added to 1 list\n",
      "This should be added to 1 list\n",
      "This should be added to 1 list\n",
      "This should be added to 0 list\n",
      "This should be added to 0 list\n",
      "This should be added to 1 list\n",
      "This should be added to 0 list\n",
      "This should be added to 1 list\n",
      "This should be added to 1 list\n",
      "This should be added to 0 list\n",
      "This should be added to 1 list\n",
      "This should be added to 1 list\n",
      "This should be added to 0 list\n"
     ]
    }
   ],
   "source": [
    "for i in range(len(trace_array)):\n",
    "    if textin_array[i][0] == 0x00:\n",
    "        print(\"This should be added to 0 list\")\n",
    "    else:\n",
    "        print(\"This should be added to 1 list\")"
   ]
  },
  {
   "cell_type": "markdown",
   "metadata": {},
   "source": [
    "Now extend this to append them to two arrays, a `one_list` and a `zero_list`:"
   ]
  },
  {
   "cell_type": "code",
   "execution_count": 23,
   "metadata": {},
   "outputs": [],
   "source": [
    "      \n",
    "# ###################\n",
    "# Add your code here\n",
    "# ###################\n",
    "#raise NotImplementedError(\"Add Your Code Here\")\n",
    "one_list: list = []\n",
    "zero_list: list = []\n",
    "\n",
    "for i in range(len(trace_array)):\n",
    "    if textin_array[i][0] == 0x00:\n",
    "        zero_list.append(trace_array[i])\n",
    "    else:\n",
    "        one_list.append(trace_array[i])\n",
    "        \n",
    "assert len(one_list) > len(zero_list)/2\n",
    "assert len(zero_list) > len(one_list)/2"
   ]
  },
  {
   "cell_type": "markdown",
   "metadata": {},
   "source": [
    "We should have two different lists. Whether we sent 0xFF or 0x00 was random, so these lists likely won't be evenly dispersed. Next, we'll want to take an average of each group (make sure you take an average of each trace at each point! We don't want an average of the traces in time), which will help smooth out any outliers and also fix our issue of having a different number of traces for each group.\n",
    "\n",
    "The easiest way to accomplish this will be to use `np.mean()`, which can take a list as an argument. You'll need to specify the `axis` parameter as well, to ensure you take the correct dimension. Check the resulting size to make sure you still have traces of the same length as one input - the following block shows how you can verify that, assuming you used `one_avg` as the average."
   ]
  },
  {
   "cell_type": "code",
   "execution_count": 33,
   "metadata": {},
   "outputs": [
    {
     "name": "stdout",
     "output_type": "stream",
     "text": [
      "[array([-0.1027832 , -0.27905273, -0.17358398, ...,  0.08007812,\n",
      "        0.10351562,  0.1328125 ]), array([-0.10449219, -0.28881836, -0.18212891, ...,  0.07983398,\n",
      "        0.10522461,  0.1328125 ]), array([-0.1027832 , -0.2890625 , -0.18920898, ...,  0.08032227,\n",
      "        0.10375977,  0.13012695]), array([-0.10522461, -0.28930664, -0.18554688, ...,  0.078125  ,\n",
      "        0.10302734,  0.13598633]), array([-0.10473633, -0.29150391, -0.18334961, ...,  0.07885742,\n",
      "        0.10400391,  0.1315918 ]), array([-0.10473633, -0.28466797, -0.1796875 , ...,  0.07788086,\n",
      "        0.10400391,  0.12988281]), array([-0.10229492, -0.27758789, -0.17333984, ...,  0.0769043 ,\n",
      "        0.10131836,  0.12988281]), array([-0.1027832 , -0.29882812, -0.18725586, ...,  0.07885742,\n",
      "        0.10424805,  0.1328125 ]), array([-0.10253906, -0.27832031, -0.1730957 , ...,  0.07958984,\n",
      "        0.10424805,  0.1340332 ]), array([-0.10302734, -0.27905273, -0.17553711, ...,  0.078125  ,\n",
      "        0.1027832 ,  0.13134766]), array([-0.10302734, -0.29492188, -0.18969727, ...,  0.08032227,\n",
      "        0.1027832 ,  0.13256836]), array([-0.10180664, -0.2824707 , -0.17749023, ...,  0.07861328,\n",
      "        0.10449219,  0.1315918 ]), array([-0.10229492, -0.27880859, -0.17504883, ...,  0.0793457 ,\n",
      "        0.10302734,  0.13256836]), array([-0.10595703, -0.28930664, -0.18334961, ...,  0.07861328,\n",
      "        0.10400391,  0.13183594]), array([-0.10766602, -0.30053711, -0.19018555, ...,  0.07910156,\n",
      "        0.10351562,  0.1315918 ]), array([-0.10302734, -0.28686523, -0.18310547, ...,  0.07763672,\n",
      "        0.10253906,  0.1328125 ]), array([-0.10131836, -0.27539062, -0.17333984, ...,  0.07763672,\n",
      "        0.10058594,  0.13208008]), array([-0.10083008, -0.27758789, -0.17553711, ...,  0.0769043 ,\n",
      "        0.1027832 ,  0.13305664]), array([-0.10253906, -0.29345703, -0.18676758, ...,  0.08007812,\n",
      "        0.10400391,  0.13208008]), array([-0.10522461, -0.28442383, -0.18017578, ...,  0.07885742,\n",
      "        0.10180664,  0.13256836]), array([-0.10253906, -0.29052734, -0.18212891, ...,  0.07641602,\n",
      "        0.10205078,  0.13256836]), array([-0.09838867, -0.27734375, -0.17333984, ...,  0.078125  ,\n",
      "        0.10205078,  0.12988281]), array([-0.10058594, -0.28417969, -0.17919922, ...,  0.07666016,\n",
      "        0.10107422,  0.13110352]), array([-0.1027832 , -0.29833984, -0.18896484, ...,  0.07739258,\n",
      "        0.10009766,  0.13012695]), array([-0.10571289, -0.29418945, -0.17480469, ...,  0.07861328,\n",
      "        0.10375977,  0.13476562]), array([-0.10327148, -0.29370117, -0.18945312, ...,  0.08007812,\n",
      "        0.10351562,  0.1315918 ]), array([-0.11108398, -0.29736328, -0.18945312, ...,  0.07641602,\n",
      "        0.10107422,  0.13012695]), array([-0.10302734, -0.28662109, -0.18432617, ...,  0.07739258,\n",
      "        0.10449219,  0.13354492]), array([-0.10375977, -0.28564453, -0.1796875 , ...,  0.07910156,\n",
      "        0.10400391,  0.1315918 ]), array([-0.10351562, -0.29467773, -0.19335938, ...,  0.07836914,\n",
      "        0.10473633,  0.13183594]), array([-0.10083008, -0.27758789, -0.17504883, ...,  0.07739258,\n",
      "        0.10180664,  0.13110352]), array([-0.10498047, -0.28588867, -0.1796875 , ...,  0.07885742,\n",
      "        0.10107422,  0.13378906]), array([-0.10229492, -0.27954102, -0.17724609, ...,  0.07958984,\n",
      "        0.10449219,  0.13476562]), array([-0.1015625 , -0.27685547, -0.17578125, ...,  0.08007812,\n",
      "        0.10449219,  0.13183594]), array([-0.10180664, -0.27783203, -0.17431641, ...,  0.07885742,\n",
      "        0.10375977,  0.13305664]), array([-0.10449219, -0.28808594, -0.18188477, ...,  0.08203125,\n",
      "        0.1015625 ,  0.13452148]), array([-0.10400391, -0.29150391, -0.18237305, ...,  0.08007812,\n",
      "        0.10327148,  0.13208008]), array([-0.10766602, -0.29003906, -0.18383789, ...,  0.07617188,\n",
      "        0.09985352,  0.12939453]), array([-0.09594727, -0.29541016, -0.18505859, ...,  0.08007812,\n",
      "        0.10327148,  0.1315918 ]), array([-0.10449219, -0.27905273, -0.17480469, ...,  0.0793457 ,\n",
      "        0.09960938,  0.13085938]), array([-0.10546875, -0.30151367, -0.1887207 , ...,  0.07861328,\n",
      "        0.10449219,  0.13671875]), array([-0.10253906, -0.27807617, -0.17285156, ...,  0.07641602,\n",
      "        0.10205078,  0.13305664]), array([-0.1015625 , -0.27856445, -0.17553711, ...,  0.07641602,\n",
      "        0.10131836,  0.13085938]), array([-0.1003418 , -0.27612305, -0.17358398, ...,  0.07861328,\n",
      "        0.10473633,  0.1340332 ]), array([-0.10473633, -0.29638672, -0.18066406, ...,  0.07788086,\n",
      "        0.10205078,  0.13452148]), array([-0.1027832 , -0.29345703, -0.18457031, ...,  0.07910156,\n",
      "        0.10449219,  0.13452148]), array([-0.10205078, -0.2890625 , -0.19189453, ...,  0.07763672,\n",
      "        0.1027832 ,  0.13134766]), array([-0.09838867, -0.27612305, -0.17285156, ...,  0.08007812,\n",
      "        0.10107422,  0.13134766]), array([-0.10620117, -0.29052734, -0.18432617, ...,  0.07910156,\n",
      "        0.10327148,  0.12963867]), array([-0.10351562, -0.27978516, -0.17578125, ...,  0.07861328,\n",
      "        0.10180664,  0.13378906]), array([-0.10180664, -0.296875  , -0.18652344, ...,  0.0769043 ,\n",
      "        0.10327148,  0.13012695]), array([-0.10595703, -0.29541016, -0.18847656, ...,  0.078125  ,\n",
      "        0.10253906,  0.13256836]), array([-0.1027832 , -0.28027344, -0.17504883, ...,  0.07836914,\n",
      "        0.10449219,  0.1315918 ]), array([-0.10546875, -0.30102539, -0.19238281, ...,  0.07788086,\n",
      "        0.10375977,  0.13354492]), array([-0.10693359, -0.29223633, -0.18383789, ...,  0.07763672,\n",
      "        0.10302734,  0.13305664]), array([-0.10107422, -0.29663086, -0.18505859, ...,  0.07958984,\n",
      "        0.10424805,  0.13134766])] [array([-0.1015625 , -0.27905273, -0.17529297, ...,  0.078125  ,\n",
      "        0.10131836,  0.13183594]), array([-0.10180664, -0.28979492, -0.17773438, ...,  0.07836914,\n",
      "        0.1027832 ,  0.13330078]), array([-0.10668945, -0.30175781, -0.19042969, ...,  0.08032227,\n",
      "        0.10693359,  0.12915039]), array([-0.10009766, -0.27539062, -0.17529297, ...,  0.07446289,\n",
      "        0.09936523,  0.13085938]), array([-0.09887695, -0.27661133, -0.17407227, ...,  0.07470703,\n",
      "        0.10253906,  0.13208008]), array([-0.10473633, -0.30273438, -0.18945312, ...,  0.07519531,\n",
      "        0.10107422,  0.12988281]), array([-0.10107422, -0.27856445, -0.17578125, ...,  0.0793457 ,\n",
      "        0.10229492,  0.13378906]), array([-0.10375977, -0.2902832 , -0.18286133, ...,  0.07861328,\n",
      "        0.10522461,  0.13378906]), array([-0.1081543 , -0.2980957 , -0.18432617, ...,  0.07763672,\n",
      "        0.10253906,  0.13061523]), array([-0.10400391, -0.29003906, -0.19042969, ...,  0.07958984,\n",
      "        0.10473633,  0.13305664]), array([-0.1027832 , -0.27661133, -0.17358398, ...,  0.07836914,\n",
      "        0.10083008,  0.13110352]), array([-0.10205078, -0.27856445, -0.17553711, ...,  0.08032227,\n",
      "        0.10009766,  0.13061523]), array([-0.11083984, -0.29736328, -0.1862793 , ...,  0.07592773,\n",
      "        0.10083008,  0.12890625]), array([-0.10498047, -0.29077148, -0.19018555, ...,  0.08105469,\n",
      "        0.10253906,  0.13256836]), array([-0.10449219, -0.27880859, -0.17578125, ...,  0.07983398,\n",
      "        0.10498047,  0.13378906]), array([-0.10668945, -0.30175781, -0.18652344, ...,  0.07666016,\n",
      "        0.10180664,  0.13134766]), array([-0.10571289, -0.29370117, -0.18676758, ...,  0.08007812,\n",
      "        0.10424805,  0.13330078]), array([-0.10083008, -0.28808594, -0.18603516, ...,  0.08081055,\n",
      "        0.10449219,  0.13134766]), array([-0.10351562, -0.29589844, -0.18701172, ...,  0.078125  ,\n",
      "        0.10229492,  0.13452148]), array([-0.10522461, -0.29003906, -0.18017578, ...,  0.0769043 ,\n",
      "        0.10058594,  0.13012695]), array([-0.10449219, -0.29394531, -0.18554688, ...,  0.08129883,\n",
      "        0.09472656,  0.12841797]), array([-0.1027832 , -0.28833008, -0.19140625, ...,  0.07788086,\n",
      "        0.10131836,  0.13354492]), array([-0.10498047, -0.29125977, -0.18457031, ...,  0.07763672,\n",
      "        0.10229492,  0.13232422]), array([-0.10327148, -0.27954102, -0.17602539, ...,  0.0793457 ,\n",
      "        0.10498047,  0.1328125 ]), array([-0.10375977, -0.28442383, -0.17944336, ...,  0.07885742,\n",
      "        0.10498047,  0.1328125 ]), array([-0.1027832 , -0.27685547, -0.17553711, ...,  0.07885742,\n",
      "        0.10205078,  0.13012695]), array([-0.10253906, -0.28808594, -0.18945312, ...,  0.07763672,\n",
      "        0.10107422,  0.13061523]), array([-0.1003418 , -0.27832031, -0.17407227, ...,  0.078125  ,\n",
      "        0.10180664,  0.13305664]), array([-0.10400391, -0.2824707 , -0.18505859, ...,  0.07983398,\n",
      "        0.10546875,  0.13305664]), array([-0.10302734, -0.29101562, -0.19238281, ...,  0.08032227,\n",
      "        0.10546875,  0.13256836]), array([-0.10449219, -0.28930664, -0.18066406, ...,  0.08129883,\n",
      "        0.10205078,  0.13256836]), array([-0.10522461, -0.30273438, -0.1862793 , ...,  0.07788086,\n",
      "        0.10449219,  0.13208008]), array([-0.09960938, -0.27758789, -0.17382812, ...,  0.07592773,\n",
      "        0.09936523,  0.13085938]), array([-0.10717773, -0.28881836, -0.18969727, ...,  0.07788086,\n",
      "        0.10473633,  0.13330078]), array([-0.10498047, -0.27978516, -0.17578125, ...,  0.07641602,\n",
      "        0.10375977,  0.13085938]), array([-0.09887695, -0.27685547, -0.17456055, ...,  0.07763672,\n",
      "        0.10205078,  0.13305664]), array([-0.10107422, -0.2800293 , -0.17456055, ...,  0.07739258,\n",
      "        0.10571289,  0.1328125 ]), array([-0.09130859, -0.29077148, -0.18554688, ...,  0.08129883,\n",
      "        0.10620117,  0.13330078]), array([-0.09863281, -0.29394531, -0.18847656, ...,  0.0769043 ,\n",
      "        0.10498047,  0.13305664]), array([-0.10180664, -0.28686523, -0.1887207 , ...,  0.0793457 ,\n",
      "        0.10229492,  0.13500977]), array([-0.10058594, -0.27807617, -0.17407227, ...,  0.08056641,\n",
      "        0.10375977,  0.13330078]), array([-0.10253906, -0.27758789, -0.17431641, ...,  0.07788086,\n",
      "        0.10400391,  0.1315918 ]), array([-0.10644531, -0.28637695, -0.1809082 , ...,  0.07910156,\n",
      "        0.10327148,  0.13330078]), array([-0.10375977, -0.29907227, -0.18579102, ...,  0.07836914,\n",
      "        0.10302734,  0.13256836])]\n",
      "Traces one had original sample length of 56\n",
      "Traces zero had original sample length of 44\n",
      "[-0.10327584 -0.2872576  -0.18132673 ...  0.07853045  0.10294887\n",
      "  0.13225446] 5000 [-0.10309948 -0.28718151 -0.18205123 ...  0.07845792  0.10284979\n",
      "  0.13211337] 5000\n"
     ]
    },
    {
     "data": {
      "text/plain": [
       "'\\nif len(one_avg) != trace_length_one_list:\\n    raise ValueError(\"Average length is only %d - check you did correct dimensions!\"%one_avg)\\n\\nif len(zero_avg) != trace_length_zero_list:\\n    raise ValueError(\"Average length is only %d - check you did correct dimensions!\"%zero_avg)\\n'"
      ]
     },
     "execution_count": 33,
     "metadata": {},
     "output_type": "execute_result"
    }
   ],
   "source": [
    "print(one_list, zero_list)\n",
    "#trace_length_one_list = len(one_list[0])\n",
    "trace_length_one_list = len(one_list)\n",
    "print(\"Traces one had original sample length of %d\"%trace_length_one_list)\n",
    "\n",
    "#trace_length_zero_list = len(one_list[0])\n",
    "trace_length_zero_list = len(zero_list)\n",
    "print(\"Traces zero had original sample length of %d\"%trace_length_zero_list)\n",
    "\n",
    "# ###################\n",
    "# Add your code here\n",
    "# ###################\n",
    "#raise NotImplementedError(\"Add Your Code Here\")\n",
    "one_avg: float = np.mean(one_list, axis=0)\n",
    "zero_avg: float = np.mean(zero_list, axis=0)\n",
    "print(one_avg, len(one_avg), zero_avg, len(zero_avg))\n",
    "\"\"\"\n",
    "if len(one_avg) != trace_length_one_list:\n",
    "    raise ValueError(\"Average length is only %d - check you did correct dimensions!\"%one_avg)\n",
    "\n",
    "if len(zero_avg) != trace_length_zero_list:\n",
    "    raise ValueError(\"Average length is only %d - check you did correct dimensions!\"%zero_avg)\n",
    "\"\"\""
   ]
  },
  {
   "cell_type": "markdown",
   "metadata": {},
   "source": [
    "Finally, subtract the two averages and plot the resulting data:"
   ]
  },
  {
   "cell_type": "code",
   "execution_count": 34,
   "metadata": {},
   "outputs": [
    {
     "data": {
      "image/png": "[encoded data removed]",
      "text/plain": [
       "<Figure size 640x480 with 1 Axes>"
      ]
     },
     "metadata": {},
     "output_type": "display_data"
    }
   ],
   "source": [
    "# ###################\n",
    "# Add your code here\n",
    "# ###################\n",
    "#raise NotImplementedError(\"Add Your Code Here\")\n",
    "%matplotlib inline\n",
    "import matplotlib.pyplot as plt\n",
    "\n",
    "diff = one_avg - zero_avg\n",
    "\n",
    "plt.plot(diff)\n",
    "plt.show()"
   ]
  },
  {
   "cell_type": "markdown",
   "metadata": {},
   "source": [
    "You should see a very distinct trace near the beginning of the plot, meaning that the data being manipulated in the target device is visible in its power trace! Again, there's a lot of room to explore here:\n",
    "\n",
    "* Try setting multiple bytes to 0x00 and 0xFF.\n",
    "* Try using smaller hamming weight differences. Is the spike still distinct? What about if you capture more traces?\n",
    "* We focused on the first byte here. Try putting the difference plots for multiple different bytes on the same plot.\n",
    "* The target is running AES here. Can you get the spikes to appear in different places if you set a byte in a later round of AES (say round 5) to 0x00 or 0xFF?\n",
    "\n",
    "One other note that might trip you out: rememeber you are measuring the voltage at the input to ChipWhisperer, which is measured across a shunt resistor. The end result of this is that a lower voltage actually means more power. So you might see the spikes flipped from the \"expected\" direction based on a 1 taking more power than a 0."
   ]
  },
  {
   "cell_type": "markdown",
   "metadata": {},
   "source": [
    "---\n",
    "<small>NO-FUN DISCLAIMER: This material is Copyright (C) NewAE Technology Inc., 2015-2020. ChipWhisperer is a trademark of NewAE Technology Inc., claimed in all jurisdictions, and registered in at least the United States of America, European Union, and Peoples Republic of China.\n",
    "\n",
    "Tutorials derived from our open-source work must be released under the associated open-source license, and notice of the source must be *clearly displayed*. Only original copyright holders may license or authorize other distribution - while NewAE Technology Inc. holds the copyright for many tutorials, the github repository includes community contributions which we cannot license under special terms and **must** be maintained as an open-source release. Please contact us for special permissions (where possible).\n",
    "\n",
    "THE SOFTWARE IS PROVIDED \"AS IS\", WITHOUT WARRANTY OF ANY KIND, EXPRESS OR IMPLIED, INCLUDING BUT NOT LIMITED TO THE WARRANTIES OF MERCHANTABILITY, FITNESS FOR A PARTICULAR PURPOSE AND NONINFRINGEMENT. IN NO EVENT SHALL THE AUTHORS OR COPYRIGHT HOLDERS BE LIABLE FOR ANY CLAIM, DAMAGES OR OTHER LIABILITY, WHETHER IN AN ACTION OF CONTRACT, TORT OR OTHERWISE, ARISING FROM, OUT OF OR IN CONNECTION WITH THE SOFTWARE OR THE USE OR OTHER DEALINGS IN THE SOFTWARE.</small>"
   ]
  }
 ],
 "metadata": {
  "kernelspec": {
   "display_name": "Python 3 (ipykernel)",
   "language": "python",
   "name": "python3"
  },
  "language_info": {
   "codemirror_mode": {
    "name": "ipython",
    "version": 3
   },
   "file_extension": ".py",
   "mimetype": "text/x-python",
   "name": "python",
   "nbconvert_exporter": "python",
   "pygments_lexer": "ipython3",
   "version": "3.12.9"
  }
 },
 "nbformat": 4,
 "nbformat_minor": 4
}
